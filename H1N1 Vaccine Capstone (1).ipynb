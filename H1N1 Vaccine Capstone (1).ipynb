{
 "cells": [
  {
   "cell_type": "markdown",
   "id": "92b82b04",
   "metadata": {},
   "source": [
    "## Fluvaccine imbalanced data on h1n1_vaccine"
   ]
  },
  {
   "cell_type": "markdown",
   "id": "f465f4ed",
   "metadata": {},
   "source": [
    "## Overview\n",
    "Can you predict whether people got H1N1 and seasonal flu vaccines using information they shared about their backgrounds, opinions, and health behaviors?\n",
    "\n",
    "In this challenge, we will take a look at vaccination, a key public health measure used to fight infectious diseases. Vaccines provide immunization for individuals, and enough immunization in a community can further reduce the spread of diseases through \"herd immunity.\"\n",
    "\n",
    "As of the launch of this competition, vaccines for the COVID-19 virus are still under development and not yet available. The competition will instead revisit the public health response to a different recent major respiratory disease pandemic. Beginning in spring 2009, a pandemic caused by the H1N1 influenza virus, colloquially named \"swine flu,\" swept across the world. Researchers estimate that in the first year, it was responsible for between 151,000 to 575,000 deaths globally.\n",
    "\n",
    "A vaccine for the H1N1 flu virus became publicly available in October 2009. In late 2009 and early 2010, the United States conducted the National 2009 H1N1 Flu Survey. This phone survey asked respondents whether they had received the H1N1 and seasonal flu vaccines, in conjunction with questions about themselves. These additional questions covered their social, economic, and demographic background, opinions on risks of illness and vaccine effectiveness, and behaviors towards mitigating transmission. A better understanding of how these characteristics are associated with personal vaccination patterns can provide guidance for future public health efforts."
   ]
  },
  {
   "cell_type": "markdown",
   "id": "4dab8768",
   "metadata": {},
   "source": [
    "## About the data\n",
    "The data for this competition comes from the National 2009 H1N1 Flu Survey (NHFS).\n",
    "\n",
    "In their own words:\n",
    "\n",
    "The National 2009 H1N1 Flu Survey (NHFS) was sponsored by the National Center for Immunization and Respiratory Diseases (NCIRD) and conducted jointly by NCIRD and the National Center for Health Statistics (NCHS), Centers for Disease Control and Prevention (CDC). The NHFS was a list-assisted random-digit-dialing telephone survey of households, designed to monitor influenza immunization coverage in the 2009-10 season.\n",
    "\n",
    "The target population for the NHFS was all persons 6 months or older living in the United States at the time of the interview. Data from the NHFS were used to produce timely estimates of vaccination coverage rates for both the monovalent pH1N1 and trivalent seasonal influenza vaccines."
   ]
  },
  {
   "cell_type": "markdown",
   "id": "e2ef2a6e",
   "metadata": {},
   "source": [
    "## Problem Statement\n",
    "Your goal is to predict how likely individuals are to receive their H1N1 and seasonal flu vaccines. Specifically, you'll be predicting two probabilities: one for h1n1_vaccine and one for seasonal_vaccine.\n",
    "\n",
    "Each row in the dataset represents one person who responded to the National 2009 H1N1 Flu Survey."
   ]
  },
  {
   "cell_type": "markdown",
   "id": "3e9f1dd9",
   "metadata": {},
   "source": [
    "## Target Variables\n",
    "For this competition, there are two target variables:\n",
    "\n",
    "h1n1_vaccine - Whether respondent received H1N1 flu vaccine.\n",
    "seasonal_vaccine - Whether respondent received seasonal flu vaccine.\n",
    "Both are binary variables: 0 = No; 1 = Yes. Some respondents didn't get either vaccine, others got only one, and some got both. This is formulated as a multilabel (and not multiclass) problem."
   ]
  },
  {
   "cell_type": "markdown",
   "id": "30341d02",
   "metadata": {},
   "source": [
    "## The features in this dataset\n",
    "You are provided a dataset with 36 columns. The first column respondent_id is a unique and random identifier. The remaining 35 features are described below.\n",
    "\n",
    "For all binary variables: 0 = No; 1 = Yes.\n",
    "\n",
    "#### h1n1_concern - Level of concern about the H1N1 flu.0 = Not at all concerned; 1 = Not very concerned; 2 = Somewhat concerned; 3 = Very concerned.\n",
    "#### h1n1_knowledge - Level of knowledge about H1N1 flu.0 = No knowledge; 1 = A little knowledge; 2 = A lot of knowledge.\n",
    "#### behavioral_antiviral_meds - Has taken antiviral medications. (binary)\n",
    "#### behavioral_avoidance - Has avoided close contact with others with flu-like symptoms. (binary)\n",
    "#### behavioral_face_mask - Has bought a face mask. (binary)\n",
    "#### behavioral_wash_hands - Has frequently washed hands or used hand sanitizer. (binary)\n",
    "#### behavioral_large_gatherings - Has reduced time at large gatherings. (binary)\n",
    "#### behavioral_outside_home - Has reduced contact with people outside of own household. (binary)\n",
    "#### behavioral_touch_face - Has avoided touching eyes, nose, or mouth. (binary)\n",
    "#### doctor_recc_h1n1 - H1N1 flu vaccine was recommended by doctor. (binary)\n",
    "#### doctor_recc_seasonal - Seasonal flu vaccine was recommended by doctor. (binary)\n",
    "#### chronic_med_condition - Has any of the following chronic medical conditions: asthma or an other lung condition, diabetes, a heart condition, a kidney condition, sickle cell anemia or other anemia, a neurological or neuromuscular condition, a liver condition, or a weakened immune system caused by a chronic illness or by medicines taken for a chronic illness. (binary)\n",
    "#### child_under_6_months - Has regular close contact with a child under the age of six months. (binary)\n",
    "#### health_worker - Is a healthcare worker. (binary)\n",
    "#### health_insurance - Has health insurance. (binary)\n",
    "#### opinion_h1n1_vacc_effective - Respondent's opinion about H1N1 vaccine effectiveness.1 = Not at all effective; 2 = Not very effective; 3 = Don't know; 4 = Somewhat effective; 5 = Very effective.\n",
    "#### opinion_h1n1_risk - Respondent's opinion about risk of getting sick with H1N1 flu without vaccine.1 = Very Low; 2 = Somewhat low; 3 = Don't know; 4 = Somewhat high; 5 = Very high.\n",
    "#### opinion_h1n1_sick_from_vacc - Respondent's worry of getting sick from taking H1N1 vaccine.1 = Not at all worried; 2 = Not very worried; 3 = Don't know; 4 = Somewhat worried; 5 = Very worried.\n",
    "#### opinion_seas_vacc_effective - Respondent's opinion about seasonal flu vaccine effectiveness.1 = Not at all effective; 2 = Not very effective; 3 = Don't know; 4 = Somewhat effective; 5 = Very effective.\n",
    "#### opinion_seas_risk - Respondent's opinion about risk of getting sick with seasonal flu without vaccine.1 = Very Low; 2 = Somewhat low; 3 = Don't know; 4 = Somewhat high; 5 = Very high.\n",
    "#### opinion_seas_sick_from_vacc - Respondent's worry of getting sick from taking seasonal flu vaccine.1 = Not at all worried; 2 = Not very worried; 3 = Don't know; 4 = Somewhat worried; 5 = Very worried.\n",
    "#### age_group - Age group of respondent.\n",
    "#### education - Self-reported education level.\n",
    "#### race - Race of respondent.\n",
    "#### sex - Sex of respondent.\n",
    "#### income_poverty - Household annual income of respondent with respect to 2008 Census poverty thresholds.\n",
    "#### marital_status - Marital status of respondent.\n",
    "#### rent_or_own - Housing situation of respondent.\n",
    "#### employment_status - Employment status of respondent.\n",
    "#### hhs_geo_region - Respondent's residence using a 10-region geographic classification defined by the U.S. Dept. of Health and Human Services. Values are represented as short random character strings.\n",
    "#### census_msa - Respondent's residence within metropolitan statistical areas (MSA) as defined by the U.S. Census.\n",
    "#### household_adults - Number of other adults in household, top-coded to 3.\n",
    "#### household_children - Number of children in household, top-coded to 3.\n",
    "#### employment_industry - Type of industry respondent is employed in. Values are represented as short random character strings.\n",
    "#### employment_occupation - Type of occupation of respondent. Values are represented as short random character strings."
   ]
  },
  {
   "cell_type": "markdown",
   "id": "a585f246",
   "metadata": {},
   "source": [
    "## Performance metric\n",
    "Performance will be evaluated according to the area under the receiver operating characteristic curve (ROC AUC) for each of the two target variables. The mean of these two scores will be the overall score. A higher value indicates stronger performance."
   ]
  },
  {
   "cell_type": "markdown",
   "id": "5e8d5e74",
   "metadata": {},
   "source": [
    "### In this data i am working with H1N1 Vaccine which is imbalanced Data"
   ]
  },
  {
   "cell_type": "code",
   "execution_count": 1,
   "id": "c8582ab2",
   "metadata": {},
   "outputs": [],
   "source": [
    "import pandas as pd\n",
    "import numpy as np\n",
    "import matplotlib.pyplot as plt\n",
    "%matplotlib inline\n",
    "import seaborn as sns\n",
    "import io\n",
    "import os"
   ]
  },
  {
   "cell_type": "code",
   "execution_count": 2,
   "id": "503b4b1d",
   "metadata": {},
   "outputs": [
    {
     "name": "stdout",
     "output_type": "stream",
     "text": [
      "C:\\Users\\trish\\OneDrive\\Desktop\\stats\\capstone project\n"
     ]
    }
   ],
   "source": [
    "%cd \"C:\\Users\\trish\\OneDrive\\Desktop\\stats\\capstone project\""
   ]
  },
  {
   "cell_type": "code",
   "execution_count": 3,
   "id": "7f05f952",
   "metadata": {},
   "outputs": [],
   "source": [
    "flutrain=pd.read_csv(\"training_set_features.csv\")"
   ]
  },
  {
   "cell_type": "code",
   "execution_count": 4,
   "id": "627edf7c",
   "metadata": {},
   "outputs": [],
   "source": [
    "flutest=pd.read_csv(\"test_set_features.csv\")"
   ]
  },
  {
   "cell_type": "code",
   "execution_count": 5,
   "id": "24642f15",
   "metadata": {},
   "outputs": [],
   "source": [
    "flulabel=pd.read_csv(\"training_set_labels.csv\")"
   ]
  },
  {
   "cell_type": "markdown",
   "id": "b40a922e",
   "metadata": {},
   "source": [
    "## Exploratory Data Analysis"
   ]
  },
  {
   "cell_type": "code",
   "execution_count": 6,
   "id": "1b1695e4",
   "metadata": {},
   "outputs": [
    {
     "data": {
      "text/html": [
       "<div>\n",
       "<style scoped>\n",
       "    .dataframe tbody tr th:only-of-type {\n",
       "        vertical-align: middle;\n",
       "    }\n",
       "\n",
       "    .dataframe tbody tr th {\n",
       "        vertical-align: top;\n",
       "    }\n",
       "\n",
       "    .dataframe thead th {\n",
       "        text-align: right;\n",
       "    }\n",
       "</style>\n",
       "<table border=\"1\" class=\"dataframe\">\n",
       "  <thead>\n",
       "    <tr style=\"text-align: right;\">\n",
       "      <th></th>\n",
       "      <th>respondent_id</th>\n",
       "      <th>h1n1_concern</th>\n",
       "      <th>h1n1_knowledge</th>\n",
       "      <th>behavioral_antiviral_meds</th>\n",
       "      <th>behavioral_avoidance</th>\n",
       "      <th>behavioral_face_mask</th>\n",
       "      <th>behavioral_wash_hands</th>\n",
       "      <th>behavioral_large_gatherings</th>\n",
       "      <th>behavioral_outside_home</th>\n",
       "      <th>behavioral_touch_face</th>\n",
       "      <th>...</th>\n",
       "      <th>income_poverty</th>\n",
       "      <th>marital_status</th>\n",
       "      <th>rent_or_own</th>\n",
       "      <th>employment_status</th>\n",
       "      <th>hhs_geo_region</th>\n",
       "      <th>census_msa</th>\n",
       "      <th>household_adults</th>\n",
       "      <th>household_children</th>\n",
       "      <th>employment_industry</th>\n",
       "      <th>employment_occupation</th>\n",
       "    </tr>\n",
       "  </thead>\n",
       "  <tbody>\n",
       "    <tr>\n",
       "      <th>0</th>\n",
       "      <td>0</td>\n",
       "      <td>1.0</td>\n",
       "      <td>0.0</td>\n",
       "      <td>0.0</td>\n",
       "      <td>0.0</td>\n",
       "      <td>0.0</td>\n",
       "      <td>0.0</td>\n",
       "      <td>0.0</td>\n",
       "      <td>1.0</td>\n",
       "      <td>1.0</td>\n",
       "      <td>...</td>\n",
       "      <td>Below Poverty</td>\n",
       "      <td>Not Married</td>\n",
       "      <td>Own</td>\n",
       "      <td>Not in Labor Force</td>\n",
       "      <td>oxchjgsf</td>\n",
       "      <td>Non-MSA</td>\n",
       "      <td>0.0</td>\n",
       "      <td>0.0</td>\n",
       "      <td>NaN</td>\n",
       "      <td>NaN</td>\n",
       "    </tr>\n",
       "    <tr>\n",
       "      <th>1</th>\n",
       "      <td>1</td>\n",
       "      <td>3.0</td>\n",
       "      <td>2.0</td>\n",
       "      <td>0.0</td>\n",
       "      <td>1.0</td>\n",
       "      <td>0.0</td>\n",
       "      <td>1.0</td>\n",
       "      <td>0.0</td>\n",
       "      <td>1.0</td>\n",
       "      <td>1.0</td>\n",
       "      <td>...</td>\n",
       "      <td>Below Poverty</td>\n",
       "      <td>Not Married</td>\n",
       "      <td>Rent</td>\n",
       "      <td>Employed</td>\n",
       "      <td>bhuqouqj</td>\n",
       "      <td>MSA, Not Principle  City</td>\n",
       "      <td>0.0</td>\n",
       "      <td>0.0</td>\n",
       "      <td>pxcmvdjn</td>\n",
       "      <td>xgwztkwe</td>\n",
       "    </tr>\n",
       "    <tr>\n",
       "      <th>2</th>\n",
       "      <td>2</td>\n",
       "      <td>1.0</td>\n",
       "      <td>1.0</td>\n",
       "      <td>0.0</td>\n",
       "      <td>1.0</td>\n",
       "      <td>0.0</td>\n",
       "      <td>0.0</td>\n",
       "      <td>0.0</td>\n",
       "      <td>0.0</td>\n",
       "      <td>0.0</td>\n",
       "      <td>...</td>\n",
       "      <td>&lt;= $75,000, Above Poverty</td>\n",
       "      <td>Not Married</td>\n",
       "      <td>Own</td>\n",
       "      <td>Employed</td>\n",
       "      <td>qufhixun</td>\n",
       "      <td>MSA, Not Principle  City</td>\n",
       "      <td>2.0</td>\n",
       "      <td>0.0</td>\n",
       "      <td>rucpziij</td>\n",
       "      <td>xtkaffoo</td>\n",
       "    </tr>\n",
       "    <tr>\n",
       "      <th>3</th>\n",
       "      <td>3</td>\n",
       "      <td>1.0</td>\n",
       "      <td>1.0</td>\n",
       "      <td>0.0</td>\n",
       "      <td>1.0</td>\n",
       "      <td>0.0</td>\n",
       "      <td>1.0</td>\n",
       "      <td>1.0</td>\n",
       "      <td>0.0</td>\n",
       "      <td>0.0</td>\n",
       "      <td>...</td>\n",
       "      <td>Below Poverty</td>\n",
       "      <td>Not Married</td>\n",
       "      <td>Rent</td>\n",
       "      <td>Not in Labor Force</td>\n",
       "      <td>lrircsnp</td>\n",
       "      <td>MSA, Principle City</td>\n",
       "      <td>0.0</td>\n",
       "      <td>0.0</td>\n",
       "      <td>NaN</td>\n",
       "      <td>NaN</td>\n",
       "    </tr>\n",
       "    <tr>\n",
       "      <th>4</th>\n",
       "      <td>4</td>\n",
       "      <td>2.0</td>\n",
       "      <td>1.0</td>\n",
       "      <td>0.0</td>\n",
       "      <td>1.0</td>\n",
       "      <td>0.0</td>\n",
       "      <td>1.0</td>\n",
       "      <td>1.0</td>\n",
       "      <td>0.0</td>\n",
       "      <td>1.0</td>\n",
       "      <td>...</td>\n",
       "      <td>&lt;= $75,000, Above Poverty</td>\n",
       "      <td>Married</td>\n",
       "      <td>Own</td>\n",
       "      <td>Employed</td>\n",
       "      <td>qufhixun</td>\n",
       "      <td>MSA, Not Principle  City</td>\n",
       "      <td>1.0</td>\n",
       "      <td>0.0</td>\n",
       "      <td>wxleyezf</td>\n",
       "      <td>emcorrxb</td>\n",
       "    </tr>\n",
       "  </tbody>\n",
       "</table>\n",
       "<p>5 rows × 36 columns</p>\n",
       "</div>"
      ],
      "text/plain": [
       "   respondent_id  h1n1_concern  h1n1_knowledge  behavioral_antiviral_meds  \\\n",
       "0              0           1.0             0.0                        0.0   \n",
       "1              1           3.0             2.0                        0.0   \n",
       "2              2           1.0             1.0                        0.0   \n",
       "3              3           1.0             1.0                        0.0   \n",
       "4              4           2.0             1.0                        0.0   \n",
       "\n",
       "   behavioral_avoidance  behavioral_face_mask  behavioral_wash_hands  \\\n",
       "0                   0.0                   0.0                    0.0   \n",
       "1                   1.0                   0.0                    1.0   \n",
       "2                   1.0                   0.0                    0.0   \n",
       "3                   1.0                   0.0                    1.0   \n",
       "4                   1.0                   0.0                    1.0   \n",
       "\n",
       "   behavioral_large_gatherings  behavioral_outside_home  \\\n",
       "0                          0.0                      1.0   \n",
       "1                          0.0                      1.0   \n",
       "2                          0.0                      0.0   \n",
       "3                          1.0                      0.0   \n",
       "4                          1.0                      0.0   \n",
       "\n",
       "   behavioral_touch_face  ...             income_poverty  marital_status  \\\n",
       "0                    1.0  ...              Below Poverty     Not Married   \n",
       "1                    1.0  ...              Below Poverty     Not Married   \n",
       "2                    0.0  ...  <= $75,000, Above Poverty     Not Married   \n",
       "3                    0.0  ...              Below Poverty     Not Married   \n",
       "4                    1.0  ...  <= $75,000, Above Poverty         Married   \n",
       "\n",
       "   rent_or_own   employment_status  hhs_geo_region                census_msa  \\\n",
       "0          Own  Not in Labor Force        oxchjgsf                   Non-MSA   \n",
       "1         Rent            Employed        bhuqouqj  MSA, Not Principle  City   \n",
       "2          Own            Employed        qufhixun  MSA, Not Principle  City   \n",
       "3         Rent  Not in Labor Force        lrircsnp       MSA, Principle City   \n",
       "4          Own            Employed        qufhixun  MSA, Not Principle  City   \n",
       "\n",
       "   household_adults  household_children  employment_industry  \\\n",
       "0               0.0                 0.0                  NaN   \n",
       "1               0.0                 0.0             pxcmvdjn   \n",
       "2               2.0                 0.0             rucpziij   \n",
       "3               0.0                 0.0                  NaN   \n",
       "4               1.0                 0.0             wxleyezf   \n",
       "\n",
       "   employment_occupation  \n",
       "0                    NaN  \n",
       "1               xgwztkwe  \n",
       "2               xtkaffoo  \n",
       "3                    NaN  \n",
       "4               emcorrxb  \n",
       "\n",
       "[5 rows x 36 columns]"
      ]
     },
     "execution_count": 6,
     "metadata": {},
     "output_type": "execute_result"
    }
   ],
   "source": [
    "flutrain.head()"
   ]
  },
  {
   "cell_type": "code",
   "execution_count": 7,
   "id": "894774f6",
   "metadata": {},
   "outputs": [
    {
     "data": {
      "text/html": [
       "<div>\n",
       "<style scoped>\n",
       "    .dataframe tbody tr th:only-of-type {\n",
       "        vertical-align: middle;\n",
       "    }\n",
       "\n",
       "    .dataframe tbody tr th {\n",
       "        vertical-align: top;\n",
       "    }\n",
       "\n",
       "    .dataframe thead th {\n",
       "        text-align: right;\n",
       "    }\n",
       "</style>\n",
       "<table border=\"1\" class=\"dataframe\">\n",
       "  <thead>\n",
       "    <tr style=\"text-align: right;\">\n",
       "      <th></th>\n",
       "      <th>respondent_id</th>\n",
       "      <th>h1n1_concern</th>\n",
       "      <th>h1n1_knowledge</th>\n",
       "      <th>behavioral_antiviral_meds</th>\n",
       "      <th>behavioral_avoidance</th>\n",
       "      <th>behavioral_face_mask</th>\n",
       "      <th>behavioral_wash_hands</th>\n",
       "      <th>behavioral_large_gatherings</th>\n",
       "      <th>behavioral_outside_home</th>\n",
       "      <th>behavioral_touch_face</th>\n",
       "      <th>...</th>\n",
       "      <th>income_poverty</th>\n",
       "      <th>marital_status</th>\n",
       "      <th>rent_or_own</th>\n",
       "      <th>employment_status</th>\n",
       "      <th>hhs_geo_region</th>\n",
       "      <th>census_msa</th>\n",
       "      <th>household_adults</th>\n",
       "      <th>household_children</th>\n",
       "      <th>employment_industry</th>\n",
       "      <th>employment_occupation</th>\n",
       "    </tr>\n",
       "  </thead>\n",
       "  <tbody>\n",
       "    <tr>\n",
       "      <th>0</th>\n",
       "      <td>26707</td>\n",
       "      <td>2.0</td>\n",
       "      <td>2.0</td>\n",
       "      <td>0.0</td>\n",
       "      <td>1.0</td>\n",
       "      <td>0.0</td>\n",
       "      <td>1.0</td>\n",
       "      <td>1.0</td>\n",
       "      <td>0.0</td>\n",
       "      <td>1.0</td>\n",
       "      <td>...</td>\n",
       "      <td>&gt; $75,000</td>\n",
       "      <td>Not Married</td>\n",
       "      <td>Rent</td>\n",
       "      <td>Employed</td>\n",
       "      <td>mlyzmhmf</td>\n",
       "      <td>MSA, Not Principle  City</td>\n",
       "      <td>1.0</td>\n",
       "      <td>0.0</td>\n",
       "      <td>atmlpfrs</td>\n",
       "      <td>hfxkjkmi</td>\n",
       "    </tr>\n",
       "    <tr>\n",
       "      <th>1</th>\n",
       "      <td>26708</td>\n",
       "      <td>1.0</td>\n",
       "      <td>1.0</td>\n",
       "      <td>0.0</td>\n",
       "      <td>0.0</td>\n",
       "      <td>0.0</td>\n",
       "      <td>0.0</td>\n",
       "      <td>0.0</td>\n",
       "      <td>0.0</td>\n",
       "      <td>0.0</td>\n",
       "      <td>...</td>\n",
       "      <td>Below Poverty</td>\n",
       "      <td>Not Married</td>\n",
       "      <td>Rent</td>\n",
       "      <td>Employed</td>\n",
       "      <td>bhuqouqj</td>\n",
       "      <td>Non-MSA</td>\n",
       "      <td>3.0</td>\n",
       "      <td>0.0</td>\n",
       "      <td>atmlpfrs</td>\n",
       "      <td>xqwwgdyp</td>\n",
       "    </tr>\n",
       "    <tr>\n",
       "      <th>2</th>\n",
       "      <td>26709</td>\n",
       "      <td>2.0</td>\n",
       "      <td>2.0</td>\n",
       "      <td>0.0</td>\n",
       "      <td>0.0</td>\n",
       "      <td>1.0</td>\n",
       "      <td>1.0</td>\n",
       "      <td>1.0</td>\n",
       "      <td>1.0</td>\n",
       "      <td>1.0</td>\n",
       "      <td>...</td>\n",
       "      <td>&gt; $75,000</td>\n",
       "      <td>Married</td>\n",
       "      <td>Own</td>\n",
       "      <td>Employed</td>\n",
       "      <td>lrircsnp</td>\n",
       "      <td>Non-MSA</td>\n",
       "      <td>1.0</td>\n",
       "      <td>0.0</td>\n",
       "      <td>nduyfdeo</td>\n",
       "      <td>pvmttkik</td>\n",
       "    </tr>\n",
       "    <tr>\n",
       "      <th>3</th>\n",
       "      <td>26710</td>\n",
       "      <td>1.0</td>\n",
       "      <td>1.0</td>\n",
       "      <td>0.0</td>\n",
       "      <td>0.0</td>\n",
       "      <td>0.0</td>\n",
       "      <td>0.0</td>\n",
       "      <td>0.0</td>\n",
       "      <td>0.0</td>\n",
       "      <td>0.0</td>\n",
       "      <td>...</td>\n",
       "      <td>&lt;= $75,000, Above Poverty</td>\n",
       "      <td>Married</td>\n",
       "      <td>Own</td>\n",
       "      <td>Not in Labor Force</td>\n",
       "      <td>lrircsnp</td>\n",
       "      <td>MSA, Not Principle  City</td>\n",
       "      <td>1.0</td>\n",
       "      <td>0.0</td>\n",
       "      <td>NaN</td>\n",
       "      <td>NaN</td>\n",
       "    </tr>\n",
       "    <tr>\n",
       "      <th>4</th>\n",
       "      <td>26711</td>\n",
       "      <td>3.0</td>\n",
       "      <td>1.0</td>\n",
       "      <td>1.0</td>\n",
       "      <td>1.0</td>\n",
       "      <td>0.0</td>\n",
       "      <td>1.0</td>\n",
       "      <td>1.0</td>\n",
       "      <td>1.0</td>\n",
       "      <td>1.0</td>\n",
       "      <td>...</td>\n",
       "      <td>&lt;= $75,000, Above Poverty</td>\n",
       "      <td>Not Married</td>\n",
       "      <td>Own</td>\n",
       "      <td>Employed</td>\n",
       "      <td>lzgpxyit</td>\n",
       "      <td>Non-MSA</td>\n",
       "      <td>0.0</td>\n",
       "      <td>1.0</td>\n",
       "      <td>fcxhlnwr</td>\n",
       "      <td>mxkfnird</td>\n",
       "    </tr>\n",
       "  </tbody>\n",
       "</table>\n",
       "<p>5 rows × 36 columns</p>\n",
       "</div>"
      ],
      "text/plain": [
       "   respondent_id  h1n1_concern  h1n1_knowledge  behavioral_antiviral_meds  \\\n",
       "0          26707           2.0             2.0                        0.0   \n",
       "1          26708           1.0             1.0                        0.0   \n",
       "2          26709           2.0             2.0                        0.0   \n",
       "3          26710           1.0             1.0                        0.0   \n",
       "4          26711           3.0             1.0                        1.0   \n",
       "\n",
       "   behavioral_avoidance  behavioral_face_mask  behavioral_wash_hands  \\\n",
       "0                   1.0                   0.0                    1.0   \n",
       "1                   0.0                   0.0                    0.0   \n",
       "2                   0.0                   1.0                    1.0   \n",
       "3                   0.0                   0.0                    0.0   \n",
       "4                   1.0                   0.0                    1.0   \n",
       "\n",
       "   behavioral_large_gatherings  behavioral_outside_home  \\\n",
       "0                          1.0                      0.0   \n",
       "1                          0.0                      0.0   \n",
       "2                          1.0                      1.0   \n",
       "3                          0.0                      0.0   \n",
       "4                          1.0                      1.0   \n",
       "\n",
       "   behavioral_touch_face  ...             income_poverty  marital_status  \\\n",
       "0                    1.0  ...                  > $75,000     Not Married   \n",
       "1                    0.0  ...              Below Poverty     Not Married   \n",
       "2                    1.0  ...                  > $75,000         Married   \n",
       "3                    0.0  ...  <= $75,000, Above Poverty         Married   \n",
       "4                    1.0  ...  <= $75,000, Above Poverty     Not Married   \n",
       "\n",
       "   rent_or_own   employment_status  hhs_geo_region                census_msa  \\\n",
       "0         Rent            Employed        mlyzmhmf  MSA, Not Principle  City   \n",
       "1         Rent            Employed        bhuqouqj                   Non-MSA   \n",
       "2          Own            Employed        lrircsnp                   Non-MSA   \n",
       "3          Own  Not in Labor Force        lrircsnp  MSA, Not Principle  City   \n",
       "4          Own            Employed        lzgpxyit                   Non-MSA   \n",
       "\n",
       "   household_adults  household_children  employment_industry  \\\n",
       "0               1.0                 0.0             atmlpfrs   \n",
       "1               3.0                 0.0             atmlpfrs   \n",
       "2               1.0                 0.0             nduyfdeo   \n",
       "3               1.0                 0.0                  NaN   \n",
       "4               0.0                 1.0             fcxhlnwr   \n",
       "\n",
       "   employment_occupation  \n",
       "0               hfxkjkmi  \n",
       "1               xqwwgdyp  \n",
       "2               pvmttkik  \n",
       "3                    NaN  \n",
       "4               mxkfnird  \n",
       "\n",
       "[5 rows x 36 columns]"
      ]
     },
     "execution_count": 7,
     "metadata": {},
     "output_type": "execute_result"
    }
   ],
   "source": [
    "flutest.head()"
   ]
  },
  {
   "cell_type": "code",
   "execution_count": 8,
   "id": "55bfed44",
   "metadata": {},
   "outputs": [
    {
     "data": {
      "text/html": [
       "<div>\n",
       "<style scoped>\n",
       "    .dataframe tbody tr th:only-of-type {\n",
       "        vertical-align: middle;\n",
       "    }\n",
       "\n",
       "    .dataframe tbody tr th {\n",
       "        vertical-align: top;\n",
       "    }\n",
       "\n",
       "    .dataframe thead th {\n",
       "        text-align: right;\n",
       "    }\n",
       "</style>\n",
       "<table border=\"1\" class=\"dataframe\">\n",
       "  <thead>\n",
       "    <tr style=\"text-align: right;\">\n",
       "      <th></th>\n",
       "      <th>respondent_id</th>\n",
       "      <th>h1n1_vaccine</th>\n",
       "      <th>seasonal_vaccine</th>\n",
       "    </tr>\n",
       "  </thead>\n",
       "  <tbody>\n",
       "    <tr>\n",
       "      <th>0</th>\n",
       "      <td>0</td>\n",
       "      <td>0</td>\n",
       "      <td>0</td>\n",
       "    </tr>\n",
       "    <tr>\n",
       "      <th>1</th>\n",
       "      <td>1</td>\n",
       "      <td>0</td>\n",
       "      <td>1</td>\n",
       "    </tr>\n",
       "    <tr>\n",
       "      <th>2</th>\n",
       "      <td>2</td>\n",
       "      <td>0</td>\n",
       "      <td>0</td>\n",
       "    </tr>\n",
       "    <tr>\n",
       "      <th>3</th>\n",
       "      <td>3</td>\n",
       "      <td>0</td>\n",
       "      <td>1</td>\n",
       "    </tr>\n",
       "    <tr>\n",
       "      <th>4</th>\n",
       "      <td>4</td>\n",
       "      <td>0</td>\n",
       "      <td>0</td>\n",
       "    </tr>\n",
       "  </tbody>\n",
       "</table>\n",
       "</div>"
      ],
      "text/plain": [
       "   respondent_id  h1n1_vaccine  seasonal_vaccine\n",
       "0              0             0                 0\n",
       "1              1             0                 1\n",
       "2              2             0                 0\n",
       "3              3             0                 1\n",
       "4              4             0                 0"
      ]
     },
     "execution_count": 8,
     "metadata": {},
     "output_type": "execute_result"
    }
   ],
   "source": [
    "flulabel.head()"
   ]
  },
  {
   "cell_type": "markdown",
   "id": "3ebec991",
   "metadata": {},
   "source": [
    "#### As there is duplicate column called repondent_id in all three datasets (train test and label) we will drop that column  from all of them\n"
   ]
  },
  {
   "cell_type": "code",
   "execution_count": 9,
   "id": "4a339335",
   "metadata": {},
   "outputs": [],
   "source": [
    "flutrain=flutrain.drop('respondent_id',axis=1)\n",
    "flutest=flutest.drop('respondent_id',axis=1)\n",
    "flulabel=flulabel.drop('respondent_id',axis=1)"
   ]
  },
  {
   "cell_type": "code",
   "execution_count": 10,
   "id": "01d84241",
   "metadata": {},
   "outputs": [],
   "source": [
    "flu=pd.concat([flutrain,flutest],axis=0)"
   ]
  },
  {
   "cell_type": "code",
   "execution_count": 11,
   "id": "635ef064",
   "metadata": {},
   "outputs": [
    {
     "data": {
      "image/png": "[encoded data removed]",
      "text/plain": [
       "<Figure size 640x480 with 1 Axes>"
      ]
     },
     "metadata": {},
     "output_type": "display_data"
    }
   ],
   "source": [
    "ax=flulabel.seasonal_vaccine.value_counts().plot(kind='bar')\n",
    "for i in ax.containers:\n",
    "    ax.bar_label(i)"
   ]
  },
  {
   "cell_type": "code",
   "execution_count": 12,
   "id": "09062f8d",
   "metadata": {
    "scrolled": true
   },
   "outputs": [
    {
     "data": {
      "image/png": "[encoded data removed]",
      "text/plain": [
       "<Figure size 640x480 with 1 Axes>"
      ]
     },
     "metadata": {},
     "output_type": "display_data"
    }
   ],
   "source": [
    "ax=flulabel.h1n1_vaccine.value_counts().plot(kind='bar')\n",
    "for i in ax.containers:\n",
    "    ax.bar_label(i)\n",
    "# As there is imbalance in data we will work on this imbalance data"
   ]
  },
  {
   "cell_type": "code",
   "execution_count": 13,
   "id": "368bc36c",
   "metadata": {},
   "outputs": [
    {
     "name": "stdout",
     "output_type": "stream",
     "text": [
      "<class 'pandas.core.frame.DataFrame'>\n",
      "Index: 53415 entries, 0 to 26707\n",
      "Data columns (total 35 columns):\n",
      " #   Column                       Non-Null Count  Dtype  \n",
      "---  ------                       --------------  -----  \n",
      " 0   h1n1_concern                 53238 non-null  float64\n",
      " 1   h1n1_knowledge               53177 non-null  float64\n",
      " 2   behavioral_antiviral_meds    53265 non-null  float64\n",
      " 3   behavioral_avoidance         52994 non-null  float64\n",
      " 4   behavioral_face_mask         53377 non-null  float64\n",
      " 5   behavioral_wash_hands        53333 non-null  float64\n",
      " 6   behavioral_large_gatherings  53256 non-null  float64\n",
      " 7   behavioral_outside_home      53251 non-null  float64\n",
      " 8   behavioral_touch_face        53159 non-null  float64\n",
      " 9   doctor_recc_h1n1             49095 non-null  float64\n",
      " 10  doctor_recc_seasonal         49095 non-null  float64\n",
      " 11  chronic_med_condition        51512 non-null  float64\n",
      " 12  child_under_6_months         51782 non-null  float64\n",
      " 13  health_worker                51822 non-null  float64\n",
      " 14  health_insurance             28913 non-null  float64\n",
      " 15  opinion_h1n1_vacc_effective  52626 non-null  float64\n",
      " 16  opinion_h1n1_risk            52647 non-null  float64\n",
      " 17  opinion_h1n1_sick_from_vacc  52645 non-null  float64\n",
      " 18  opinion_seas_vacc_effective  52501 non-null  float64\n",
      " 19  opinion_seas_risk            52402 non-null  float64\n",
      " 20  opinion_seas_sick_from_vacc  52357 non-null  float64\n",
      " 21  age_group                    53415 non-null  object \n",
      " 22  education                    50601 non-null  object \n",
      " 23  race                         53415 non-null  object \n",
      " 24  sex                          53415 non-null  object \n",
      " 25  income_poverty               44495 non-null  object \n",
      " 26  marital_status               50565 non-null  object \n",
      " 27  rent_or_own                  49337 non-null  object \n",
      " 28  employment_status            50481 non-null  object \n",
      " 29  hhs_geo_region               53415 non-null  object \n",
      " 30  census_msa                   53415 non-null  object \n",
      " 31  household_adults             52941 non-null  float64\n",
      " 32  household_children           52941 non-null  float64\n",
      " 33  employment_industry          26810 non-null  object \n",
      " 34  employment_occupation        26519 non-null  object \n",
      "dtypes: float64(23), object(12)\n",
      "memory usage: 14.7+ MB\n"
     ]
    }
   ],
   "source": [
    "flu.info()"
   ]
  },
  {
   "cell_type": "markdown",
   "id": "54059cb5",
   "metadata": {},
   "source": [
    "### As we have so many missing values in the data instead of doing manual imputation we will use MICE method to impute the data"
   ]
  },
  {
   "cell_type": "code",
   "execution_count": 14,
   "id": "486e38dd",
   "metadata": {},
   "outputs": [],
   "source": [
    "#from sklearn.preprocessing import LabelEncoder"
   ]
  },
  {
   "cell_type": "code",
   "execution_count": 15,
   "id": "0649ea41",
   "metadata": {},
   "outputs": [],
   "source": [
    "#original=flu\n",
    "# we will assing whole data in original variable"
   ]
  },
  {
   "cell_type": "code",
   "execution_count": 16,
   "id": "d0ff31d3",
   "metadata": {},
   "outputs": [],
   "source": [
    "#mask=flu.isnull()\n",
    "# we will assign all nulls in this mask variable"
   ]
  },
  {
   "cell_type": "code",
   "execution_count": 17,
   "id": "fb4c9b5b",
   "metadata": {},
   "outputs": [],
   "source": [
    "#mask.head()"
   ]
  },
  {
   "cell_type": "code",
   "execution_count": 18,
   "id": "8c2ba279",
   "metadata": {},
   "outputs": [],
   "source": [
    "#flu=flu.astype(str).apply(LabelEncoder().fit_transform)# we have converted everycolumn to string and label encoded "
   ]
  },
  {
   "cell_type": "code",
   "execution_count": 19,
   "id": "a7ba7e96",
   "metadata": {},
   "outputs": [],
   "source": [
    "#flu=flu.where(~mask,original)# as we have label endoded in the previous step now we need to make null values as nan in this step"
   ]
  },
  {
   "cell_type": "code",
   "execution_count": 20,
   "id": "a8c7746f",
   "metadata": {},
   "outputs": [],
   "source": [
    "#flu.head()"
   ]
  },
  {
   "cell_type": "code",
   "execution_count": 21,
   "id": "c0301a8c",
   "metadata": {},
   "outputs": [],
   "source": [
    "#from sklearn.experimental import enable_iterative_imputer\n",
    "#from sklearn.impute import IterativeImputer\n",
    "#from sklearn.tree import DecisionTreeClassifier\n",
    "# imported all these for imputing the data"
   ]
  },
  {
   "cell_type": "code",
   "execution_count": 22,
   "id": "a8f08003",
   "metadata": {},
   "outputs": [],
   "source": [
    "#imputer=IterativeImputer(estimator=DecisionTreeClassifier(),\n",
    "                        #initial_strategy='most_frequent',\n",
    "                        #max_iter=50)\n",
    "# Imputing the data using Iterative imputer"
   ]
  },
  {
   "cell_type": "code",
   "execution_count": 23,
   "id": "eab2b29b",
   "metadata": {},
   "outputs": [],
   "source": [
    "#flu_impute=imputer.fit_transform(flu) # Process of imputing may take a little late "
   ]
  },
  {
   "cell_type": "code",
   "execution_count": 24,
   "id": "742a379e",
   "metadata": {},
   "outputs": [],
   "source": [
    "#flu_impute"
   ]
  },
  {
   "cell_type": "code",
   "execution_count": 25,
   "id": "264b0a82",
   "metadata": {},
   "outputs": [],
   "source": [
    "#flu_impute=pd.DataFrame(flu_impute,columns=flu.columns) # Changing the array format to DataFrame"
   ]
  },
  {
   "cell_type": "code",
   "execution_count": 26,
   "id": "ce8c26b2",
   "metadata": {},
   "outputs": [],
   "source": [
    "#flu_impute.info() # Here we can se all the values are imputed and there are no null values"
   ]
  },
  {
   "cell_type": "code",
   "execution_count": 27,
   "id": "76ab23ae",
   "metadata": {},
   "outputs": [],
   "source": [
    "#flu_impute.to_csv('h1n1_impute') # We save this file for future use  \n",
    "# as the process may take long time to impute the missing values "
   ]
  },
  {
   "cell_type": "markdown",
   "id": "da33b078",
   "metadata": {},
   "source": [
    "### After doing the above mentioned process i have saved that file to csv and used it for model"
   ]
  },
  {
   "cell_type": "code",
   "execution_count": 28,
   "id": "9e3c4e1c",
   "metadata": {
    "scrolled": true
   },
   "outputs": [],
   "source": [
    "flu_impute=pd.read_csv(\"h1n1_impute\")"
   ]
  },
  {
   "cell_type": "code",
   "execution_count": 29,
   "id": "d5a50946",
   "metadata": {},
   "outputs": [
    {
     "data": {
      "image/png": "[encoded data removed]",
      "text/plain": [
       "<Figure size 640x480 with 1 Axes>"
      ]
     },
     "metadata": {},
     "output_type": "display_data"
    }
   ],
   "source": [
    "ax=flu.employment_occupation.value_counts(dropna=False).plot(kind='bar')\n",
    "for i in ax.containers:\n",
    "    ax.bar_label(i)\n",
    "# before mice imputation we can see there are null values    "
   ]
  },
  {
   "cell_type": "code",
   "execution_count": 30,
   "id": "80b40269",
   "metadata": {},
   "outputs": [
    {
     "data": {
      "image/png": "[encoded data removed]",
      "text/plain": [
       "<Figure size 640x480 with 1 Axes>"
      ]
     },
     "metadata": {},
     "output_type": "display_data"
    }
   ],
   "source": [
    "ax=flu_impute.employment_occupation.value_counts(dropna=False).plot(kind='bar')\n",
    "for i in ax.containers:\n",
    "    ax.bar_label(i)\n",
    "# After imputing mice we can see all the values are imputed and there are no null values    "
   ]
  },
  {
   "cell_type": "code",
   "execution_count": 31,
   "id": "4a5108dd",
   "metadata": {},
   "outputs": [
    {
     "data": {
      "text/html": [
       "<div>\n",
       "<style scoped>\n",
       "    .dataframe tbody tr th:only-of-type {\n",
       "        vertical-align: middle;\n",
       "    }\n",
       "\n",
       "    .dataframe tbody tr th {\n",
       "        vertical-align: top;\n",
       "    }\n",
       "\n",
       "    .dataframe thead th {\n",
       "        text-align: right;\n",
       "    }\n",
       "</style>\n",
       "<table border=\"1\" class=\"dataframe\">\n",
       "  <thead>\n",
       "    <tr style=\"text-align: right;\">\n",
       "      <th></th>\n",
       "      <th>Unnamed: 0</th>\n",
       "      <th>h1n1_concern</th>\n",
       "      <th>h1n1_knowledge</th>\n",
       "      <th>behavioral_antiviral_meds</th>\n",
       "      <th>behavioral_avoidance</th>\n",
       "      <th>behavioral_face_mask</th>\n",
       "      <th>behavioral_wash_hands</th>\n",
       "      <th>behavioral_large_gatherings</th>\n",
       "      <th>behavioral_outside_home</th>\n",
       "      <th>behavioral_touch_face</th>\n",
       "      <th>...</th>\n",
       "      <th>income_poverty</th>\n",
       "      <th>marital_status</th>\n",
       "      <th>rent_or_own</th>\n",
       "      <th>employment_status</th>\n",
       "      <th>hhs_geo_region</th>\n",
       "      <th>census_msa</th>\n",
       "      <th>household_adults</th>\n",
       "      <th>household_children</th>\n",
       "      <th>employment_industry</th>\n",
       "      <th>employment_occupation</th>\n",
       "    </tr>\n",
       "  </thead>\n",
       "  <tbody>\n",
       "    <tr>\n",
       "      <th>0</th>\n",
       "      <td>0</td>\n",
       "      <td>1.0</td>\n",
       "      <td>0.0</td>\n",
       "      <td>0.0</td>\n",
       "      <td>0.0</td>\n",
       "      <td>0.0</td>\n",
       "      <td>0.0</td>\n",
       "      <td>0.0</td>\n",
       "      <td>1.0</td>\n",
       "      <td>1.0</td>\n",
       "      <td>...</td>\n",
       "      <td>2.0</td>\n",
       "      <td>1.0</td>\n",
       "      <td>0.0</td>\n",
       "      <td>1.0</td>\n",
       "      <td>8.0</td>\n",
       "      <td>2.0</td>\n",
       "      <td>0.0</td>\n",
       "      <td>0.0</td>\n",
       "      <td>13.0</td>\n",
       "      <td>20.0</td>\n",
       "    </tr>\n",
       "    <tr>\n",
       "      <th>1</th>\n",
       "      <td>1</td>\n",
       "      <td>3.0</td>\n",
       "      <td>2.0</td>\n",
       "      <td>0.0</td>\n",
       "      <td>1.0</td>\n",
       "      <td>0.0</td>\n",
       "      <td>1.0</td>\n",
       "      <td>0.0</td>\n",
       "      <td>1.0</td>\n",
       "      <td>1.0</td>\n",
       "      <td>...</td>\n",
       "      <td>2.0</td>\n",
       "      <td>1.0</td>\n",
       "      <td>1.0</td>\n",
       "      <td>0.0</td>\n",
       "      <td>1.0</td>\n",
       "      <td>0.0</td>\n",
       "      <td>0.0</td>\n",
       "      <td>0.0</td>\n",
       "      <td>13.0</td>\n",
       "      <td>20.0</td>\n",
       "    </tr>\n",
       "    <tr>\n",
       "      <th>2</th>\n",
       "      <td>2</td>\n",
       "      <td>1.0</td>\n",
       "      <td>1.0</td>\n",
       "      <td>0.0</td>\n",
       "      <td>1.0</td>\n",
       "      <td>0.0</td>\n",
       "      <td>0.0</td>\n",
       "      <td>0.0</td>\n",
       "      <td>0.0</td>\n",
       "      <td>0.0</td>\n",
       "      <td>...</td>\n",
       "      <td>0.0</td>\n",
       "      <td>1.0</td>\n",
       "      <td>0.0</td>\n",
       "      <td>0.0</td>\n",
       "      <td>9.0</td>\n",
       "      <td>0.0</td>\n",
       "      <td>2.0</td>\n",
       "      <td>0.0</td>\n",
       "      <td>15.0</td>\n",
       "      <td>22.0</td>\n",
       "    </tr>\n",
       "    <tr>\n",
       "      <th>3</th>\n",
       "      <td>3</td>\n",
       "      <td>1.0</td>\n",
       "      <td>1.0</td>\n",
       "      <td>0.0</td>\n",
       "      <td>1.0</td>\n",
       "      <td>0.0</td>\n",
       "      <td>1.0</td>\n",
       "      <td>1.0</td>\n",
       "      <td>0.0</td>\n",
       "      <td>0.0</td>\n",
       "      <td>...</td>\n",
       "      <td>2.0</td>\n",
       "      <td>1.0</td>\n",
       "      <td>1.0</td>\n",
       "      <td>1.0</td>\n",
       "      <td>5.0</td>\n",
       "      <td>1.0</td>\n",
       "      <td>0.0</td>\n",
       "      <td>0.0</td>\n",
       "      <td>13.0</td>\n",
       "      <td>20.0</td>\n",
       "    </tr>\n",
       "    <tr>\n",
       "      <th>4</th>\n",
       "      <td>4</td>\n",
       "      <td>2.0</td>\n",
       "      <td>1.0</td>\n",
       "      <td>0.0</td>\n",
       "      <td>1.0</td>\n",
       "      <td>0.0</td>\n",
       "      <td>1.0</td>\n",
       "      <td>1.0</td>\n",
       "      <td>0.0</td>\n",
       "      <td>1.0</td>\n",
       "      <td>...</td>\n",
       "      <td>0.0</td>\n",
       "      <td>0.0</td>\n",
       "      <td>0.0</td>\n",
       "      <td>0.0</td>\n",
       "      <td>9.0</td>\n",
       "      <td>0.0</td>\n",
       "      <td>1.0</td>\n",
       "      <td>0.0</td>\n",
       "      <td>19.0</td>\n",
       "      <td>5.0</td>\n",
       "    </tr>\n",
       "    <tr>\n",
       "      <th>...</th>\n",
       "      <td>...</td>\n",
       "      <td>...</td>\n",
       "      <td>...</td>\n",
       "      <td>...</td>\n",
       "      <td>...</td>\n",
       "      <td>...</td>\n",
       "      <td>...</td>\n",
       "      <td>...</td>\n",
       "      <td>...</td>\n",
       "      <td>...</td>\n",
       "      <td>...</td>\n",
       "      <td>...</td>\n",
       "      <td>...</td>\n",
       "      <td>...</td>\n",
       "      <td>...</td>\n",
       "      <td>...</td>\n",
       "      <td>...</td>\n",
       "      <td>...</td>\n",
       "      <td>...</td>\n",
       "      <td>...</td>\n",
       "      <td>...</td>\n",
       "    </tr>\n",
       "    <tr>\n",
       "      <th>53410</th>\n",
       "      <td>53410</td>\n",
       "      <td>1.0</td>\n",
       "      <td>1.0</td>\n",
       "      <td>0.0</td>\n",
       "      <td>1.0</td>\n",
       "      <td>0.0</td>\n",
       "      <td>1.0</td>\n",
       "      <td>0.0</td>\n",
       "      <td>0.0</td>\n",
       "      <td>1.0</td>\n",
       "      <td>...</td>\n",
       "      <td>1.0</td>\n",
       "      <td>0.0</td>\n",
       "      <td>0.0</td>\n",
       "      <td>0.0</td>\n",
       "      <td>2.0</td>\n",
       "      <td>1.0</td>\n",
       "      <td>1.0</td>\n",
       "      <td>1.0</td>\n",
       "      <td>19.0</td>\n",
       "      <td>5.0</td>\n",
       "    </tr>\n",
       "    <tr>\n",
       "      <th>53411</th>\n",
       "      <td>53411</td>\n",
       "      <td>3.0</td>\n",
       "      <td>1.0</td>\n",
       "      <td>0.0</td>\n",
       "      <td>1.0</td>\n",
       "      <td>0.0</td>\n",
       "      <td>1.0</td>\n",
       "      <td>1.0</td>\n",
       "      <td>1.0</td>\n",
       "      <td>1.0</td>\n",
       "      <td>...</td>\n",
       "      <td>2.0</td>\n",
       "      <td>0.0</td>\n",
       "      <td>1.0</td>\n",
       "      <td>0.0</td>\n",
       "      <td>9.0</td>\n",
       "      <td>2.0</td>\n",
       "      <td>1.0</td>\n",
       "      <td>3.0</td>\n",
       "      <td>4.0</td>\n",
       "      <td>19.0</td>\n",
       "    </tr>\n",
       "    <tr>\n",
       "      <th>53412</th>\n",
       "      <td>53412</td>\n",
       "      <td>0.0</td>\n",
       "      <td>1.0</td>\n",
       "      <td>0.0</td>\n",
       "      <td>0.0</td>\n",
       "      <td>0.0</td>\n",
       "      <td>0.0</td>\n",
       "      <td>0.0</td>\n",
       "      <td>0.0</td>\n",
       "      <td>0.0</td>\n",
       "      <td>...</td>\n",
       "      <td>2.0</td>\n",
       "      <td>1.0</td>\n",
       "      <td>1.0</td>\n",
       "      <td>1.0</td>\n",
       "      <td>9.0</td>\n",
       "      <td>0.0</td>\n",
       "      <td>1.0</td>\n",
       "      <td>0.0</td>\n",
       "      <td>8.0</td>\n",
       "      <td>7.0</td>\n",
       "    </tr>\n",
       "    <tr>\n",
       "      <th>53413</th>\n",
       "      <td>53413</td>\n",
       "      <td>3.0</td>\n",
       "      <td>1.0</td>\n",
       "      <td>0.0</td>\n",
       "      <td>1.0</td>\n",
       "      <td>0.0</td>\n",
       "      <td>1.0</td>\n",
       "      <td>0.0</td>\n",
       "      <td>1.0</td>\n",
       "      <td>0.0</td>\n",
       "      <td>...</td>\n",
       "      <td>0.0</td>\n",
       "      <td>0.0</td>\n",
       "      <td>0.0</td>\n",
       "      <td>1.0</td>\n",
       "      <td>1.0</td>\n",
       "      <td>0.0</td>\n",
       "      <td>1.0</td>\n",
       "      <td>0.0</td>\n",
       "      <td>16.0</td>\n",
       "      <td>10.0</td>\n",
       "    </tr>\n",
       "    <tr>\n",
       "      <th>53414</th>\n",
       "      <td>53414</td>\n",
       "      <td>2.0</td>\n",
       "      <td>1.0</td>\n",
       "      <td>0.0</td>\n",
       "      <td>0.0</td>\n",
       "      <td>0.0</td>\n",
       "      <td>1.0</td>\n",
       "      <td>0.0</td>\n",
       "      <td>0.0</td>\n",
       "      <td>1.0</td>\n",
       "      <td>...</td>\n",
       "      <td>1.0</td>\n",
       "      <td>1.0</td>\n",
       "      <td>1.0</td>\n",
       "      <td>0.0</td>\n",
       "      <td>5.0</td>\n",
       "      <td>1.0</td>\n",
       "      <td>0.0</td>\n",
       "      <td>0.0</td>\n",
       "      <td>1.0</td>\n",
       "      <td>22.0</td>\n",
       "    </tr>\n",
       "  </tbody>\n",
       "</table>\n",
       "<p>53415 rows × 36 columns</p>\n",
       "</div>"
      ],
      "text/plain": [
       "       Unnamed: 0  h1n1_concern  h1n1_knowledge  behavioral_antiviral_meds  \\\n",
       "0               0           1.0             0.0                        0.0   \n",
       "1               1           3.0             2.0                        0.0   \n",
       "2               2           1.0             1.0                        0.0   \n",
       "3               3           1.0             1.0                        0.0   \n",
       "4               4           2.0             1.0                        0.0   \n",
       "...           ...           ...             ...                        ...   \n",
       "53410       53410           1.0             1.0                        0.0   \n",
       "53411       53411           3.0             1.0                        0.0   \n",
       "53412       53412           0.0             1.0                        0.0   \n",
       "53413       53413           3.0             1.0                        0.0   \n",
       "53414       53414           2.0             1.0                        0.0   \n",
       "\n",
       "       behavioral_avoidance  behavioral_face_mask  behavioral_wash_hands  \\\n",
       "0                       0.0                   0.0                    0.0   \n",
       "1                       1.0                   0.0                    1.0   \n",
       "2                       1.0                   0.0                    0.0   \n",
       "3                       1.0                   0.0                    1.0   \n",
       "4                       1.0                   0.0                    1.0   \n",
       "...                     ...                   ...                    ...   \n",
       "53410                   1.0                   0.0                    1.0   \n",
       "53411                   1.0                   0.0                    1.0   \n",
       "53412                   0.0                   0.0                    0.0   \n",
       "53413                   1.0                   0.0                    1.0   \n",
       "53414                   0.0                   0.0                    1.0   \n",
       "\n",
       "       behavioral_large_gatherings  behavioral_outside_home  \\\n",
       "0                              0.0                      1.0   \n",
       "1                              0.0                      1.0   \n",
       "2                              0.0                      0.0   \n",
       "3                              1.0                      0.0   \n",
       "4                              1.0                      0.0   \n",
       "...                            ...                      ...   \n",
       "53410                          0.0                      0.0   \n",
       "53411                          1.0                      1.0   \n",
       "53412                          0.0                      0.0   \n",
       "53413                          0.0                      1.0   \n",
       "53414                          0.0                      0.0   \n",
       "\n",
       "       behavioral_touch_face  ...  income_poverty  marital_status  \\\n",
       "0                        1.0  ...             2.0             1.0   \n",
       "1                        1.0  ...             2.0             1.0   \n",
       "2                        0.0  ...             0.0             1.0   \n",
       "3                        0.0  ...             2.0             1.0   \n",
       "4                        1.0  ...             0.0             0.0   \n",
       "...                      ...  ...             ...             ...   \n",
       "53410                    1.0  ...             1.0             0.0   \n",
       "53411                    1.0  ...             2.0             0.0   \n",
       "53412                    0.0  ...             2.0             1.0   \n",
       "53413                    0.0  ...             0.0             0.0   \n",
       "53414                    1.0  ...             1.0             1.0   \n",
       "\n",
       "       rent_or_own  employment_status  hhs_geo_region  census_msa  \\\n",
       "0              0.0                1.0             8.0         2.0   \n",
       "1              1.0                0.0             1.0         0.0   \n",
       "2              0.0                0.0             9.0         0.0   \n",
       "3              1.0                1.0             5.0         1.0   \n",
       "4              0.0                0.0             9.0         0.0   \n",
       "...            ...                ...             ...         ...   \n",
       "53410          0.0                0.0             2.0         1.0   \n",
       "53411          1.0                0.0             9.0         2.0   \n",
       "53412          1.0                1.0             9.0         0.0   \n",
       "53413          0.0                1.0             1.0         0.0   \n",
       "53414          1.0                0.0             5.0         1.0   \n",
       "\n",
       "       household_adults  household_children  employment_industry  \\\n",
       "0                   0.0                 0.0                 13.0   \n",
       "1                   0.0                 0.0                 13.0   \n",
       "2                   2.0                 0.0                 15.0   \n",
       "3                   0.0                 0.0                 13.0   \n",
       "4                   1.0                 0.0                 19.0   \n",
       "...                 ...                 ...                  ...   \n",
       "53410               1.0                 1.0                 19.0   \n",
       "53411               1.0                 3.0                  4.0   \n",
       "53412               1.0                 0.0                  8.0   \n",
       "53413               1.0                 0.0                 16.0   \n",
       "53414               0.0                 0.0                  1.0   \n",
       "\n",
       "       employment_occupation  \n",
       "0                       20.0  \n",
       "1                       20.0  \n",
       "2                       22.0  \n",
       "3                       20.0  \n",
       "4                        5.0  \n",
       "...                      ...  \n",
       "53410                    5.0  \n",
       "53411                   19.0  \n",
       "53412                    7.0  \n",
       "53413                   10.0  \n",
       "53414                   22.0  \n",
       "\n",
       "[53415 rows x 36 columns]"
      ]
     },
     "execution_count": 31,
     "metadata": {},
     "output_type": "execute_result"
    }
   ],
   "source": [
    "flu_impute\n",
    "# As the data all well mannered no need to do scalling for the data"
   ]
  },
  {
   "cell_type": "code",
   "execution_count": 32,
   "id": "70386ec5",
   "metadata": {},
   "outputs": [
    {
     "name": "stdout",
     "output_type": "stream",
     "text": [
      "<class 'pandas.core.frame.DataFrame'>\n",
      "RangeIndex: 53415 entries, 0 to 53414\n",
      "Data columns (total 36 columns):\n",
      " #   Column                       Non-Null Count  Dtype  \n",
      "---  ------                       --------------  -----  \n",
      " 0   Unnamed: 0                   53415 non-null  int64  \n",
      " 1   h1n1_concern                 53415 non-null  float64\n",
      " 2   h1n1_knowledge               53415 non-null  float64\n",
      " 3   behavioral_antiviral_meds    53415 non-null  float64\n",
      " 4   behavioral_avoidance         53415 non-null  float64\n",
      " 5   behavioral_face_mask         53415 non-null  float64\n",
      " 6   behavioral_wash_hands        53415 non-null  float64\n",
      " 7   behavioral_large_gatherings  53415 non-null  float64\n",
      " 8   behavioral_outside_home      53415 non-null  float64\n",
      " 9   behavioral_touch_face        53415 non-null  float64\n",
      " 10  doctor_recc_h1n1             53415 non-null  float64\n",
      " 11  doctor_recc_seasonal         53415 non-null  float64\n",
      " 12  chronic_med_condition        53415 non-null  float64\n",
      " 13  child_under_6_months         53415 non-null  float64\n",
      " 14  health_worker                53415 non-null  float64\n",
      " 15  health_insurance             53415 non-null  float64\n",
      " 16  opinion_h1n1_vacc_effective  53415 non-null  float64\n",
      " 17  opinion_h1n1_risk            53415 non-null  float64\n",
      " 18  opinion_h1n1_sick_from_vacc  53415 non-null  float64\n",
      " 19  opinion_seas_vacc_effective  53415 non-null  float64\n",
      " 20  opinion_seas_risk            53415 non-null  float64\n",
      " 21  opinion_seas_sick_from_vacc  53415 non-null  float64\n",
      " 22  age_group                    53415 non-null  float64\n",
      " 23  education                    53415 non-null  float64\n",
      " 24  race                         53415 non-null  float64\n",
      " 25  sex                          53415 non-null  float64\n",
      " 26  income_poverty               53415 non-null  float64\n",
      " 27  marital_status               53415 non-null  float64\n",
      " 28  rent_or_own                  53415 non-null  float64\n",
      " 29  employment_status            53415 non-null  float64\n",
      " 30  hhs_geo_region               53415 non-null  float64\n",
      " 31  census_msa                   53415 non-null  float64\n",
      " 32  household_adults             53415 non-null  float64\n",
      " 33  household_children           53415 non-null  float64\n",
      " 34  employment_industry          53415 non-null  float64\n",
      " 35  employment_occupation        53415 non-null  float64\n",
      "dtypes: float64(35), int64(1)\n",
      "memory usage: 14.7 MB\n"
     ]
    }
   ],
   "source": [
    "flu_impute.info()"
   ]
  },
  {
   "cell_type": "markdown",
   "id": "5e32b3ee",
   "metadata": {},
   "source": [
    "#### Split the data bak to train and test "
   ]
  },
  {
   "cell_type": "code",
   "execution_count": 33,
   "id": "6f7d96dc",
   "metadata": {},
   "outputs": [],
   "source": [
    "trainflu=flu_impute.loc[0:26706]\n",
    "testflu=flu_impute.loc[26707:53414]\n",
    "# we will split the data using loc index"
   ]
  },
  {
   "cell_type": "code",
   "execution_count": 34,
   "id": "b85c4148",
   "metadata": {},
   "outputs": [
    {
     "data": {
      "text/html": [
       "<div>\n",
       "<style scoped>\n",
       "    .dataframe tbody tr th:only-of-type {\n",
       "        vertical-align: middle;\n",
       "    }\n",
       "\n",
       "    .dataframe tbody tr th {\n",
       "        vertical-align: top;\n",
       "    }\n",
       "\n",
       "    .dataframe thead th {\n",
       "        text-align: right;\n",
       "    }\n",
       "</style>\n",
       "<table border=\"1\" class=\"dataframe\">\n",
       "  <thead>\n",
       "    <tr style=\"text-align: right;\">\n",
       "      <th></th>\n",
       "      <th>Unnamed: 0</th>\n",
       "      <th>h1n1_concern</th>\n",
       "      <th>h1n1_knowledge</th>\n",
       "      <th>behavioral_antiviral_meds</th>\n",
       "      <th>behavioral_avoidance</th>\n",
       "      <th>behavioral_face_mask</th>\n",
       "      <th>behavioral_wash_hands</th>\n",
       "      <th>behavioral_large_gatherings</th>\n",
       "      <th>behavioral_outside_home</th>\n",
       "      <th>behavioral_touch_face</th>\n",
       "      <th>...</th>\n",
       "      <th>income_poverty</th>\n",
       "      <th>marital_status</th>\n",
       "      <th>rent_or_own</th>\n",
       "      <th>employment_status</th>\n",
       "      <th>hhs_geo_region</th>\n",
       "      <th>census_msa</th>\n",
       "      <th>household_adults</th>\n",
       "      <th>household_children</th>\n",
       "      <th>employment_industry</th>\n",
       "      <th>employment_occupation</th>\n",
       "    </tr>\n",
       "  </thead>\n",
       "  <tbody>\n",
       "    <tr>\n",
       "      <th>0</th>\n",
       "      <td>0</td>\n",
       "      <td>1.0</td>\n",
       "      <td>0.0</td>\n",
       "      <td>0.0</td>\n",
       "      <td>0.0</td>\n",
       "      <td>0.0</td>\n",
       "      <td>0.0</td>\n",
       "      <td>0.0</td>\n",
       "      <td>1.0</td>\n",
       "      <td>1.0</td>\n",
       "      <td>...</td>\n",
       "      <td>2.0</td>\n",
       "      <td>1.0</td>\n",
       "      <td>0.0</td>\n",
       "      <td>1.0</td>\n",
       "      <td>8.0</td>\n",
       "      <td>2.0</td>\n",
       "      <td>0.0</td>\n",
       "      <td>0.0</td>\n",
       "      <td>13.0</td>\n",
       "      <td>20.0</td>\n",
       "    </tr>\n",
       "    <tr>\n",
       "      <th>1</th>\n",
       "      <td>1</td>\n",
       "      <td>3.0</td>\n",
       "      <td>2.0</td>\n",
       "      <td>0.0</td>\n",
       "      <td>1.0</td>\n",
       "      <td>0.0</td>\n",
       "      <td>1.0</td>\n",
       "      <td>0.0</td>\n",
       "      <td>1.0</td>\n",
       "      <td>1.0</td>\n",
       "      <td>...</td>\n",
       "      <td>2.0</td>\n",
       "      <td>1.0</td>\n",
       "      <td>1.0</td>\n",
       "      <td>0.0</td>\n",
       "      <td>1.0</td>\n",
       "      <td>0.0</td>\n",
       "      <td>0.0</td>\n",
       "      <td>0.0</td>\n",
       "      <td>13.0</td>\n",
       "      <td>20.0</td>\n",
       "    </tr>\n",
       "    <tr>\n",
       "      <th>2</th>\n",
       "      <td>2</td>\n",
       "      <td>1.0</td>\n",
       "      <td>1.0</td>\n",
       "      <td>0.0</td>\n",
       "      <td>1.0</td>\n",
       "      <td>0.0</td>\n",
       "      <td>0.0</td>\n",
       "      <td>0.0</td>\n",
       "      <td>0.0</td>\n",
       "      <td>0.0</td>\n",
       "      <td>...</td>\n",
       "      <td>0.0</td>\n",
       "      <td>1.0</td>\n",
       "      <td>0.0</td>\n",
       "      <td>0.0</td>\n",
       "      <td>9.0</td>\n",
       "      <td>0.0</td>\n",
       "      <td>2.0</td>\n",
       "      <td>0.0</td>\n",
       "      <td>15.0</td>\n",
       "      <td>22.0</td>\n",
       "    </tr>\n",
       "    <tr>\n",
       "      <th>3</th>\n",
       "      <td>3</td>\n",
       "      <td>1.0</td>\n",
       "      <td>1.0</td>\n",
       "      <td>0.0</td>\n",
       "      <td>1.0</td>\n",
       "      <td>0.0</td>\n",
       "      <td>1.0</td>\n",
       "      <td>1.0</td>\n",
       "      <td>0.0</td>\n",
       "      <td>0.0</td>\n",
       "      <td>...</td>\n",
       "      <td>2.0</td>\n",
       "      <td>1.0</td>\n",
       "      <td>1.0</td>\n",
       "      <td>1.0</td>\n",
       "      <td>5.0</td>\n",
       "      <td>1.0</td>\n",
       "      <td>0.0</td>\n",
       "      <td>0.0</td>\n",
       "      <td>13.0</td>\n",
       "      <td>20.0</td>\n",
       "    </tr>\n",
       "    <tr>\n",
       "      <th>4</th>\n",
       "      <td>4</td>\n",
       "      <td>2.0</td>\n",
       "      <td>1.0</td>\n",
       "      <td>0.0</td>\n",
       "      <td>1.0</td>\n",
       "      <td>0.0</td>\n",
       "      <td>1.0</td>\n",
       "      <td>1.0</td>\n",
       "      <td>0.0</td>\n",
       "      <td>1.0</td>\n",
       "      <td>...</td>\n",
       "      <td>0.0</td>\n",
       "      <td>0.0</td>\n",
       "      <td>0.0</td>\n",
       "      <td>0.0</td>\n",
       "      <td>9.0</td>\n",
       "      <td>0.0</td>\n",
       "      <td>1.0</td>\n",
       "      <td>0.0</td>\n",
       "      <td>19.0</td>\n",
       "      <td>5.0</td>\n",
       "    </tr>\n",
       "    <tr>\n",
       "      <th>...</th>\n",
       "      <td>...</td>\n",
       "      <td>...</td>\n",
       "      <td>...</td>\n",
       "      <td>...</td>\n",
       "      <td>...</td>\n",
       "      <td>...</td>\n",
       "      <td>...</td>\n",
       "      <td>...</td>\n",
       "      <td>...</td>\n",
       "      <td>...</td>\n",
       "      <td>...</td>\n",
       "      <td>...</td>\n",
       "      <td>...</td>\n",
       "      <td>...</td>\n",
       "      <td>...</td>\n",
       "      <td>...</td>\n",
       "      <td>...</td>\n",
       "      <td>...</td>\n",
       "      <td>...</td>\n",
       "      <td>...</td>\n",
       "      <td>...</td>\n",
       "    </tr>\n",
       "    <tr>\n",
       "      <th>26702</th>\n",
       "      <td>26702</td>\n",
       "      <td>2.0</td>\n",
       "      <td>0.0</td>\n",
       "      <td>0.0</td>\n",
       "      <td>1.0</td>\n",
       "      <td>0.0</td>\n",
       "      <td>0.0</td>\n",
       "      <td>0.0</td>\n",
       "      <td>1.0</td>\n",
       "      <td>0.0</td>\n",
       "      <td>...</td>\n",
       "      <td>0.0</td>\n",
       "      <td>1.0</td>\n",
       "      <td>0.0</td>\n",
       "      <td>1.0</td>\n",
       "      <td>9.0</td>\n",
       "      <td>2.0</td>\n",
       "      <td>0.0</td>\n",
       "      <td>0.0</td>\n",
       "      <td>4.0</td>\n",
       "      <td>6.0</td>\n",
       "    </tr>\n",
       "    <tr>\n",
       "      <th>26703</th>\n",
       "      <td>26703</td>\n",
       "      <td>1.0</td>\n",
       "      <td>2.0</td>\n",
       "      <td>0.0</td>\n",
       "      <td>1.0</td>\n",
       "      <td>0.0</td>\n",
       "      <td>1.0</td>\n",
       "      <td>0.0</td>\n",
       "      <td>0.0</td>\n",
       "      <td>0.0</td>\n",
       "      <td>...</td>\n",
       "      <td>0.0</td>\n",
       "      <td>1.0</td>\n",
       "      <td>1.0</td>\n",
       "      <td>0.0</td>\n",
       "      <td>6.0</td>\n",
       "      <td>1.0</td>\n",
       "      <td>1.0</td>\n",
       "      <td>0.0</td>\n",
       "      <td>4.0</td>\n",
       "      <td>2.0</td>\n",
       "    </tr>\n",
       "    <tr>\n",
       "      <th>26704</th>\n",
       "      <td>26704</td>\n",
       "      <td>2.0</td>\n",
       "      <td>2.0</td>\n",
       "      <td>0.0</td>\n",
       "      <td>1.0</td>\n",
       "      <td>1.0</td>\n",
       "      <td>1.0</td>\n",
       "      <td>1.0</td>\n",
       "      <td>0.0</td>\n",
       "      <td>1.0</td>\n",
       "      <td>...</td>\n",
       "      <td>0.0</td>\n",
       "      <td>1.0</td>\n",
       "      <td>0.0</td>\n",
       "      <td>1.0</td>\n",
       "      <td>6.0</td>\n",
       "      <td>0.0</td>\n",
       "      <td>0.0</td>\n",
       "      <td>0.0</td>\n",
       "      <td>19.0</td>\n",
       "      <td>22.0</td>\n",
       "    </tr>\n",
       "    <tr>\n",
       "      <th>26705</th>\n",
       "      <td>26705</td>\n",
       "      <td>1.0</td>\n",
       "      <td>1.0</td>\n",
       "      <td>0.0</td>\n",
       "      <td>0.0</td>\n",
       "      <td>0.0</td>\n",
       "      <td>0.0</td>\n",
       "      <td>0.0</td>\n",
       "      <td>0.0</td>\n",
       "      <td>0.0</td>\n",
       "      <td>...</td>\n",
       "      <td>0.0</td>\n",
       "      <td>0.0</td>\n",
       "      <td>1.0</td>\n",
       "      <td>0.0</td>\n",
       "      <td>5.0</td>\n",
       "      <td>2.0</td>\n",
       "      <td>1.0</td>\n",
       "      <td>0.0</td>\n",
       "      <td>4.0</td>\n",
       "      <td>6.0</td>\n",
       "    </tr>\n",
       "    <tr>\n",
       "      <th>26706</th>\n",
       "      <td>26706</td>\n",
       "      <td>0.0</td>\n",
       "      <td>0.0</td>\n",
       "      <td>0.0</td>\n",
       "      <td>1.0</td>\n",
       "      <td>0.0</td>\n",
       "      <td>0.0</td>\n",
       "      <td>0.0</td>\n",
       "      <td>0.0</td>\n",
       "      <td>0.0</td>\n",
       "      <td>...</td>\n",
       "      <td>0.0</td>\n",
       "      <td>0.0</td>\n",
       "      <td>0.0</td>\n",
       "      <td>1.0</td>\n",
       "      <td>7.0</td>\n",
       "      <td>1.0</td>\n",
       "      <td>1.0</td>\n",
       "      <td>0.0</td>\n",
       "      <td>11.0</td>\n",
       "      <td>13.0</td>\n",
       "    </tr>\n",
       "  </tbody>\n",
       "</table>\n",
       "<p>26707 rows × 36 columns</p>\n",
       "</div>"
      ],
      "text/plain": [
       "       Unnamed: 0  h1n1_concern  h1n1_knowledge  behavioral_antiviral_meds  \\\n",
       "0               0           1.0             0.0                        0.0   \n",
       "1               1           3.0             2.0                        0.0   \n",
       "2               2           1.0             1.0                        0.0   \n",
       "3               3           1.0             1.0                        0.0   \n",
       "4               4           2.0             1.0                        0.0   \n",
       "...           ...           ...             ...                        ...   \n",
       "26702       26702           2.0             0.0                        0.0   \n",
       "26703       26703           1.0             2.0                        0.0   \n",
       "26704       26704           2.0             2.0                        0.0   \n",
       "26705       26705           1.0             1.0                        0.0   \n",
       "26706       26706           0.0             0.0                        0.0   \n",
       "\n",
       "       behavioral_avoidance  behavioral_face_mask  behavioral_wash_hands  \\\n",
       "0                       0.0                   0.0                    0.0   \n",
       "1                       1.0                   0.0                    1.0   \n",
       "2                       1.0                   0.0                    0.0   \n",
       "3                       1.0                   0.0                    1.0   \n",
       "4                       1.0                   0.0                    1.0   \n",
       "...                     ...                   ...                    ...   \n",
       "26702                   1.0                   0.0                    0.0   \n",
       "26703                   1.0                   0.0                    1.0   \n",
       "26704                   1.0                   1.0                    1.0   \n",
       "26705                   0.0                   0.0                    0.0   \n",
       "26706                   1.0                   0.0                    0.0   \n",
       "\n",
       "       behavioral_large_gatherings  behavioral_outside_home  \\\n",
       "0                              0.0                      1.0   \n",
       "1                              0.0                      1.0   \n",
       "2                              0.0                      0.0   \n",
       "3                              1.0                      0.0   \n",
       "4                              1.0                      0.0   \n",
       "...                            ...                      ...   \n",
       "26702                          0.0                      1.0   \n",
       "26703                          0.0                      0.0   \n",
       "26704                          1.0                      0.0   \n",
       "26705                          0.0                      0.0   \n",
       "26706                          0.0                      0.0   \n",
       "\n",
       "       behavioral_touch_face  ...  income_poverty  marital_status  \\\n",
       "0                        1.0  ...             2.0             1.0   \n",
       "1                        1.0  ...             2.0             1.0   \n",
       "2                        0.0  ...             0.0             1.0   \n",
       "3                        0.0  ...             2.0             1.0   \n",
       "4                        1.0  ...             0.0             0.0   \n",
       "...                      ...  ...             ...             ...   \n",
       "26702                    0.0  ...             0.0             1.0   \n",
       "26703                    0.0  ...             0.0             1.0   \n",
       "26704                    1.0  ...             0.0             1.0   \n",
       "26705                    0.0  ...             0.0             0.0   \n",
       "26706                    0.0  ...             0.0             0.0   \n",
       "\n",
       "       rent_or_own  employment_status  hhs_geo_region  census_msa  \\\n",
       "0              0.0                1.0             8.0         2.0   \n",
       "1              1.0                0.0             1.0         0.0   \n",
       "2              0.0                0.0             9.0         0.0   \n",
       "3              1.0                1.0             5.0         1.0   \n",
       "4              0.0                0.0             9.0         0.0   \n",
       "...            ...                ...             ...         ...   \n",
       "26702          0.0                1.0             9.0         2.0   \n",
       "26703          1.0                0.0             6.0         1.0   \n",
       "26704          0.0                1.0             6.0         0.0   \n",
       "26705          1.0                0.0             5.0         2.0   \n",
       "26706          0.0                1.0             7.0         1.0   \n",
       "\n",
       "       household_adults  household_children  employment_industry  \\\n",
       "0                   0.0                 0.0                 13.0   \n",
       "1                   0.0                 0.0                 13.0   \n",
       "2                   2.0                 0.0                 15.0   \n",
       "3                   0.0                 0.0                 13.0   \n",
       "4                   1.0                 0.0                 19.0   \n",
       "...                 ...                 ...                  ...   \n",
       "26702               0.0                 0.0                  4.0   \n",
       "26703               1.0                 0.0                  4.0   \n",
       "26704               0.0                 0.0                 19.0   \n",
       "26705               1.0                 0.0                  4.0   \n",
       "26706               1.0                 0.0                 11.0   \n",
       "\n",
       "       employment_occupation  \n",
       "0                       20.0  \n",
       "1                       20.0  \n",
       "2                       22.0  \n",
       "3                       20.0  \n",
       "4                        5.0  \n",
       "...                      ...  \n",
       "26702                    6.0  \n",
       "26703                    2.0  \n",
       "26704                   22.0  \n",
       "26705                    6.0  \n",
       "26706                   13.0  \n",
       "\n",
       "[26707 rows x 36 columns]"
      ]
     },
     "execution_count": 34,
     "metadata": {},
     "output_type": "execute_result"
    }
   ],
   "source": [
    "trainflu"
   ]
  },
  {
   "cell_type": "code",
   "execution_count": 35,
   "id": "5014b490",
   "metadata": {
    "scrolled": true
   },
   "outputs": [
    {
     "data": {
      "text/html": [
       "<div>\n",
       "<style scoped>\n",
       "    .dataframe tbody tr th:only-of-type {\n",
       "        vertical-align: middle;\n",
       "    }\n",
       "\n",
       "    .dataframe tbody tr th {\n",
       "        vertical-align: top;\n",
       "    }\n",
       "\n",
       "    .dataframe thead th {\n",
       "        text-align: right;\n",
       "    }\n",
       "</style>\n",
       "<table border=\"1\" class=\"dataframe\">\n",
       "  <thead>\n",
       "    <tr style=\"text-align: right;\">\n",
       "      <th></th>\n",
       "      <th>Unnamed: 0</th>\n",
       "      <th>h1n1_concern</th>\n",
       "      <th>h1n1_knowledge</th>\n",
       "      <th>behavioral_antiviral_meds</th>\n",
       "      <th>behavioral_avoidance</th>\n",
       "      <th>behavioral_face_mask</th>\n",
       "      <th>behavioral_wash_hands</th>\n",
       "      <th>behavioral_large_gatherings</th>\n",
       "      <th>behavioral_outside_home</th>\n",
       "      <th>behavioral_touch_face</th>\n",
       "      <th>...</th>\n",
       "      <th>income_poverty</th>\n",
       "      <th>marital_status</th>\n",
       "      <th>rent_or_own</th>\n",
       "      <th>employment_status</th>\n",
       "      <th>hhs_geo_region</th>\n",
       "      <th>census_msa</th>\n",
       "      <th>household_adults</th>\n",
       "      <th>household_children</th>\n",
       "      <th>employment_industry</th>\n",
       "      <th>employment_occupation</th>\n",
       "    </tr>\n",
       "  </thead>\n",
       "  <tbody>\n",
       "    <tr>\n",
       "      <th>26707</th>\n",
       "      <td>26707</td>\n",
       "      <td>2.0</td>\n",
       "      <td>2.0</td>\n",
       "      <td>0.0</td>\n",
       "      <td>1.0</td>\n",
       "      <td>0.0</td>\n",
       "      <td>1.0</td>\n",
       "      <td>1.0</td>\n",
       "      <td>0.0</td>\n",
       "      <td>1.0</td>\n",
       "      <td>...</td>\n",
       "      <td>1.0</td>\n",
       "      <td>1.0</td>\n",
       "      <td>1.0</td>\n",
       "      <td>0.0</td>\n",
       "      <td>7.0</td>\n",
       "      <td>0.0</td>\n",
       "      <td>1.0</td>\n",
       "      <td>0.0</td>\n",
       "      <td>1.0</td>\n",
       "      <td>7.0</td>\n",
       "    </tr>\n",
       "    <tr>\n",
       "      <th>26708</th>\n",
       "      <td>26708</td>\n",
       "      <td>1.0</td>\n",
       "      <td>1.0</td>\n",
       "      <td>0.0</td>\n",
       "      <td>0.0</td>\n",
       "      <td>0.0</td>\n",
       "      <td>0.0</td>\n",
       "      <td>0.0</td>\n",
       "      <td>0.0</td>\n",
       "      <td>0.0</td>\n",
       "      <td>...</td>\n",
       "      <td>2.0</td>\n",
       "      <td>1.0</td>\n",
       "      <td>1.0</td>\n",
       "      <td>0.0</td>\n",
       "      <td>1.0</td>\n",
       "      <td>2.0</td>\n",
       "      <td>3.0</td>\n",
       "      <td>0.0</td>\n",
       "      <td>1.0</td>\n",
       "      <td>21.0</td>\n",
       "    </tr>\n",
       "    <tr>\n",
       "      <th>26709</th>\n",
       "      <td>26709</td>\n",
       "      <td>2.0</td>\n",
       "      <td>2.0</td>\n",
       "      <td>0.0</td>\n",
       "      <td>0.0</td>\n",
       "      <td>1.0</td>\n",
       "      <td>1.0</td>\n",
       "      <td>1.0</td>\n",
       "      <td>1.0</td>\n",
       "      <td>1.0</td>\n",
       "      <td>...</td>\n",
       "      <td>1.0</td>\n",
       "      <td>0.0</td>\n",
       "      <td>0.0</td>\n",
       "      <td>0.0</td>\n",
       "      <td>5.0</td>\n",
       "      <td>2.0</td>\n",
       "      <td>1.0</td>\n",
       "      <td>0.0</td>\n",
       "      <td>11.0</td>\n",
       "      <td>13.0</td>\n",
       "    </tr>\n",
       "    <tr>\n",
       "      <th>26710</th>\n",
       "      <td>26710</td>\n",
       "      <td>1.0</td>\n",
       "      <td>1.0</td>\n",
       "      <td>0.0</td>\n",
       "      <td>0.0</td>\n",
       "      <td>0.0</td>\n",
       "      <td>0.0</td>\n",
       "      <td>0.0</td>\n",
       "      <td>0.0</td>\n",
       "      <td>0.0</td>\n",
       "      <td>...</td>\n",
       "      <td>0.0</td>\n",
       "      <td>0.0</td>\n",
       "      <td>0.0</td>\n",
       "      <td>1.0</td>\n",
       "      <td>5.0</td>\n",
       "      <td>0.0</td>\n",
       "      <td>1.0</td>\n",
       "      <td>0.0</td>\n",
       "      <td>20.0</td>\n",
       "      <td>9.0</td>\n",
       "    </tr>\n",
       "    <tr>\n",
       "      <th>26711</th>\n",
       "      <td>26711</td>\n",
       "      <td>3.0</td>\n",
       "      <td>1.0</td>\n",
       "      <td>1.0</td>\n",
       "      <td>1.0</td>\n",
       "      <td>0.0</td>\n",
       "      <td>1.0</td>\n",
       "      <td>1.0</td>\n",
       "      <td>1.0</td>\n",
       "      <td>1.0</td>\n",
       "      <td>...</td>\n",
       "      <td>0.0</td>\n",
       "      <td>1.0</td>\n",
       "      <td>0.0</td>\n",
       "      <td>0.0</td>\n",
       "      <td>6.0</td>\n",
       "      <td>2.0</td>\n",
       "      <td>0.0</td>\n",
       "      <td>1.0</td>\n",
       "      <td>4.0</td>\n",
       "      <td>10.0</td>\n",
       "    </tr>\n",
       "    <tr>\n",
       "      <th>...</th>\n",
       "      <td>...</td>\n",
       "      <td>...</td>\n",
       "      <td>...</td>\n",
       "      <td>...</td>\n",
       "      <td>...</td>\n",
       "      <td>...</td>\n",
       "      <td>...</td>\n",
       "      <td>...</td>\n",
       "      <td>...</td>\n",
       "      <td>...</td>\n",
       "      <td>...</td>\n",
       "      <td>...</td>\n",
       "      <td>...</td>\n",
       "      <td>...</td>\n",
       "      <td>...</td>\n",
       "      <td>...</td>\n",
       "      <td>...</td>\n",
       "      <td>...</td>\n",
       "      <td>...</td>\n",
       "      <td>...</td>\n",
       "      <td>...</td>\n",
       "    </tr>\n",
       "    <tr>\n",
       "      <th>53410</th>\n",
       "      <td>53410</td>\n",
       "      <td>1.0</td>\n",
       "      <td>1.0</td>\n",
       "      <td>0.0</td>\n",
       "      <td>1.0</td>\n",
       "      <td>0.0</td>\n",
       "      <td>1.0</td>\n",
       "      <td>0.0</td>\n",
       "      <td>0.0</td>\n",
       "      <td>1.0</td>\n",
       "      <td>...</td>\n",
       "      <td>1.0</td>\n",
       "      <td>0.0</td>\n",
       "      <td>0.0</td>\n",
       "      <td>0.0</td>\n",
       "      <td>2.0</td>\n",
       "      <td>1.0</td>\n",
       "      <td>1.0</td>\n",
       "      <td>1.0</td>\n",
       "      <td>19.0</td>\n",
       "      <td>5.0</td>\n",
       "    </tr>\n",
       "    <tr>\n",
       "      <th>53411</th>\n",
       "      <td>53411</td>\n",
       "      <td>3.0</td>\n",
       "      <td>1.0</td>\n",
       "      <td>0.0</td>\n",
       "      <td>1.0</td>\n",
       "      <td>0.0</td>\n",
       "      <td>1.0</td>\n",
       "      <td>1.0</td>\n",
       "      <td>1.0</td>\n",
       "      <td>1.0</td>\n",
       "      <td>...</td>\n",
       "      <td>2.0</td>\n",
       "      <td>0.0</td>\n",
       "      <td>1.0</td>\n",
       "      <td>0.0</td>\n",
       "      <td>9.0</td>\n",
       "      <td>2.0</td>\n",
       "      <td>1.0</td>\n",
       "      <td>3.0</td>\n",
       "      <td>4.0</td>\n",
       "      <td>19.0</td>\n",
       "    </tr>\n",
       "    <tr>\n",
       "      <th>53412</th>\n",
       "      <td>53412</td>\n",
       "      <td>0.0</td>\n",
       "      <td>1.0</td>\n",
       "      <td>0.0</td>\n",
       "      <td>0.0</td>\n",
       "      <td>0.0</td>\n",
       "      <td>0.0</td>\n",
       "      <td>0.0</td>\n",
       "      <td>0.0</td>\n",
       "      <td>0.0</td>\n",
       "      <td>...</td>\n",
       "      <td>2.0</td>\n",
       "      <td>1.0</td>\n",
       "      <td>1.0</td>\n",
       "      <td>1.0</td>\n",
       "      <td>9.0</td>\n",
       "      <td>0.0</td>\n",
       "      <td>1.0</td>\n",
       "      <td>0.0</td>\n",
       "      <td>8.0</td>\n",
       "      <td>7.0</td>\n",
       "    </tr>\n",
       "    <tr>\n",
       "      <th>53413</th>\n",
       "      <td>53413</td>\n",
       "      <td>3.0</td>\n",
       "      <td>1.0</td>\n",
       "      <td>0.0</td>\n",
       "      <td>1.0</td>\n",
       "      <td>0.0</td>\n",
       "      <td>1.0</td>\n",
       "      <td>0.0</td>\n",
       "      <td>1.0</td>\n",
       "      <td>0.0</td>\n",
       "      <td>...</td>\n",
       "      <td>0.0</td>\n",
       "      <td>0.0</td>\n",
       "      <td>0.0</td>\n",
       "      <td>1.0</td>\n",
       "      <td>1.0</td>\n",
       "      <td>0.0</td>\n",
       "      <td>1.0</td>\n",
       "      <td>0.0</td>\n",
       "      <td>16.0</td>\n",
       "      <td>10.0</td>\n",
       "    </tr>\n",
       "    <tr>\n",
       "      <th>53414</th>\n",
       "      <td>53414</td>\n",
       "      <td>2.0</td>\n",
       "      <td>1.0</td>\n",
       "      <td>0.0</td>\n",
       "      <td>0.0</td>\n",
       "      <td>0.0</td>\n",
       "      <td>1.0</td>\n",
       "      <td>0.0</td>\n",
       "      <td>0.0</td>\n",
       "      <td>1.0</td>\n",
       "      <td>...</td>\n",
       "      <td>1.0</td>\n",
       "      <td>1.0</td>\n",
       "      <td>1.0</td>\n",
       "      <td>0.0</td>\n",
       "      <td>5.0</td>\n",
       "      <td>1.0</td>\n",
       "      <td>0.0</td>\n",
       "      <td>0.0</td>\n",
       "      <td>1.0</td>\n",
       "      <td>22.0</td>\n",
       "    </tr>\n",
       "  </tbody>\n",
       "</table>\n",
       "<p>26708 rows × 36 columns</p>\n",
       "</div>"
      ],
      "text/plain": [
       "       Unnamed: 0  h1n1_concern  h1n1_knowledge  behavioral_antiviral_meds  \\\n",
       "26707       26707           2.0             2.0                        0.0   \n",
       "26708       26708           1.0             1.0                        0.0   \n",
       "26709       26709           2.0             2.0                        0.0   \n",
       "26710       26710           1.0             1.0                        0.0   \n",
       "26711       26711           3.0             1.0                        1.0   \n",
       "...           ...           ...             ...                        ...   \n",
       "53410       53410           1.0             1.0                        0.0   \n",
       "53411       53411           3.0             1.0                        0.0   \n",
       "53412       53412           0.0             1.0                        0.0   \n",
       "53413       53413           3.0             1.0                        0.0   \n",
       "53414       53414           2.0             1.0                        0.0   \n",
       "\n",
       "       behavioral_avoidance  behavioral_face_mask  behavioral_wash_hands  \\\n",
       "26707                   1.0                   0.0                    1.0   \n",
       "26708                   0.0                   0.0                    0.0   \n",
       "26709                   0.0                   1.0                    1.0   \n",
       "26710                   0.0                   0.0                    0.0   \n",
       "26711                   1.0                   0.0                    1.0   \n",
       "...                     ...                   ...                    ...   \n",
       "53410                   1.0                   0.0                    1.0   \n",
       "53411                   1.0                   0.0                    1.0   \n",
       "53412                   0.0                   0.0                    0.0   \n",
       "53413                   1.0                   0.0                    1.0   \n",
       "53414                   0.0                   0.0                    1.0   \n",
       "\n",
       "       behavioral_large_gatherings  behavioral_outside_home  \\\n",
       "26707                          1.0                      0.0   \n",
       "26708                          0.0                      0.0   \n",
       "26709                          1.0                      1.0   \n",
       "26710                          0.0                      0.0   \n",
       "26711                          1.0                      1.0   \n",
       "...                            ...                      ...   \n",
       "53410                          0.0                      0.0   \n",
       "53411                          1.0                      1.0   \n",
       "53412                          0.0                      0.0   \n",
       "53413                          0.0                      1.0   \n",
       "53414                          0.0                      0.0   \n",
       "\n",
       "       behavioral_touch_face  ...  income_poverty  marital_status  \\\n",
       "26707                    1.0  ...             1.0             1.0   \n",
       "26708                    0.0  ...             2.0             1.0   \n",
       "26709                    1.0  ...             1.0             0.0   \n",
       "26710                    0.0  ...             0.0             0.0   \n",
       "26711                    1.0  ...             0.0             1.0   \n",
       "...                      ...  ...             ...             ...   \n",
       "53410                    1.0  ...             1.0             0.0   \n",
       "53411                    1.0  ...             2.0             0.0   \n",
       "53412                    0.0  ...             2.0             1.0   \n",
       "53413                    0.0  ...             0.0             0.0   \n",
       "53414                    1.0  ...             1.0             1.0   \n",
       "\n",
       "       rent_or_own  employment_status  hhs_geo_region  census_msa  \\\n",
       "26707          1.0                0.0             7.0         0.0   \n",
       "26708          1.0                0.0             1.0         2.0   \n",
       "26709          0.0                0.0             5.0         2.0   \n",
       "26710          0.0                1.0             5.0         0.0   \n",
       "26711          0.0                0.0             6.0         2.0   \n",
       "...            ...                ...             ...         ...   \n",
       "53410          0.0                0.0             2.0         1.0   \n",
       "53411          1.0                0.0             9.0         2.0   \n",
       "53412          1.0                1.0             9.0         0.0   \n",
       "53413          0.0                1.0             1.0         0.0   \n",
       "53414          1.0                0.0             5.0         1.0   \n",
       "\n",
       "       household_adults  household_children  employment_industry  \\\n",
       "26707               1.0                 0.0                  1.0   \n",
       "26708               3.0                 0.0                  1.0   \n",
       "26709               1.0                 0.0                 11.0   \n",
       "26710               1.0                 0.0                 20.0   \n",
       "26711               0.0                 1.0                  4.0   \n",
       "...                 ...                 ...                  ...   \n",
       "53410               1.0                 1.0                 19.0   \n",
       "53411               1.0                 3.0                  4.0   \n",
       "53412               1.0                 0.0                  8.0   \n",
       "53413               1.0                 0.0                 16.0   \n",
       "53414               0.0                 0.0                  1.0   \n",
       "\n",
       "       employment_occupation  \n",
       "26707                    7.0  \n",
       "26708                   21.0  \n",
       "26709                   13.0  \n",
       "26710                    9.0  \n",
       "26711                   10.0  \n",
       "...                      ...  \n",
       "53410                    5.0  \n",
       "53411                   19.0  \n",
       "53412                    7.0  \n",
       "53413                   10.0  \n",
       "53414                   22.0  \n",
       "\n",
       "[26708 rows x 36 columns]"
      ]
     },
     "execution_count": 35,
     "metadata": {},
     "output_type": "execute_result"
    }
   ],
   "source": [
    "testflu"
   ]
  },
  {
   "cell_type": "code",
   "execution_count": 36,
   "id": "e0e7743a",
   "metadata": {},
   "outputs": [],
   "source": [
    "trainflu=trainflu.drop('Unnamed: 0',axis=1)\n",
    "testflu=testflu.drop('Unnamed: 0',axis=1)"
   ]
  },
  {
   "cell_type": "code",
   "execution_count": 37,
   "id": "ffce9b8c",
   "metadata": {},
   "outputs": [
    {
     "name": "stdout",
     "output_type": "stream",
     "text": [
      "(26707, 35)\n",
      "(26708, 35)\n"
     ]
    }
   ],
   "source": [
    "print(trainflu.shape)\n",
    "print(testflu.shape)"
   ]
  },
  {
   "cell_type": "markdown",
   "id": "bf6e1385",
   "metadata": {},
   "source": [
    "### Data Visualization"
   ]
  },
  {
   "cell_type": "code",
   "execution_count": 38,
   "id": "12d38936",
   "metadata": {},
   "outputs": [
    {
     "data": {
      "text/plain": [
       "<Axes: ylabel='count'>"
      ]
     },
     "execution_count": 38,
     "metadata": {},
     "output_type": "execute_result"
    },
    {
     "data": {
      "image/png": "[encoded data removed]",
      "text/plain": [
       "<Figure size 640x480 with 1 Axes>"
      ]
     },
     "metadata": {},
     "output_type": "display_data"
    }
   ],
   "source": [
    "# Pie Diagrams - sex,\n",
    "trainflu.sex.value_counts().plot(kind='pie',autopct='%0.2f%%')"
   ]
  },
  {
   "cell_type": "code",
   "execution_count": 39,
   "id": "6881c3e6",
   "metadata": {},
   "outputs": [
    {
     "data": {
      "text/plain": [
       "<Axes: ylabel='count'>"
      ]
     },
     "execution_count": 39,
     "metadata": {},
     "output_type": "execute_result"
    },
    {
     "data": {
      "image/png": "[encoded data removed]",
      "text/plain": [
       "<Figure size 640x480 with 1 Axes>"
      ]
     },
     "metadata": {},
     "output_type": "display_data"
    }
   ],
   "source": [
    "# Pie Diagrams - education\n",
    "trainflu.education.value_counts().plot(kind='pie',autopct='%0.2f%%')"
   ]
  },
  {
   "cell_type": "code",
   "execution_count": 40,
   "id": "77d86727",
   "metadata": {},
   "outputs": [
    {
     "data": {
      "text/plain": [
       "<Axes: ylabel='count'>"
      ]
     },
     "execution_count": 40,
     "metadata": {},
     "output_type": "execute_result"
    },
    {
     "data": {
      "image/png": "[encoded data removed]",
      "text/plain": [
       "<Figure size 640x480 with 1 Axes>"
      ]
     },
     "metadata": {},
     "output_type": "display_data"
    }
   ],
   "source": [
    "# Pie Diagrams - marital_status\n",
    "trainflu.marital_status.value_counts().plot(kind='pie',autopct='%0.2f%%')"
   ]
  },
  {
   "cell_type": "code",
   "execution_count": 41,
   "id": "08ac7680",
   "metadata": {},
   "outputs": [
    {
     "data": {
      "text/plain": [
       "<Axes: ylabel='count'>"
      ]
     },
     "execution_count": 41,
     "metadata": {},
     "output_type": "execute_result"
    },
    {
     "data": {
      "image/png": "[encoded data removed]",
      "text/plain": [
       "<Figure size 640x480 with 1 Axes>"
      ]
     },
     "metadata": {},
     "output_type": "display_data"
    }
   ],
   "source": [
    "# Pie Diagrams - health_insurance\n",
    "trainflu.health_insurance.value_counts().plot(kind='pie',autopct='%0.2f%%')"
   ]
  },
  {
   "cell_type": "code",
   "execution_count": 42,
   "id": "2f4e99cf",
   "metadata": {},
   "outputs": [
    {
     "data": {
      "image/png": "[encoded data removed]",
      "text/plain": [
       "<Figure size 640x480 with 1 Axes>"
      ]
     },
     "metadata": {},
     "output_type": "display_data"
    }
   ],
   "source": [
    "# Stacked Bar Plots - h1n1_concern & sex \n",
    "ax=pd.crosstab(trainflu.h1n1_concern,trainflu.sex).plot(kind='bar',stacked=True)\n",
    "for i in ax.containers:\n",
    "    ax.bar_label(i)    "
   ]
  },
  {
   "cell_type": "code",
   "execution_count": 43,
   "id": "cac5db67",
   "metadata": {},
   "outputs": [
    {
     "data": {
      "image/png": "[encoded data removed]",
      "text/plain": [
       "<Figure size 640x480 with 1 Axes>"
      ]
     },
     "metadata": {},
     "output_type": "display_data"
    }
   ],
   "source": [
    "# Stacked Bar Plots - h1n1_knowledge & race\n",
    "ax=pd.crosstab(trainflu.h1n1_knowledge,trainflu.race).plot(kind='bar',stacked=True)\n",
    "for i in ax.containers:\n",
    "    ax.bar_label(i)"
   ]
  },
  {
   "cell_type": "code",
   "execution_count": 44,
   "id": "b2eb126a",
   "metadata": {},
   "outputs": [
    {
     "data": {
      "image/png": "[encoded data removed]",
      "text/plain": [
       "<Figure size 640x480 with 1 Axes>"
      ]
     },
     "metadata": {},
     "output_type": "display_data"
    }
   ],
   "source": [
    "# Stacked Bar Plots - health_insurance & employment_status,\n",
    "ax=pd.crosstab(trainflu.health_insurance,trainflu.employment_status).plot(kind='bar',stacked=True)\n",
    "for i in ax.containers:\n",
    "    ax.bar_label(i)"
   ]
  },
  {
   "cell_type": "code",
   "execution_count": 45,
   "id": "75a186e6",
   "metadata": {},
   "outputs": [
    {
     "data": {
      "image/png": "[encoded data removed]",
      "text/plain": [
       "<Figure size 640x480 with 1 Axes>"
      ]
     },
     "metadata": {},
     "output_type": "display_data"
    }
   ],
   "source": [
    "# stacked barplot - health_worker & h1n1knowledge\n",
    "ax=pd.crosstab(trainflu.health_worker,trainflu.h1n1_knowledge).plot(kind='bar',stacked=True)\n",
    "for i in ax.containers:\n",
    "    ax.bar_label(i)"
   ]
  },
  {
   "cell_type": "markdown",
   "id": "7443407a",
   "metadata": {},
   "source": [
    "### Hypothesis Testing"
   ]
  },
  {
   "cell_type": "code",
   "execution_count": 46,
   "id": "f9232e35",
   "metadata": {},
   "outputs": [],
   "source": [
    "from scipy.stats import chi2_contingency"
   ]
  },
  {
   "cell_type": "markdown",
   "id": "89e0967a",
   "metadata": {},
   "source": [
    "#### Test Null No Association between h1n1_vaccine & h1n1concern"
   ]
  },
  {
   "cell_type": "code",
   "execution_count": 47,
   "id": "798e789b",
   "metadata": {},
   "outputs": [
    {
     "data": {
      "text/html": [
       "<div>\n",
       "<style scoped>\n",
       "    .dataframe tbody tr th:only-of-type {\n",
       "        vertical-align: middle;\n",
       "    }\n",
       "\n",
       "    .dataframe tbody tr th {\n",
       "        vertical-align: top;\n",
       "    }\n",
       "\n",
       "    .dataframe thead th {\n",
       "        text-align: right;\n",
       "    }\n",
       "</style>\n",
       "<table border=\"1\" class=\"dataframe\">\n",
       "  <thead>\n",
       "    <tr style=\"text-align: right;\">\n",
       "      <th>h1n1_concern</th>\n",
       "      <th>0.0</th>\n",
       "      <th>1.0</th>\n",
       "      <th>2.0</th>\n",
       "      <th>3.0</th>\n",
       "    </tr>\n",
       "    <tr>\n",
       "      <th>h1n1_vaccine</th>\n",
       "      <th></th>\n",
       "      <th></th>\n",
       "      <th></th>\n",
       "      <th></th>\n",
       "    </tr>\n",
       "  </thead>\n",
       "  <tbody>\n",
       "    <tr>\n",
       "      <th>0</th>\n",
       "      <td>2864</td>\n",
       "      <td>6777</td>\n",
       "      <td>8130</td>\n",
       "      <td>3262</td>\n",
       "    </tr>\n",
       "    <tr>\n",
       "      <th>1</th>\n",
       "      <td>450</td>\n",
       "      <td>1399</td>\n",
       "      <td>2482</td>\n",
       "      <td>1343</td>\n",
       "    </tr>\n",
       "  </tbody>\n",
       "</table>\n",
       "</div>"
      ],
      "text/plain": [
       "h1n1_concern   0.0   1.0   2.0   3.0\n",
       "h1n1_vaccine                        \n",
       "0             2864  6777  8130  3262\n",
       "1              450  1399  2482  1343"
      ]
     },
     "execution_count": 47,
     "metadata": {},
     "output_type": "execute_result"
    }
   ],
   "source": [
    "pd.crosstab(flulabel.h1n1_vaccine,trainflu.h1n1_concern)\n",
    "# since pvalue=3.075121463735956e-143 is lessthan 0.05 both are independent reject null"
   ]
  },
  {
   "cell_type": "code",
   "execution_count": 48,
   "id": "b7236487",
   "metadata": {},
   "outputs": [
    {
     "data": {
      "text/plain": [
       "Chi2ContingencyResult(statistic=401.65256861142495, pvalue=9.709469467411686e-87, dof=3, expected_freq=array([[2609.92855806, 6438.9788445 , 8357.4417194 , 3626.65087805],\n",
       "       [ 704.07144194, 1737.0211555 , 2254.5582806 ,  978.34912195]]))"
      ]
     },
     "execution_count": 48,
     "metadata": {},
     "output_type": "execute_result"
    }
   ],
   "source": [
    "chi2_contingency(pd.crosstab(flulabel.h1n1_vaccine,trainflu.h1n1_concern))\n",
    "#Null:There is no significante difference between h1n1_vaccine for different h1n1_concern"
   ]
  },
  {
   "cell_type": "markdown",
   "id": "1f5c961c",
   "metadata": {},
   "source": [
    "#### Test Null No Association between h1n1_vaccine & h1n1knowledge"
   ]
  },
  {
   "cell_type": "code",
   "execution_count": 49,
   "id": "db844863",
   "metadata": {},
   "outputs": [
    {
     "data": {
      "text/html": [
       "<div>\n",
       "<style scoped>\n",
       "    .dataframe tbody tr th:only-of-type {\n",
       "        vertical-align: middle;\n",
       "    }\n",
       "\n",
       "    .dataframe tbody tr th {\n",
       "        vertical-align: top;\n",
       "    }\n",
       "\n",
       "    .dataframe thead th {\n",
       "        text-align: right;\n",
       "    }\n",
       "</style>\n",
       "<table border=\"1\" class=\"dataframe\">\n",
       "  <thead>\n",
       "    <tr style=\"text-align: right;\">\n",
       "      <th>h1n1_knowledge</th>\n",
       "      <th>0.0</th>\n",
       "      <th>1.0</th>\n",
       "      <th>2.0</th>\n",
       "    </tr>\n",
       "    <tr>\n",
       "      <th>h1n1_vaccine</th>\n",
       "      <th></th>\n",
       "      <th></th>\n",
       "      <th></th>\n",
       "    </tr>\n",
       "  </thead>\n",
       "  <tbody>\n",
       "    <tr>\n",
       "      <th>0</th>\n",
       "      <td>2162</td>\n",
       "      <td>11997</td>\n",
       "      <td>6874</td>\n",
       "    </tr>\n",
       "    <tr>\n",
       "      <th>1</th>\n",
       "      <td>363</td>\n",
       "      <td>2665</td>\n",
       "      <td>2646</td>\n",
       "    </tr>\n",
       "  </tbody>\n",
       "</table>\n",
       "</div>"
      ],
      "text/plain": [
       "h1n1_knowledge   0.0    1.0   2.0\n",
       "h1n1_vaccine                     \n",
       "0               2162  11997  6874\n",
       "1                363   2665  2646"
      ]
     },
     "execution_count": 49,
     "metadata": {},
     "output_type": "execute_result"
    }
   ],
   "source": [
    "pd.crosstab(flulabel.h1n1_vaccine,trainflu.h1n1_knowledge)\n",
    "# since pvalue=3.350706141408485e-86 is lessthan 0.05 both are independent reject null"
   ]
  },
  {
   "cell_type": "code",
   "execution_count": 50,
   "id": "22e17b00",
   "metadata": {},
   "outputs": [
    {
     "data": {
      "text/plain": [
       "Chi2ContingencyResult(statistic=397.7641555078144, pvalue=4.232637565044274e-87, dof=2, expected_freq=array([[ 1988.55449882, 11547.00438087,  7497.44112031],\n",
       "       [  536.44550118,  3114.99561913,  2022.55887969]]))"
      ]
     },
     "execution_count": 50,
     "metadata": {},
     "output_type": "execute_result"
    }
   ],
   "source": [
    "chi2_contingency(pd.crosstab(flulabel.h1n1_vaccine,trainflu.h1n1_knowledge))\n",
    "#Null:There is no significante difference between h1n1_vaccine for different h1n1_knowledge\n"
   ]
  },
  {
   "cell_type": "markdown",
   "id": "41ff1538",
   "metadata": {},
   "source": [
    "#### Test Null No Association between h1n1_vaccine & health_worker"
   ]
  },
  {
   "cell_type": "code",
   "execution_count": 51,
   "id": "b279a558",
   "metadata": {},
   "outputs": [
    {
     "data": {
      "text/html": [
       "<div>\n",
       "<style scoped>\n",
       "    .dataframe tbody tr th:only-of-type {\n",
       "        vertical-align: middle;\n",
       "    }\n",
       "\n",
       "    .dataframe tbody tr th {\n",
       "        vertical-align: top;\n",
       "    }\n",
       "\n",
       "    .dataframe thead th {\n",
       "        text-align: right;\n",
       "    }\n",
       "</style>\n",
       "<table border=\"1\" class=\"dataframe\">\n",
       "  <thead>\n",
       "    <tr style=\"text-align: right;\">\n",
       "      <th>health_worker</th>\n",
       "      <th>0.0</th>\n",
       "      <th>1.0</th>\n",
       "    </tr>\n",
       "    <tr>\n",
       "      <th>h1n1_vaccine</th>\n",
       "      <th></th>\n",
       "      <th></th>\n",
       "    </tr>\n",
       "  </thead>\n",
       "  <tbody>\n",
       "    <tr>\n",
       "      <th>0</th>\n",
       "      <td>19251</td>\n",
       "      <td>1782</td>\n",
       "    </tr>\n",
       "    <tr>\n",
       "      <th>1</th>\n",
       "      <td>4465</td>\n",
       "      <td>1209</td>\n",
       "    </tr>\n",
       "  </tbody>\n",
       "</table>\n",
       "</div>"
      ],
      "text/plain": [
       "health_worker    0.0   1.0\n",
       "h1n1_vaccine              \n",
       "0              19251  1782\n",
       "1               4465  1209"
      ]
     },
     "execution_count": 51,
     "metadata": {},
     "output_type": "execute_result"
    }
   ],
   "source": [
    "pd.crosstab(flulabel.h1n1_vaccine,trainflu.health_worker)\n",
    "# since pvalue=1.0854198362462328e-90 is lessthan 0.05 both are independent reject Null"
   ]
  },
  {
   "cell_type": "code",
   "execution_count": 52,
   "id": "65ef9c86",
   "metadata": {},
   "outputs": [
    {
     "data": {
      "text/plain": [
       "Chi2ContingencyResult(statistic=738.9475258562708, pvalue=1.0153857611886175e-162, dof=1, expected_freq=array([[18677.44890853,  2355.55109147],\n",
       "       [ 5038.55109147,   635.44890853]]))"
      ]
     },
     "execution_count": 52,
     "metadata": {},
     "output_type": "execute_result"
    }
   ],
   "source": [
    "chi2_contingency(pd.crosstab(flulabel.h1n1_vaccine,trainflu.health_worker))\n",
    "#Null:There is no significante difference between h1n1_vaccine different health_worker"
   ]
  },
  {
   "cell_type": "markdown",
   "id": "6bcee2ec",
   "metadata": {},
   "source": [
    "#### Test Null No Association between h1n1_vaccine & sex"
   ]
  },
  {
   "cell_type": "code",
   "execution_count": 53,
   "id": "00657747",
   "metadata": {},
   "outputs": [
    {
     "data": {
      "text/html": [
       "<div>\n",
       "<style scoped>\n",
       "    .dataframe tbody tr th:only-of-type {\n",
       "        vertical-align: middle;\n",
       "    }\n",
       "\n",
       "    .dataframe tbody tr th {\n",
       "        vertical-align: top;\n",
       "    }\n",
       "\n",
       "    .dataframe thead th {\n",
       "        text-align: right;\n",
       "    }\n",
       "</style>\n",
       "<table border=\"1\" class=\"dataframe\">\n",
       "  <thead>\n",
       "    <tr style=\"text-align: right;\">\n",
       "      <th>sex</th>\n",
       "      <th>0.0</th>\n",
       "      <th>1.0</th>\n",
       "    </tr>\n",
       "    <tr>\n",
       "      <th>h1n1_vaccine</th>\n",
       "      <th></th>\n",
       "      <th></th>\n",
       "    </tr>\n",
       "  </thead>\n",
       "  <tbody>\n",
       "    <tr>\n",
       "      <th>0</th>\n",
       "      <td>12378</td>\n",
       "      <td>8655</td>\n",
       "    </tr>\n",
       "    <tr>\n",
       "      <th>1</th>\n",
       "      <td>3480</td>\n",
       "      <td>2194</td>\n",
       "    </tr>\n",
       "  </tbody>\n",
       "</table>\n",
       "</div>"
      ],
      "text/plain": [
       "sex             0.0   1.0\n",
       "h1n1_vaccine             \n",
       "0             12378  8655\n",
       "1              3480  2194"
      ]
     },
     "execution_count": 53,
     "metadata": {},
     "output_type": "execute_result"
    }
   ],
   "source": [
    "pd.crosstab(flulabel.h1n1_vaccine,trainflu.sex)\n",
    "# since  pvalue=0.0007709155489949327, is lessthan 0.05 both are independent so reject null"
   ]
  },
  {
   "cell_type": "code",
   "execution_count": 54,
   "id": "54ec461f",
   "metadata": {},
   "outputs": [
    {
     "data": {
      "text/plain": [
       "Chi2ContingencyResult(statistic=11.309981152455997, pvalue=0.0007709155489949327, dof=1, expected_freq=array([[12488.90979893,  8544.09020107],\n",
       "       [ 3369.09020107,  2304.90979893]]))"
      ]
     },
     "execution_count": 54,
     "metadata": {},
     "output_type": "execute_result"
    }
   ],
   "source": [
    "chi2_contingency(pd.crosstab(flulabel.h1n1_vaccine,flutrain.sex))\n",
    "#Null:There is no significante difference between h1n1_vaccine for different sex"
   ]
  },
  {
   "cell_type": "markdown",
   "id": "3bf60243",
   "metadata": {},
   "source": [
    "#### Test Null No Association between h1n1_vaccine & employment_status"
   ]
  },
  {
   "cell_type": "code",
   "execution_count": 55,
   "id": "836813ca",
   "metadata": {},
   "outputs": [
    {
     "data": {
      "text/html": [
       "<div>\n",
       "<style scoped>\n",
       "    .dataframe tbody tr th:only-of-type {\n",
       "        vertical-align: middle;\n",
       "    }\n",
       "\n",
       "    .dataframe tbody tr th {\n",
       "        vertical-align: top;\n",
       "    }\n",
       "\n",
       "    .dataframe thead th {\n",
       "        text-align: right;\n",
       "    }\n",
       "</style>\n",
       "<table border=\"1\" class=\"dataframe\">\n",
       "  <thead>\n",
       "    <tr style=\"text-align: right;\">\n",
       "      <th>employment_status</th>\n",
       "      <th>Employed</th>\n",
       "      <th>Not in Labor Force</th>\n",
       "      <th>Unemployed</th>\n",
       "    </tr>\n",
       "    <tr>\n",
       "      <th>h1n1_vaccine</th>\n",
       "      <th></th>\n",
       "      <th></th>\n",
       "      <th></th>\n",
       "    </tr>\n",
       "  </thead>\n",
       "  <tbody>\n",
       "    <tr>\n",
       "      <th>0</th>\n",
       "      <td>10637</td>\n",
       "      <td>7988</td>\n",
       "      <td>1216</td>\n",
       "    </tr>\n",
       "    <tr>\n",
       "      <th>1</th>\n",
       "      <td>2923</td>\n",
       "      <td>2243</td>\n",
       "      <td>237</td>\n",
       "    </tr>\n",
       "  </tbody>\n",
       "</table>\n",
       "</div>"
      ],
      "text/plain": [
       "employment_status  Employed  Not in Labor Force  Unemployed\n",
       "h1n1_vaccine                                               \n",
       "0                     10637                7988        1216\n",
       "1                      2923                2243         237"
      ]
     },
     "execution_count": 55,
     "metadata": {},
     "output_type": "execute_result"
    }
   ],
   "source": [
    "pd.crosstab(flulabel.h1n1_vaccine,flutrain.employment_status)\n",
    "# since  pvalue=5.472123171178154e-06 is lessthan 0.05 both are independent so reject null"
   ]
  },
  {
   "cell_type": "code",
   "execution_count": 56,
   "id": "497d7d64",
   "metadata": {},
   "outputs": [
    {
     "data": {
      "text/plain": [
       "Chi2ContingencyResult(statistic=24.231687737089246, pvalue=5.472123171178154e-06, dof=2, expected_freq=array([[10657.73886864,  8041.24825701,  1142.01287435],\n",
       "       [ 2902.26113136,  2189.75174299,   310.98712565]]))"
      ]
     },
     "execution_count": 56,
     "metadata": {},
     "output_type": "execute_result"
    }
   ],
   "source": [
    "chi2_contingency(pd.crosstab(flulabel.h1n1_vaccine,flutrain.employment_status))\n",
    "#Null:There is no significante difference between h1n1_vaccine for different employment_status"
   ]
  },
  {
   "cell_type": "markdown",
   "id": "807b05c0",
   "metadata": {},
   "source": [
    "#### Test Null No Association between h1n1_vaccine & education"
   ]
  },
  {
   "cell_type": "code",
   "execution_count": 223,
   "id": "0c34f50e",
   "metadata": {
    "scrolled": true
   },
   "outputs": [
    {
     "data": {
      "text/html": [
       "<div>\n",
       "<style scoped>\n",
       "    .dataframe tbody tr th:only-of-type {\n",
       "        vertical-align: middle;\n",
       "    }\n",
       "\n",
       "    .dataframe tbody tr th {\n",
       "        vertical-align: top;\n",
       "    }\n",
       "\n",
       "    .dataframe thead th {\n",
       "        text-align: right;\n",
       "    }\n",
       "</style>\n",
       "<table border=\"1\" class=\"dataframe\">\n",
       "  <thead>\n",
       "    <tr style=\"text-align: right;\">\n",
       "      <th>education</th>\n",
       "      <th>12 Years</th>\n",
       "      <th>&lt; 12 Years</th>\n",
       "      <th>College Graduate</th>\n",
       "      <th>Some College</th>\n",
       "    </tr>\n",
       "    <tr>\n",
       "      <th>h1n1_vaccine</th>\n",
       "      <th></th>\n",
       "      <th></th>\n",
       "      <th></th>\n",
       "      <th></th>\n",
       "    </tr>\n",
       "  </thead>\n",
       "  <tbody>\n",
       "    <tr>\n",
       "      <th>0</th>\n",
       "      <td>4726</td>\n",
       "      <td>1968</td>\n",
       "      <td>7614</td>\n",
       "      <td>5579</td>\n",
       "    </tr>\n",
       "    <tr>\n",
       "      <th>1</th>\n",
       "      <td>1071</td>\n",
       "      <td>395</td>\n",
       "      <td>2483</td>\n",
       "      <td>1464</td>\n",
       "    </tr>\n",
       "  </tbody>\n",
       "</table>\n",
       "</div>"
      ],
      "text/plain": [
       "education     12 Years  < 12 Years  College Graduate  Some College\n",
       "h1n1_vaccine                                                      \n",
       "0                 4726        1968              7614          5579\n",
       "1                 1071         395              2483          1464"
      ]
     },
     "execution_count": 223,
     "metadata": {},
     "output_type": "execute_result"
    }
   ],
   "source": [
    "pd.crosstab(flulabel.h1n1_vaccine,flutrain.education)\n",
    "# since pvalue=1.7064066491282076e-26 is lessthan 0.05 both are independent so reject null "
   ]
  },
  {
   "cell_type": "code",
   "execution_count": 58,
   "id": "989d7015",
   "metadata": {},
   "outputs": [
    {
     "data": {
      "text/plain": [
       "Chi2ContingencyResult(statistic=123.04265449793024, pvalue=1.7064066491282076e-26, dof=3, expected_freq=array([[4556.71695652, 1857.43007905, 7936.72090909, 5536.13205534],\n",
       "       [1240.28304348,  505.56992095, 2160.27909091, 1506.86794466]]))"
      ]
     },
     "execution_count": 58,
     "metadata": {},
     "output_type": "execute_result"
    }
   ],
   "source": [
    "chi2_contingency(pd.crosstab(flulabel.h1n1_vaccine,flutrain.education))\n",
    "#Null:There is no significante difference between  h1n1_vaccine for different education"
   ]
  },
  {
   "cell_type": "markdown",
   "id": "e34b1f7a",
   "metadata": {},
   "source": [
    "## After doing EDA we will start model building"
   ]
  },
  {
   "cell_type": "markdown",
   "id": "eb9404f8",
   "metadata": {},
   "source": [
    "### We will split the data into x and y"
   ]
  },
  {
   "cell_type": "code",
   "execution_count": 59,
   "id": "349a039f",
   "metadata": {},
   "outputs": [],
   "source": [
    "x=trainflu\n",
    "y=flulabel.h1n1_vaccine.values"
   ]
  },
  {
   "cell_type": "code",
   "execution_count": 60,
   "id": "128a6332",
   "metadata": {},
   "outputs": [
    {
     "data": {
      "text/plain": [
       "array([0, 0, 0, ..., 0, 0, 0], dtype=int64)"
      ]
     },
     "execution_count": 60,
     "metadata": {},
     "output_type": "execute_result"
    }
   ],
   "source": [
    "y"
   ]
  },
  {
   "cell_type": "code",
   "execution_count": 61,
   "id": "bf1c57ed",
   "metadata": {},
   "outputs": [],
   "source": [
    "from sklearn.preprocessing import LabelEncoder"
   ]
  },
  {
   "cell_type": "code",
   "execution_count": 62,
   "id": "3d466ba7",
   "metadata": {},
   "outputs": [],
   "source": [
    "y=LabelEncoder().fit_transform(y)"
   ]
  },
  {
   "cell_type": "code",
   "execution_count": 63,
   "id": "fefd5bc7",
   "metadata": {},
   "outputs": [
    {
     "data": {
      "text/plain": [
       "<Figure size 1500x3000 with 0 Axes>"
      ]
     },
     "metadata": {},
     "output_type": "display_data"
    },
    {
     "data": {
      "image/png": "[encoded data removed]",
      "text/plain": [
       "<Figure size 640x480 with 3 Axes>"
      ]
     },
     "metadata": {},
     "output_type": "display_data"
    }
   ],
   "source": [
    "plt.figure(figsize=(15,30))\n",
    "fig, ax=plt.subplots(3,1)\n",
    "sns.kdeplot(np.log1p(y),ax=ax[0])\n",
    "sns.histplot(np.log1p(y),ax=ax[1])\n",
    "sns.boxplot(np.log1p(y),orient='h',ax=ax[2])\n",
    "plt.show()"
   ]
  },
  {
   "cell_type": "markdown",
   "id": "7f880d41",
   "metadata": {},
   "source": [
    "## LogisticRegression"
   ]
  },
  {
   "cell_type": "code",
   "execution_count": 64,
   "id": "c703d4f4",
   "metadata": {},
   "outputs": [],
   "source": [
    "from sklearn.linear_model import LogisticRegression"
   ]
  },
  {
   "cell_type": "code",
   "execution_count": 65,
   "id": "e4dde811",
   "metadata": {},
   "outputs": [],
   "source": [
    "logit=LogisticRegression(max_iter=300)"
   ]
  },
  {
   "cell_type": "code",
   "execution_count": 66,
   "id": "3cd1116d",
   "metadata": {},
   "outputs": [],
   "source": [
    "#logit_params={'max_iter':[100,200,300,500,800,1000,1400,1600,1900,2100,2500,3000]}\n",
    "\n",
    "#from sklearn.model_selection import GridSearchCV\n",
    "\n",
    "#logit_grid=GridSearchCV(estimator=LogisticRegression(),param_grid=logit_params).fit(x,y)\n",
    "\n",
    "#logit_grid.best_estimator_\n",
    "\n",
    "#logit_grid.best_score_"
   ]
  },
  {
   "cell_type": "code",
   "execution_count": 67,
   "id": "da064e7e",
   "metadata": {
    "scrolled": true
   },
   "outputs": [],
   "source": [
    "#logit_grid.best_estimator_"
   ]
  },
  {
   "cell_type": "code",
   "execution_count": 68,
   "id": "2cfb989a",
   "metadata": {},
   "outputs": [],
   "source": [
    "#logit_grid.best_score_"
   ]
  },
  {
   "cell_type": "code",
   "execution_count": 69,
   "id": "ddb8473e",
   "metadata": {},
   "outputs": [],
   "source": [
    "logitmodel=logit.fit(x,y)"
   ]
  },
  {
   "cell_type": "code",
   "execution_count": 70,
   "id": "5fcaeb25",
   "metadata": {},
   "outputs": [
    {
     "data": {
      "text/plain": [
       "0.8316171790167372"
      ]
     },
     "execution_count": 70,
     "metadata": {},
     "output_type": "execute_result"
    }
   ],
   "source": [
    "logitmodel.score(x,y)"
   ]
  },
  {
   "cell_type": "code",
   "execution_count": 71,
   "id": "930e0c75",
   "metadata": {},
   "outputs": [],
   "source": [
    "logitpredict=logitmodel.predict(x)"
   ]
  },
  {
   "cell_type": "code",
   "execution_count": 72,
   "id": "047ed8df",
   "metadata": {},
   "outputs": [
    {
     "data": {
      "text/plain": [
       "array([0, 0, 0, ..., 0, 0, 0], dtype=int64)"
      ]
     },
     "execution_count": 72,
     "metadata": {},
     "output_type": "execute_result"
    }
   ],
   "source": [
    "logitpredict"
   ]
  },
  {
   "cell_type": "code",
   "execution_count": 73,
   "id": "007ca973",
   "metadata": {},
   "outputs": [],
   "source": [
    "from sklearn.metrics import classification_report,RocCurveDisplay\n",
    "from sklearn.model_selection import cross_val_score"
   ]
  },
  {
   "cell_type": "code",
   "execution_count": 74,
   "id": "d521c431",
   "metadata": {},
   "outputs": [
    {
     "data": {
      "text/html": [
       "<div>\n",
       "<style scoped>\n",
       "    .dataframe tbody tr th:only-of-type {\n",
       "        vertical-align: middle;\n",
       "    }\n",
       "\n",
       "    .dataframe tbody tr th {\n",
       "        vertical-align: top;\n",
       "    }\n",
       "\n",
       "    .dataframe thead th {\n",
       "        text-align: right;\n",
       "    }\n",
       "</style>\n",
       "<table border=\"1\" class=\"dataframe\">\n",
       "  <thead>\n",
       "    <tr style=\"text-align: right;\">\n",
       "      <th>col_0</th>\n",
       "      <th>0</th>\n",
       "      <th>1</th>\n",
       "    </tr>\n",
       "    <tr>\n",
       "      <th>row_0</th>\n",
       "      <th></th>\n",
       "      <th></th>\n",
       "    </tr>\n",
       "  </thead>\n",
       "  <tbody>\n",
       "    <tr>\n",
       "      <th>0</th>\n",
       "      <td>19937</td>\n",
       "      <td>1096</td>\n",
       "    </tr>\n",
       "    <tr>\n",
       "      <th>1</th>\n",
       "      <td>3401</td>\n",
       "      <td>2273</td>\n",
       "    </tr>\n",
       "  </tbody>\n",
       "</table>\n",
       "</div>"
      ],
      "text/plain": [
       "col_0      0     1\n",
       "row_0             \n",
       "0      19937  1096\n",
       "1       3401  2273"
      ]
     },
     "execution_count": 74,
     "metadata": {},
     "output_type": "execute_result"
    }
   ],
   "source": [
    "pd.crosstab(y,logitpredict)"
   ]
  },
  {
   "cell_type": "code",
   "execution_count": 75,
   "id": "78f3b26e",
   "metadata": {
    "scrolled": true
   },
   "outputs": [
    {
     "name": "stdout",
     "output_type": "stream",
     "text": [
      "              precision    recall  f1-score   support\n",
      "\n",
      "           0       0.85      0.95      0.90     21033\n",
      "           1       0.67      0.40      0.50      5674\n",
      "\n",
      "    accuracy                           0.83     26707\n",
      "   macro avg       0.76      0.67      0.70     26707\n",
      "weighted avg       0.82      0.83      0.81     26707\n",
      "\n"
     ]
    }
   ],
   "source": [
    "print(classification_report(y,logitpredict))\n",
    "# Here we can see there is a lot of difference in 0&1 in precision recall and f1-score\n",
    "# So there is imbalnce in this data "
   ]
  },
  {
   "cell_type": "code",
   "execution_count": 76,
   "id": "415b7570",
   "metadata": {},
   "outputs": [
    {
     "data": {
      "text/plain": [
       "array([0.82796705, 0.82684388, 0.83411346, 0.83579854, 0.82793484])"
      ]
     },
     "execution_count": 76,
     "metadata": {},
     "output_type": "execute_result"
    }
   ],
   "source": [
    "cross_val_score(logit,x,y)"
   ]
  },
  {
   "cell_type": "code",
   "execution_count": 77,
   "id": "24056ad1",
   "metadata": {},
   "outputs": [
    {
     "data": {
      "text/plain": [
       "0.830531554"
      ]
     },
     "execution_count": 77,
     "metadata": {},
     "output_type": "execute_result"
    }
   ],
   "source": [
    "np.mean([0.82796705, 0.82684388, 0.83411346, 0.83579854, 0.82793484])"
   ]
  },
  {
   "cell_type": "markdown",
   "id": "00c0e6f9",
   "metadata": {},
   "source": [
    "## To treat with imbalance data we need to install imblearn"
   ]
  },
  {
   "cell_type": "code",
   "execution_count": 78,
   "id": "9ce96737",
   "metadata": {},
   "outputs": [
    {
     "name": "stdout",
     "output_type": "stream",
     "text": [
      "Requirement already satisfied: imblearn in c:\\users\\trish\\anaconda3\\lib\\site-packages (0.0)\n",
      "Requirement already satisfied: imbalanced-learn in c:\\users\\trish\\anaconda3\\lib\\site-packages (from imblearn) (0.10.1)\n",
      "Requirement already satisfied: numpy>=1.17.3 in c:\\users\\trish\\anaconda3\\lib\\site-packages (from imbalanced-learn->imblearn) (1.24.3)\n",
      "Requirement already satisfied: scipy>=1.3.2 in c:\\users\\trish\\anaconda3\\lib\\site-packages (from imbalanced-learn->imblearn) (1.11.1)\n",
      "Requirement already satisfied: scikit-learn>=1.0.2 in c:\\users\\trish\\anaconda3\\lib\\site-packages (from imbalanced-learn->imblearn) (1.2.2)\n",
      "Requirement already satisfied: joblib>=1.1.1 in c:\\users\\trish\\anaconda3\\lib\\site-packages (from imbalanced-learn->imblearn) (1.2.0)\n",
      "Requirement already satisfied: threadpoolctl>=2.0.0 in c:\\users\\trish\\anaconda3\\lib\\site-packages (from imbalanced-learn->imblearn) (2.2.0)\n"
     ]
    }
   ],
   "source": [
    "!pip install imblearn"
   ]
  },
  {
   "cell_type": "code",
   "execution_count": 79,
   "id": "6c862c6a",
   "metadata": {},
   "outputs": [],
   "source": [
    "from imblearn.over_sampling import SMOTEN"
   ]
  },
  {
   "cell_type": "code",
   "execution_count": 80,
   "id": "30fc5c81",
   "metadata": {},
   "outputs": [],
   "source": [
    "smote=SMOTEN(random_state=42)"
   ]
  },
  {
   "cell_type": "code",
   "execution_count": 81,
   "id": "2cc4838d",
   "metadata": {},
   "outputs": [],
   "source": [
    "x_smote,y_smote=smote.fit_resample(x,y)"
   ]
  },
  {
   "cell_type": "code",
   "execution_count": 82,
   "id": "57dfc900",
   "metadata": {},
   "outputs": [
    {
     "name": "stdout",
     "output_type": "stream",
     "text": [
      "0    21033\n",
      "1     5674\n",
      "Name: count, dtype: int64\n",
      "0    21033\n",
      "1    21033\n",
      "Name: count, dtype: int64\n"
     ]
    }
   ],
   "source": [
    "print(pd.DataFrame(y).value_counts())\n",
    "print(pd.DataFrame(y_smote).value_counts())\n",
    "# Here we can see the difference between smote and without smote"
   ]
  },
  {
   "cell_type": "markdown",
   "id": "006c3424",
   "metadata": {},
   "source": [
    "## Logistic Regression with smote"
   ]
  },
  {
   "cell_type": "code",
   "execution_count": 83,
   "id": "fa98344e",
   "metadata": {},
   "outputs": [],
   "source": [
    "logit_smote_model=logit.fit(x_smote,y_smote)"
   ]
  },
  {
   "cell_type": "code",
   "execution_count": 84,
   "id": "b7d7170b",
   "metadata": {},
   "outputs": [
    {
     "data": {
      "text/plain": [
       "0.8105595968240384"
      ]
     },
     "execution_count": 84,
     "metadata": {},
     "output_type": "execute_result"
    }
   ],
   "source": [
    "logit_smote_model.score(x_smote,y_smote)"
   ]
  },
  {
   "cell_type": "code",
   "execution_count": 85,
   "id": "77201839",
   "metadata": {},
   "outputs": [
    {
     "data": {
      "text/plain": [
       "array([0.67613501, 0.79222632, 0.8377511 , 0.84737906, 0.84464519])"
      ]
     },
     "execution_count": 85,
     "metadata": {},
     "output_type": "execute_result"
    }
   ],
   "source": [
    "cross_val_score(logit_smote_model,x_smote,y_smote)"
   ]
  },
  {
   "cell_type": "code",
   "execution_count": 86,
   "id": "a805a21f",
   "metadata": {},
   "outputs": [
    {
     "data": {
      "text/plain": [
       "0.7996273359999999"
      ]
     },
     "execution_count": 86,
     "metadata": {},
     "output_type": "execute_result"
    }
   ],
   "source": [
    "np.mean([0.67613501, 0.79222632, 0.8377511 , 0.84737906, 0.84464519])"
   ]
  },
  {
   "cell_type": "code",
   "execution_count": 87,
   "id": "8d397691",
   "metadata": {},
   "outputs": [],
   "source": [
    "logit_smote_predict=logit_smote_model.predict(x_smote)"
   ]
  },
  {
   "cell_type": "code",
   "execution_count": 88,
   "id": "358b34a0",
   "metadata": {},
   "outputs": [
    {
     "data": {
      "text/html": [
       "<div>\n",
       "<style scoped>\n",
       "    .dataframe tbody tr th:only-of-type {\n",
       "        vertical-align: middle;\n",
       "    }\n",
       "\n",
       "    .dataframe tbody tr th {\n",
       "        vertical-align: top;\n",
       "    }\n",
       "\n",
       "    .dataframe thead th {\n",
       "        text-align: right;\n",
       "    }\n",
       "</style>\n",
       "<table border=\"1\" class=\"dataframe\">\n",
       "  <thead>\n",
       "    <tr style=\"text-align: right;\">\n",
       "      <th>col_0</th>\n",
       "      <th>0</th>\n",
       "      <th>1</th>\n",
       "    </tr>\n",
       "    <tr>\n",
       "      <th>row_0</th>\n",
       "      <th></th>\n",
       "      <th></th>\n",
       "    </tr>\n",
       "  </thead>\n",
       "  <tbody>\n",
       "    <tr>\n",
       "      <th>0</th>\n",
       "      <td>17237</td>\n",
       "      <td>3796</td>\n",
       "    </tr>\n",
       "    <tr>\n",
       "      <th>1</th>\n",
       "      <td>4173</td>\n",
       "      <td>16860</td>\n",
       "    </tr>\n",
       "  </tbody>\n",
       "</table>\n",
       "</div>"
      ],
      "text/plain": [
       "col_0      0      1\n",
       "row_0              \n",
       "0      17237   3796\n",
       "1       4173  16860"
      ]
     },
     "execution_count": 88,
     "metadata": {},
     "output_type": "execute_result"
    }
   ],
   "source": [
    "pd.crosstab(y_smote,logit_smote_predict)"
   ]
  },
  {
   "cell_type": "code",
   "execution_count": 89,
   "id": "12d74204",
   "metadata": {},
   "outputs": [
    {
     "name": "stdout",
     "output_type": "stream",
     "text": [
      "              precision    recall  f1-score   support\n",
      "\n",
      "           0       0.81      0.82      0.81     21033\n",
      "           1       0.82      0.80      0.81     21033\n",
      "\n",
      "    accuracy                           0.81     42066\n",
      "   macro avg       0.81      0.81      0.81     42066\n",
      "weighted avg       0.81      0.81      0.81     42066\n",
      "\n"
     ]
    }
   ],
   "source": [
    "print(classification_report(y_smote,logit_smote_predict))"
   ]
  },
  {
   "cell_type": "code",
   "execution_count": 90,
   "id": "83cd448c",
   "metadata": {},
   "outputs": [
    {
     "data": {
      "text/plain": [
       "<sklearn.metrics._plot.roc_curve.RocCurveDisplay at 0x1ef8d150a50>"
      ]
     },
     "execution_count": 90,
     "metadata": {},
     "output_type": "execute_result"
    },
    {
     "data": {
      "image/png": "[encoded data removed]",
      "text/plain": [
       "<Figure size 640x480 with 1 Axes>"
      ]
     },
     "metadata": {},
     "output_type": "display_data"
    }
   ],
   "source": [
    "RocCurveDisplay.from_predictions(y_smote,logit_smote_predict)"
   ]
  },
  {
   "cell_type": "code",
   "execution_count": 91,
   "id": "577ac902",
   "metadata": {},
   "outputs": [],
   "source": [
    "test_logit=logit_smote_model.predict_proba(testflu)"
   ]
  },
  {
   "cell_type": "code",
   "execution_count": 92,
   "id": "17ad830e",
   "metadata": {},
   "outputs": [],
   "source": [
    "pd.DataFrame(test_logit).to_csv('logit2_h1n1.csv')"
   ]
  },
  {
   "cell_type": "markdown",
   "id": "c7888f81",
   "metadata": {},
   "source": [
    "## Decision Tree without smote"
   ]
  },
  {
   "cell_type": "code",
   "execution_count": 93,
   "id": "1bad7bf3",
   "metadata": {},
   "outputs": [],
   "source": [
    "from sklearn.tree import DecisionTreeClassifier"
   ]
  },
  {
   "cell_type": "code",
   "execution_count": 94,
   "id": "8805ba24",
   "metadata": {},
   "outputs": [],
   "source": [
    "#tree_params={'criterion':['gini','entropy'],'max_depth':[4,5,6,7,8,9,10,11,12,15,20,30,40,50,70,90,120,150]}\n",
    "#tree_grid=GridSearchCV(estimator=DecisionTreeClassifier(),param_grid=tree_params, cv=5).fit(x,y)\n",
    "\n",
    "#tree_grid.best_estimator_\n",
    "\n",
    "#tree_grid.best_score_"
   ]
  },
  {
   "cell_type": "code",
   "execution_count": 95,
   "id": "b3460445",
   "metadata": {},
   "outputs": [],
   "source": [
    "#tree_grid.best_estimator_"
   ]
  },
  {
   "cell_type": "code",
   "execution_count": 96,
   "id": "20e2cdd9",
   "metadata": {},
   "outputs": [],
   "source": [
    "#tree_grid.best_score_"
   ]
  },
  {
   "cell_type": "code",
   "execution_count": 97,
   "id": "08a73bc3",
   "metadata": {},
   "outputs": [],
   "source": [
    "#tree=DecisionTreeClassifier(criterion='entropy',max_depth=5)"
   ]
  },
  {
   "cell_type": "code",
   "execution_count": 215,
   "id": "f0cd61b6",
   "metadata": {},
   "outputs": [],
   "source": [
    "tree=DecisionTreeClassifier(max_depth=6)"
   ]
  },
  {
   "cell_type": "code",
   "execution_count": 216,
   "id": "96020c4b",
   "metadata": {},
   "outputs": [],
   "source": [
    "treemodel=tree.fit(x,y)"
   ]
  },
  {
   "cell_type": "code",
   "execution_count": 217,
   "id": "7a7c4b68",
   "metadata": {},
   "outputs": [
    {
     "data": {
      "text/plain": [
       "0.8315422922829221"
      ]
     },
     "execution_count": 217,
     "metadata": {},
     "output_type": "execute_result"
    }
   ],
   "source": [
    "treemodel.score(x,y)"
   ]
  },
  {
   "cell_type": "code",
   "execution_count": 218,
   "id": "783605bf",
   "metadata": {},
   "outputs": [
    {
     "data": {
      "text/plain": [
       "array([0.82646949, 0.81898165, 0.82437746, 0.82737315, 0.82138176])"
      ]
     },
     "execution_count": 218,
     "metadata": {},
     "output_type": "execute_result"
    }
   ],
   "source": [
    "cross_val_score(tree,x,y)"
   ]
  },
  {
   "cell_type": "code",
   "execution_count": 219,
   "id": "57be16a0",
   "metadata": {},
   "outputs": [
    {
     "data": {
      "text/plain": [
       "0.8237167020000001"
      ]
     },
     "execution_count": 219,
     "metadata": {},
     "output_type": "execute_result"
    }
   ],
   "source": [
    "np.mean([0.82646949, 0.81898165, 0.82437746, 0.82737315, 0.82138176])"
   ]
  },
  {
   "cell_type": "code",
   "execution_count": 220,
   "id": "0fde5be2",
   "metadata": {},
   "outputs": [],
   "source": [
    "treepredict=treemodel.predict(x)"
   ]
  },
  {
   "cell_type": "code",
   "execution_count": 221,
   "id": "aa0479ff",
   "metadata": {},
   "outputs": [
    {
     "data": {
      "text/html": [
       "<div>\n",
       "<style scoped>\n",
       "    .dataframe tbody tr th:only-of-type {\n",
       "        vertical-align: middle;\n",
       "    }\n",
       "\n",
       "    .dataframe tbody tr th {\n",
       "        vertical-align: top;\n",
       "    }\n",
       "\n",
       "    .dataframe thead th {\n",
       "        text-align: right;\n",
       "    }\n",
       "</style>\n",
       "<table border=\"1\" class=\"dataframe\">\n",
       "  <thead>\n",
       "    <tr style=\"text-align: right;\">\n",
       "      <th>col_0</th>\n",
       "      <th>0</th>\n",
       "      <th>1</th>\n",
       "    </tr>\n",
       "    <tr>\n",
       "      <th>row_0</th>\n",
       "      <th></th>\n",
       "      <th></th>\n",
       "    </tr>\n",
       "  </thead>\n",
       "  <tbody>\n",
       "    <tr>\n",
       "      <th>0</th>\n",
       "      <td>19910</td>\n",
       "      <td>1123</td>\n",
       "    </tr>\n",
       "    <tr>\n",
       "      <th>1</th>\n",
       "      <td>3376</td>\n",
       "      <td>2298</td>\n",
       "    </tr>\n",
       "  </tbody>\n",
       "</table>\n",
       "</div>"
      ],
      "text/plain": [
       "col_0      0     1\n",
       "row_0             \n",
       "0      19910  1123\n",
       "1       3376  2298"
      ]
     },
     "execution_count": 221,
     "metadata": {},
     "output_type": "execute_result"
    }
   ],
   "source": [
    "pd.crosstab(y,treepredict)"
   ]
  },
  {
   "cell_type": "code",
   "execution_count": 222,
   "id": "e5db8e8c",
   "metadata": {
    "scrolled": true
   },
   "outputs": [
    {
     "name": "stdout",
     "output_type": "stream",
     "text": [
      "              precision    recall  f1-score   support\n",
      "\n",
      "           0       0.86      0.95      0.90     21033\n",
      "           1       0.67      0.41      0.51      5674\n",
      "\n",
      "    accuracy                           0.83     26707\n",
      "   macro avg       0.76      0.68      0.70     26707\n",
      "weighted avg       0.82      0.83      0.81     26707\n",
      "\n"
     ]
    }
   ],
   "source": [
    "print(classification_report(y,treepredict))\n",
    "# As we see there is imbalance"
   ]
  },
  {
   "cell_type": "markdown",
   "id": "c9a85b52",
   "metadata": {},
   "source": [
    "## Decision Tree with smote"
   ]
  },
  {
   "cell_type": "code",
   "execution_count": 106,
   "id": "57405e64",
   "metadata": {},
   "outputs": [],
   "source": [
    "tree_smote_model=tree.fit(x_smote,y_smote)"
   ]
  },
  {
   "cell_type": "code",
   "execution_count": 107,
   "id": "d15745dc",
   "metadata": {},
   "outputs": [
    {
     "data": {
      "text/plain": [
       "1.0"
      ]
     },
     "execution_count": 107,
     "metadata": {},
     "output_type": "execute_result"
    }
   ],
   "source": [
    "tree_smote_model.score(x_smote,y_smote)"
   ]
  },
  {
   "cell_type": "code",
   "execution_count": 108,
   "id": "ec471fd6",
   "metadata": {},
   "outputs": [
    {
     "data": {
      "text/plain": [
       "array([0.6276444 , 0.79935814, 0.86936883, 0.87578747, 0.86568406])"
      ]
     },
     "execution_count": 108,
     "metadata": {},
     "output_type": "execute_result"
    }
   ],
   "source": [
    "cross_val_score(tree_smote_model,x_smote,y_smote)"
   ]
  },
  {
   "cell_type": "code",
   "execution_count": 109,
   "id": "99ec1b63",
   "metadata": {},
   "outputs": [
    {
     "data": {
      "text/plain": [
       "0.760402098"
      ]
     },
     "execution_count": 109,
     "metadata": {},
     "output_type": "execute_result"
    }
   ],
   "source": [
    "np.mean([0.68576183, 0.75811245, 0.78271722, 0.79175086, 0.78366813])"
   ]
  },
  {
   "cell_type": "code",
   "execution_count": 110,
   "id": "1082b19b",
   "metadata": {},
   "outputs": [],
   "source": [
    "tree_smote_predict=tree_smote_model.predict(x_smote)"
   ]
  },
  {
   "cell_type": "code",
   "execution_count": 111,
   "id": "e9336ef8",
   "metadata": {},
   "outputs": [
    {
     "data": {
      "text/html": [
       "<div>\n",
       "<style scoped>\n",
       "    .dataframe tbody tr th:only-of-type {\n",
       "        vertical-align: middle;\n",
       "    }\n",
       "\n",
       "    .dataframe tbody tr th {\n",
       "        vertical-align: top;\n",
       "    }\n",
       "\n",
       "    .dataframe thead th {\n",
       "        text-align: right;\n",
       "    }\n",
       "</style>\n",
       "<table border=\"1\" class=\"dataframe\">\n",
       "  <thead>\n",
       "    <tr style=\"text-align: right;\">\n",
       "      <th>col_0</th>\n",
       "      <th>0</th>\n",
       "      <th>1</th>\n",
       "    </tr>\n",
       "    <tr>\n",
       "      <th>row_0</th>\n",
       "      <th></th>\n",
       "      <th></th>\n",
       "    </tr>\n",
       "  </thead>\n",
       "  <tbody>\n",
       "    <tr>\n",
       "      <th>0</th>\n",
       "      <td>21033</td>\n",
       "      <td>0</td>\n",
       "    </tr>\n",
       "    <tr>\n",
       "      <th>1</th>\n",
       "      <td>0</td>\n",
       "      <td>21033</td>\n",
       "    </tr>\n",
       "  </tbody>\n",
       "</table>\n",
       "</div>"
      ],
      "text/plain": [
       "col_0      0      1\n",
       "row_0              \n",
       "0      21033      0\n",
       "1          0  21033"
      ]
     },
     "execution_count": 111,
     "metadata": {},
     "output_type": "execute_result"
    }
   ],
   "source": [
    "pd.crosstab(y_smote,tree_smote_predict)"
   ]
  },
  {
   "cell_type": "code",
   "execution_count": 112,
   "id": "34ca18fa",
   "metadata": {
    "scrolled": false
   },
   "outputs": [
    {
     "name": "stdout",
     "output_type": "stream",
     "text": [
      "              precision    recall  f1-score   support\n",
      "\n",
      "           0       1.00      1.00      1.00     21033\n",
      "           1       1.00      1.00      1.00     21033\n",
      "\n",
      "    accuracy                           1.00     42066\n",
      "   macro avg       1.00      1.00      1.00     42066\n",
      "weighted avg       1.00      1.00      1.00     42066\n",
      "\n"
     ]
    }
   ],
   "source": [
    "print(classification_report(y_smote,tree_smote_predict))"
   ]
  },
  {
   "cell_type": "code",
   "execution_count": 113,
   "id": "b4aec34f",
   "metadata": {},
   "outputs": [
    {
     "data": {
      "text/plain": [
       "<sklearn.metrics._plot.roc_curve.RocCurveDisplay at 0x1ef8c4ce850>"
      ]
     },
     "execution_count": 113,
     "metadata": {},
     "output_type": "execute_result"
    },
    {
     "data": {
      "image/png": "[encoded data removed]",
      "text/plain": [
       "<Figure size 640x480 with 1 Axes>"
      ]
     },
     "metadata": {},
     "output_type": "display_data"
    }
   ],
   "source": [
    "RocCurveDisplay.from_predictions(y_smote,tree_smote_predict)"
   ]
  },
  {
   "cell_type": "code",
   "execution_count": 114,
   "id": "de6b4ed8",
   "metadata": {},
   "outputs": [],
   "source": [
    "test_tree=tree_smote_model.predict_proba(testflu)"
   ]
  },
  {
   "cell_type": "code",
   "execution_count": 115,
   "id": "6fc9d0cc",
   "metadata": {},
   "outputs": [],
   "source": [
    "pd.DataFrame(test_tree).to_csv('tree_h1n1.csv')"
   ]
  },
  {
   "cell_type": "markdown",
   "id": "7f8c4656",
   "metadata": {},
   "source": [
    "## RandomForest without smote"
   ]
  },
  {
   "cell_type": "code",
   "execution_count": 116,
   "id": "5f1ce0a4",
   "metadata": {},
   "outputs": [],
   "source": [
    "from sklearn.ensemble import RandomForestClassifier"
   ]
  },
  {
   "cell_type": "code",
   "execution_count": 117,
   "id": "e3ebf212",
   "metadata": {},
   "outputs": [
    {
     "data": {
      "text/plain": [
       "{'bootstrap': True,\n",
       " 'ccp_alpha': 0.0,\n",
       " 'class_weight': None,\n",
       " 'criterion': 'gini',\n",
       " 'max_depth': None,\n",
       " 'max_features': 'sqrt',\n",
       " 'max_leaf_nodes': None,\n",
       " 'max_samples': None,\n",
       " 'min_impurity_decrease': 0.0,\n",
       " 'min_samples_leaf': 1,\n",
       " 'min_samples_split': 2,\n",
       " 'min_weight_fraction_leaf': 0.0,\n",
       " 'n_estimators': 100,\n",
       " 'n_jobs': None,\n",
       " 'oob_score': False,\n",
       " 'random_state': None,\n",
       " 'verbose': 0,\n",
       " 'warm_start': False}"
      ]
     },
     "execution_count": 117,
     "metadata": {},
     "output_type": "execute_result"
    }
   ],
   "source": [
    "estimator=RandomForestClassifier()\n",
    "estimator.get_params()"
   ]
  },
  {
   "cell_type": "code",
   "execution_count": 118,
   "id": "cf66353a",
   "metadata": {},
   "outputs": [],
   "source": [
    "rf=RandomForestClassifier(n_estimators=1000,max_depth=6)"
   ]
  },
  {
   "cell_type": "code",
   "execution_count": 119,
   "id": "8f9f8fa0",
   "metadata": {},
   "outputs": [],
   "source": [
    "rfmodel=rf.fit(x,y)"
   ]
  },
  {
   "cell_type": "code",
   "execution_count": 120,
   "id": "517ece86",
   "metadata": {},
   "outputs": [
    {
     "data": {
      "text/plain": [
       "0.8249148163402853"
      ]
     },
     "execution_count": 120,
     "metadata": {},
     "output_type": "execute_result"
    }
   ],
   "source": [
    "rfmodel.score(x,y)"
   ]
  },
  {
   "cell_type": "code",
   "execution_count": 121,
   "id": "e1399689",
   "metadata": {},
   "outputs": [
    {
     "data": {
      "text/plain": [
       "array([0.82029203, 0.81954324, 0.82325407, 0.82287961, 0.82063284])"
      ]
     },
     "execution_count": 121,
     "metadata": {},
     "output_type": "execute_result"
    }
   ],
   "source": [
    "cross_val_score(rf,x,y)"
   ]
  },
  {
   "cell_type": "code",
   "execution_count": 122,
   "id": "2ca8956f",
   "metadata": {},
   "outputs": [
    {
     "data": {
      "text/plain": [
       "0.8211331279999999"
      ]
     },
     "execution_count": 122,
     "metadata": {},
     "output_type": "execute_result"
    }
   ],
   "source": [
    "np.mean([0.81954324, 0.82029203, 0.8234413 , 0.82175623, 0.82063284])"
   ]
  },
  {
   "cell_type": "code",
   "execution_count": 123,
   "id": "3bf3ec9e",
   "metadata": {},
   "outputs": [],
   "source": [
    "rfpredict=rfmodel.predict(x)"
   ]
  },
  {
   "cell_type": "code",
   "execution_count": 124,
   "id": "5696642c",
   "metadata": {
    "scrolled": true
   },
   "outputs": [
    {
     "data": {
      "text/html": [
       "<div>\n",
       "<style scoped>\n",
       "    .dataframe tbody tr th:only-of-type {\n",
       "        vertical-align: middle;\n",
       "    }\n",
       "\n",
       "    .dataframe tbody tr th {\n",
       "        vertical-align: top;\n",
       "    }\n",
       "\n",
       "    .dataframe thead th {\n",
       "        text-align: right;\n",
       "    }\n",
       "</style>\n",
       "<table border=\"1\" class=\"dataframe\">\n",
       "  <thead>\n",
       "    <tr style=\"text-align: right;\">\n",
       "      <th>col_0</th>\n",
       "      <th>0</th>\n",
       "      <th>1</th>\n",
       "    </tr>\n",
       "    <tr>\n",
       "      <th>row_0</th>\n",
       "      <th></th>\n",
       "      <th></th>\n",
       "    </tr>\n",
       "  </thead>\n",
       "  <tbody>\n",
       "    <tr>\n",
       "      <th>0</th>\n",
       "      <td>20574</td>\n",
       "      <td>459</td>\n",
       "    </tr>\n",
       "    <tr>\n",
       "      <th>1</th>\n",
       "      <td>4217</td>\n",
       "      <td>1457</td>\n",
       "    </tr>\n",
       "  </tbody>\n",
       "</table>\n",
       "</div>"
      ],
      "text/plain": [
       "col_0      0     1\n",
       "row_0             \n",
       "0      20574   459\n",
       "1       4217  1457"
      ]
     },
     "execution_count": 124,
     "metadata": {},
     "output_type": "execute_result"
    }
   ],
   "source": [
    "pd.crosstab(y,rfpredict)"
   ]
  },
  {
   "cell_type": "code",
   "execution_count": 125,
   "id": "655b3e85",
   "metadata": {
    "scrolled": true
   },
   "outputs": [
    {
     "name": "stdout",
     "output_type": "stream",
     "text": [
      "              precision    recall  f1-score   support\n",
      "\n",
      "           0       0.83      0.98      0.90     21033\n",
      "           1       0.76      0.26      0.38      5674\n",
      "\n",
      "    accuracy                           0.82     26707\n",
      "   macro avg       0.80      0.62      0.64     26707\n",
      "weighted avg       0.82      0.82      0.79     26707\n",
      "\n"
     ]
    }
   ],
   "source": [
    "print(classification_report(y,rfpredict))"
   ]
  },
  {
   "cell_type": "code",
   "execution_count": 126,
   "id": "465ace1a",
   "metadata": {
    "scrolled": true
   },
   "outputs": [
    {
     "data": {
      "text/plain": [
       "<sklearn.metrics._plot.roc_curve.RocCurveDisplay at 0x1ef8b1d60d0>"
      ]
     },
     "execution_count": 126,
     "metadata": {},
     "output_type": "execute_result"
    },
    {
     "data": {
      "image/png": "[encoded data removed]",
      "text/plain": [
       "<Figure size 640x480 with 1 Axes>"
      ]
     },
     "metadata": {},
     "output_type": "display_data"
    }
   ],
   "source": [
    "RocCurveDisplay.from_predictions(y,rfpredict)"
   ]
  },
  {
   "cell_type": "markdown",
   "id": "cb0f8562",
   "metadata": {},
   "source": [
    "## RandomForest with smote"
   ]
  },
  {
   "cell_type": "code",
   "execution_count": 127,
   "id": "9237759a",
   "metadata": {},
   "outputs": [],
   "source": [
    "rf_smote_model=rf.fit(x_smote,y_smote)"
   ]
  },
  {
   "cell_type": "code",
   "execution_count": 128,
   "id": "72cd131c",
   "metadata": {},
   "outputs": [
    {
     "data": {
      "text/plain": [
       "0.8108924071696857"
      ]
     },
     "execution_count": 128,
     "metadata": {},
     "output_type": "execute_result"
    }
   ],
   "source": [
    "rf_smote_model.score(x_smote,y_smote)"
   ]
  },
  {
   "cell_type": "code",
   "execution_count": 129,
   "id": "0d0431fe",
   "metadata": {},
   "outputs": [
    {
     "data": {
      "text/plain": [
       "array([0.70976943, 0.79186973, 0.81754428, 0.83157019, 0.8272911 ])"
      ]
     },
     "execution_count": 129,
     "metadata": {},
     "output_type": "execute_result"
    }
   ],
   "source": [
    "cross_val_score(rf_smote_model,x_smote,y_smote)"
   ]
  },
  {
   "cell_type": "code",
   "execution_count": 130,
   "id": "89712a8d",
   "metadata": {},
   "outputs": [
    {
     "data": {
      "text/plain": [
       "0.795822874"
      ]
     },
     "execution_count": 130,
     "metadata": {},
     "output_type": "execute_result"
    }
   ],
   "source": [
    "np.mean([0.71083908, 0.78937359, 0.81885178, 0.83157019, 0.82847973])"
   ]
  },
  {
   "cell_type": "code",
   "execution_count": 131,
   "id": "fce8e8ac",
   "metadata": {},
   "outputs": [],
   "source": [
    "rf_smote_predict=rf_smote_model.predict(x_smote)"
   ]
  },
  {
   "cell_type": "code",
   "execution_count": 132,
   "id": "0ed28638",
   "metadata": {},
   "outputs": [
    {
     "data": {
      "text/html": [
       "<div>\n",
       "<style scoped>\n",
       "    .dataframe tbody tr th:only-of-type {\n",
       "        vertical-align: middle;\n",
       "    }\n",
       "\n",
       "    .dataframe tbody tr th {\n",
       "        vertical-align: top;\n",
       "    }\n",
       "\n",
       "    .dataframe thead th {\n",
       "        text-align: right;\n",
       "    }\n",
       "</style>\n",
       "<table border=\"1\" class=\"dataframe\">\n",
       "  <thead>\n",
       "    <tr style=\"text-align: right;\">\n",
       "      <th>col_0</th>\n",
       "      <th>0</th>\n",
       "      <th>1</th>\n",
       "    </tr>\n",
       "    <tr>\n",
       "      <th>row_0</th>\n",
       "      <th></th>\n",
       "      <th></th>\n",
       "    </tr>\n",
       "  </thead>\n",
       "  <tbody>\n",
       "    <tr>\n",
       "      <th>0</th>\n",
       "      <td>17570</td>\n",
       "      <td>3463</td>\n",
       "    </tr>\n",
       "    <tr>\n",
       "      <th>1</th>\n",
       "      <td>4492</td>\n",
       "      <td>16541</td>\n",
       "    </tr>\n",
       "  </tbody>\n",
       "</table>\n",
       "</div>"
      ],
      "text/plain": [
       "col_0      0      1\n",
       "row_0              \n",
       "0      17570   3463\n",
       "1       4492  16541"
      ]
     },
     "execution_count": 132,
     "metadata": {},
     "output_type": "execute_result"
    }
   ],
   "source": [
    "pd.crosstab(y_smote,rf_smote_predict)"
   ]
  },
  {
   "cell_type": "code",
   "execution_count": 133,
   "id": "5c221017",
   "metadata": {},
   "outputs": [
    {
     "name": "stdout",
     "output_type": "stream",
     "text": [
      "              precision    recall  f1-score   support\n",
      "\n",
      "           0       0.80      0.84      0.82     21033\n",
      "           1       0.83      0.79      0.81     21033\n",
      "\n",
      "    accuracy                           0.81     42066\n",
      "   macro avg       0.81      0.81      0.81     42066\n",
      "weighted avg       0.81      0.81      0.81     42066\n",
      "\n"
     ]
    }
   ],
   "source": [
    "print(classification_report(y_smote,rf_smote_predict))"
   ]
  },
  {
   "cell_type": "code",
   "execution_count": 134,
   "id": "2da3d1a3",
   "metadata": {},
   "outputs": [
    {
     "data": {
      "text/plain": [
       "<sklearn.metrics._plot.roc_curve.RocCurveDisplay at 0x1ef90710b50>"
      ]
     },
     "execution_count": 134,
     "metadata": {},
     "output_type": "execute_result"
    },
    {
     "data": {
      "image/png": "[encoded data removed]",
      "text/plain": [
       "<Figure size 640x480 with 1 Axes>"
      ]
     },
     "metadata": {},
     "output_type": "display_data"
    }
   ],
   "source": [
    "RocCurveDisplay.from_predictions(y_smote,rf_smote_predict)"
   ]
  },
  {
   "cell_type": "code",
   "execution_count": 135,
   "id": "88887415",
   "metadata": {},
   "outputs": [],
   "source": [
    "test_rf=rf_smote_model.predict_proba(testflu)"
   ]
  },
  {
   "cell_type": "code",
   "execution_count": 136,
   "id": "0bc19bc9",
   "metadata": {},
   "outputs": [],
   "source": [
    "pd.DataFrame(test_rf).to_csv('rf_h1n1.csv')"
   ]
  },
  {
   "cell_type": "markdown",
   "id": "407bee97",
   "metadata": {},
   "source": [
    "## GradientBoosting Classifier with smote"
   ]
  },
  {
   "cell_type": "code",
   "execution_count": 137,
   "id": "521c83ec",
   "metadata": {},
   "outputs": [],
   "source": [
    "from sklearn.ensemble import GradientBoostingClassifier"
   ]
  },
  {
   "cell_type": "code",
   "execution_count": 138,
   "id": "63c10c69",
   "metadata": {},
   "outputs": [],
   "source": [
    "gb=GradientBoostingClassifier(n_estimators=1000,max_depth=3)"
   ]
  },
  {
   "cell_type": "code",
   "execution_count": 139,
   "id": "c41f282d",
   "metadata": {},
   "outputs": [],
   "source": [
    "gbmodel=gb.fit(x,y)"
   ]
  },
  {
   "cell_type": "code",
   "execution_count": 140,
   "id": "fedc4e82",
   "metadata": {},
   "outputs": [
    {
     "data": {
      "text/plain": [
       "0.8624330699816527"
      ]
     },
     "execution_count": 140,
     "metadata": {},
     "output_type": "execute_result"
    }
   ],
   "source": [
    "gbmodel.score(x,y)"
   ]
  },
  {
   "cell_type": "code",
   "execution_count": 141,
   "id": "a0a55169",
   "metadata": {},
   "outputs": [
    {
     "data": {
      "text/plain": [
       "array([0.8347061 , 0.82983901, 0.836173  , 0.83729639, 0.82868377])"
      ]
     },
     "execution_count": 141,
     "metadata": {},
     "output_type": "execute_result"
    }
   ],
   "source": [
    "cross_val_score(gb,x,y)"
   ]
  },
  {
   "cell_type": "code",
   "execution_count": 142,
   "id": "cbc2454c",
   "metadata": {},
   "outputs": [
    {
     "data": {
      "text/plain": [
       "0.8333396540000001"
      ]
     },
     "execution_count": 142,
     "metadata": {},
     "output_type": "execute_result"
    }
   ],
   "source": [
    "np.mean([0.8347061 , 0.82983901, 0.836173  , 0.83729639, 0.82868377])"
   ]
  },
  {
   "cell_type": "code",
   "execution_count": 143,
   "id": "2f24c575",
   "metadata": {},
   "outputs": [],
   "source": [
    "gbpredict=gbmodel.predict(x)"
   ]
  },
  {
   "cell_type": "code",
   "execution_count": 144,
   "id": "8a6c6f30",
   "metadata": {},
   "outputs": [
    {
     "data": {
      "text/html": [
       "<div>\n",
       "<style scoped>\n",
       "    .dataframe tbody tr th:only-of-type {\n",
       "        vertical-align: middle;\n",
       "    }\n",
       "\n",
       "    .dataframe tbody tr th {\n",
       "        vertical-align: top;\n",
       "    }\n",
       "\n",
       "    .dataframe thead th {\n",
       "        text-align: right;\n",
       "    }\n",
       "</style>\n",
       "<table border=\"1\" class=\"dataframe\">\n",
       "  <thead>\n",
       "    <tr style=\"text-align: right;\">\n",
       "      <th>col_0</th>\n",
       "      <th>0</th>\n",
       "      <th>1</th>\n",
       "    </tr>\n",
       "    <tr>\n",
       "      <th>row_0</th>\n",
       "      <th></th>\n",
       "      <th></th>\n",
       "    </tr>\n",
       "  </thead>\n",
       "  <tbody>\n",
       "    <tr>\n",
       "      <th>0</th>\n",
       "      <td>20104</td>\n",
       "      <td>929</td>\n",
       "    </tr>\n",
       "    <tr>\n",
       "      <th>1</th>\n",
       "      <td>2745</td>\n",
       "      <td>2929</td>\n",
       "    </tr>\n",
       "  </tbody>\n",
       "</table>\n",
       "</div>"
      ],
      "text/plain": [
       "col_0      0     1\n",
       "row_0             \n",
       "0      20104   929\n",
       "1       2745  2929"
      ]
     },
     "execution_count": 144,
     "metadata": {},
     "output_type": "execute_result"
    }
   ],
   "source": [
    "pd.crosstab(y,gbpredict)"
   ]
  },
  {
   "cell_type": "code",
   "execution_count": 145,
   "id": "bbd64b9b",
   "metadata": {},
   "outputs": [
    {
     "name": "stdout",
     "output_type": "stream",
     "text": [
      "              precision    recall  f1-score   support\n",
      "\n",
      "           0       0.88      0.96      0.92     21033\n",
      "           1       0.76      0.52      0.61      5674\n",
      "\n",
      "    accuracy                           0.86     26707\n",
      "   macro avg       0.82      0.74      0.77     26707\n",
      "weighted avg       0.85      0.86      0.85     26707\n",
      "\n"
     ]
    }
   ],
   "source": [
    "print(classification_report(y,gbpredict))"
   ]
  },
  {
   "cell_type": "code",
   "execution_count": 146,
   "id": "9bc09207",
   "metadata": {},
   "outputs": [
    {
     "data": {
      "text/plain": [
       "<sklearn.metrics._plot.roc_curve.RocCurveDisplay at 0x1ef906dad50>"
      ]
     },
     "execution_count": 146,
     "metadata": {},
     "output_type": "execute_result"
    },
    {
     "data": {
      "image/png": "[encoded data removed]",
      "text/plain": [
       "<Figure size 640x480 with 1 Axes>"
      ]
     },
     "metadata": {},
     "output_type": "display_data"
    }
   ],
   "source": [
    "RocCurveDisplay.from_predictions(y,gbpredict)"
   ]
  },
  {
   "cell_type": "markdown",
   "id": "a313ce05",
   "metadata": {},
   "source": [
    "## GradientBoosting Classifier with smote"
   ]
  },
  {
   "cell_type": "code",
   "execution_count": 147,
   "id": "fe50cb48",
   "metadata": {},
   "outputs": [],
   "source": [
    "gb_smote_model=gb.fit(x_smote,y_smote)"
   ]
  },
  {
   "cell_type": "code",
   "execution_count": 148,
   "id": "df321dbb",
   "metadata": {},
   "outputs": [
    {
     "data": {
      "text/plain": [
       "0.8707031807160177"
      ]
     },
     "execution_count": 148,
     "metadata": {},
     "output_type": "execute_result"
    }
   ],
   "source": [
    "gb_smote_model.score(x_smote,y_smote)"
   ]
  },
  {
   "cell_type": "code",
   "execution_count": 149,
   "id": "3af154bf",
   "metadata": {},
   "outputs": [
    {
     "data": {
      "text/plain": [
       "array([0.66888519, 0.8312136 , 0.89230952, 0.89349816, 0.89837157])"
      ]
     },
     "execution_count": 149,
     "metadata": {},
     "output_type": "execute_result"
    }
   ],
   "source": [
    "cross_val_score(gb_smote_model,x_smote,y_smote)"
   ]
  },
  {
   "cell_type": "code",
   "execution_count": 150,
   "id": "9377a984",
   "metadata": {},
   "outputs": [
    {
     "data": {
      "text/plain": [
       "0.8368556079999999"
      ]
     },
     "execution_count": 150,
     "metadata": {},
     "output_type": "execute_result"
    }
   ],
   "source": [
    "np.mean([0.66888519, 0.8312136 , 0.89230952, 0.89349816, 0.89837157])"
   ]
  },
  {
   "cell_type": "code",
   "execution_count": 151,
   "id": "443f8bb5",
   "metadata": {},
   "outputs": [],
   "source": [
    "gb_smote_predict=gb_smote_model.predict(x_smote)"
   ]
  },
  {
   "cell_type": "code",
   "execution_count": 152,
   "id": "46e0eb11",
   "metadata": {},
   "outputs": [
    {
     "data": {
      "text/html": [
       "<div>\n",
       "<style scoped>\n",
       "    .dataframe tbody tr th:only-of-type {\n",
       "        vertical-align: middle;\n",
       "    }\n",
       "\n",
       "    .dataframe tbody tr th {\n",
       "        vertical-align: top;\n",
       "    }\n",
       "\n",
       "    .dataframe thead th {\n",
       "        text-align: right;\n",
       "    }\n",
       "</style>\n",
       "<table border=\"1\" class=\"dataframe\">\n",
       "  <thead>\n",
       "    <tr style=\"text-align: right;\">\n",
       "      <th>col_0</th>\n",
       "      <th>0</th>\n",
       "      <th>1</th>\n",
       "    </tr>\n",
       "    <tr>\n",
       "      <th>row_0</th>\n",
       "      <th></th>\n",
       "      <th></th>\n",
       "    </tr>\n",
       "  </thead>\n",
       "  <tbody>\n",
       "    <tr>\n",
       "      <th>0</th>\n",
       "      <td>18434</td>\n",
       "      <td>2599</td>\n",
       "    </tr>\n",
       "    <tr>\n",
       "      <th>1</th>\n",
       "      <td>2840</td>\n",
       "      <td>18193</td>\n",
       "    </tr>\n",
       "  </tbody>\n",
       "</table>\n",
       "</div>"
      ],
      "text/plain": [
       "col_0      0      1\n",
       "row_0              \n",
       "0      18434   2599\n",
       "1       2840  18193"
      ]
     },
     "execution_count": 152,
     "metadata": {},
     "output_type": "execute_result"
    }
   ],
   "source": [
    "pd.crosstab(y_smote,gb_smote_predict)"
   ]
  },
  {
   "cell_type": "code",
   "execution_count": 153,
   "id": "fb953cf0",
   "metadata": {},
   "outputs": [
    {
     "name": "stdout",
     "output_type": "stream",
     "text": [
      "              precision    recall  f1-score   support\n",
      "\n",
      "           0       0.87      0.88      0.87     21033\n",
      "           1       0.88      0.86      0.87     21033\n",
      "\n",
      "    accuracy                           0.87     42066\n",
      "   macro avg       0.87      0.87      0.87     42066\n",
      "weighted avg       0.87      0.87      0.87     42066\n",
      "\n"
     ]
    }
   ],
   "source": [
    "print(classification_report(y_smote,gb_smote_predict))"
   ]
  },
  {
   "cell_type": "code",
   "execution_count": 154,
   "id": "887bed3c",
   "metadata": {},
   "outputs": [
    {
     "data": {
      "text/plain": [
       "<sklearn.metrics._plot.roc_curve.RocCurveDisplay at 0x1ef8c4a7390>"
      ]
     },
     "execution_count": 154,
     "metadata": {},
     "output_type": "execute_result"
    },
    {
     "data": {
      "image/png": "[encoded data removed]",
      "text/plain": [
       "<Figure size 640x480 with 1 Axes>"
      ]
     },
     "metadata": {},
     "output_type": "display_data"
    }
   ],
   "source": [
    "RocCurveDisplay.from_predictions(y_smote,gb_smote_predict)"
   ]
  },
  {
   "cell_type": "code",
   "execution_count": 155,
   "id": "fe4e99c9",
   "metadata": {},
   "outputs": [],
   "source": [
    "test_gb=gb_smote_model.predict_proba(testflu)"
   ]
  },
  {
   "cell_type": "code",
   "execution_count": 156,
   "id": "61fa8028",
   "metadata": {},
   "outputs": [],
   "source": [
    "pd.DataFrame(test_gb).to_csv('gb_h1n1.csv')"
   ]
  },
  {
   "cell_type": "markdown",
   "id": "7f5d42ba",
   "metadata": {},
   "source": [
    "## SVC without smote"
   ]
  },
  {
   "cell_type": "code",
   "execution_count": 157,
   "id": "1e371015",
   "metadata": {},
   "outputs": [],
   "source": [
    "from sklearn.svm import SVC"
   ]
  },
  {
   "cell_type": "code",
   "execution_count": 158,
   "id": "f865bff6",
   "metadata": {},
   "outputs": [],
   "source": [
    "svc=SVC(C=5)"
   ]
  },
  {
   "cell_type": "code",
   "execution_count": 159,
   "id": "0578701f",
   "metadata": {},
   "outputs": [],
   "source": [
    "svcmodel=svc.fit(x,y)"
   ]
  },
  {
   "cell_type": "code",
   "execution_count": 160,
   "id": "81cc8b21",
   "metadata": {},
   "outputs": [
    {
     "data": {
      "text/plain": [
       "0.8331898004268544"
      ]
     },
     "execution_count": 160,
     "metadata": {},
     "output_type": "execute_result"
    }
   ],
   "source": [
    "svcmodel.score(x,y)"
   ]
  },
  {
   "cell_type": "code",
   "execution_count": 161,
   "id": "21b2e901",
   "metadata": {},
   "outputs": [
    {
     "data": {
      "text/plain": [
       "array([0.8259079 , 0.82759266, 0.82868377, 0.82849654, 0.82868377])"
      ]
     },
     "execution_count": 161,
     "metadata": {},
     "output_type": "execute_result"
    }
   ],
   "source": [
    "cross_val_score(svc,x,y)"
   ]
  },
  {
   "cell_type": "code",
   "execution_count": 162,
   "id": "b2fd92a4",
   "metadata": {},
   "outputs": [
    {
     "data": {
      "text/plain": [
       "0.827872928"
      ]
     },
     "execution_count": 162,
     "metadata": {},
     "output_type": "execute_result"
    }
   ],
   "source": [
    "np.mean([0.8259079 , 0.82759266, 0.82868377, 0.82849654, 0.82868377])"
   ]
  },
  {
   "cell_type": "code",
   "execution_count": 163,
   "id": "c25865f4",
   "metadata": {},
   "outputs": [],
   "source": [
    "svcpredict=svc.predict(x)"
   ]
  },
  {
   "cell_type": "code",
   "execution_count": 164,
   "id": "04489785",
   "metadata": {},
   "outputs": [
    {
     "data": {
      "text/html": [
       "<div>\n",
       "<style scoped>\n",
       "    .dataframe tbody tr th:only-of-type {\n",
       "        vertical-align: middle;\n",
       "    }\n",
       "\n",
       "    .dataframe tbody tr th {\n",
       "        vertical-align: top;\n",
       "    }\n",
       "\n",
       "    .dataframe thead th {\n",
       "        text-align: right;\n",
       "    }\n",
       "</style>\n",
       "<table border=\"1\" class=\"dataframe\">\n",
       "  <thead>\n",
       "    <tr style=\"text-align: right;\">\n",
       "      <th>col_0</th>\n",
       "      <th>0</th>\n",
       "      <th>1</th>\n",
       "    </tr>\n",
       "    <tr>\n",
       "      <th>row_0</th>\n",
       "      <th></th>\n",
       "      <th></th>\n",
       "    </tr>\n",
       "  </thead>\n",
       "  <tbody>\n",
       "    <tr>\n",
       "      <th>0</th>\n",
       "      <td>20267</td>\n",
       "      <td>766</td>\n",
       "    </tr>\n",
       "    <tr>\n",
       "      <th>1</th>\n",
       "      <td>3689</td>\n",
       "      <td>1985</td>\n",
       "    </tr>\n",
       "  </tbody>\n",
       "</table>\n",
       "</div>"
      ],
      "text/plain": [
       "col_0      0     1\n",
       "row_0             \n",
       "0      20267   766\n",
       "1       3689  1985"
      ]
     },
     "execution_count": 164,
     "metadata": {},
     "output_type": "execute_result"
    }
   ],
   "source": [
    "pd.crosstab(y,svcpredict)"
   ]
  },
  {
   "cell_type": "code",
   "execution_count": 165,
   "id": "0054903c",
   "metadata": {},
   "outputs": [
    {
     "name": "stdout",
     "output_type": "stream",
     "text": [
      "              precision    recall  f1-score   support\n",
      "\n",
      "           0       0.85      0.96      0.90     21033\n",
      "           1       0.72      0.35      0.47      5674\n",
      "\n",
      "    accuracy                           0.83     26707\n",
      "   macro avg       0.78      0.66      0.69     26707\n",
      "weighted avg       0.82      0.83      0.81     26707\n",
      "\n"
     ]
    }
   ],
   "source": [
    "print(classification_report(y,svcpredict))"
   ]
  },
  {
   "cell_type": "code",
   "execution_count": 166,
   "id": "796fdb6e",
   "metadata": {},
   "outputs": [
    {
     "data": {
      "text/plain": [
       "<sklearn.metrics._plot.roc_curve.RocCurveDisplay at 0x1ef90696c10>"
      ]
     },
     "execution_count": 166,
     "metadata": {},
     "output_type": "execute_result"
    },
    {
     "data": {
      "image/png": "[encoded data removed]",
      "text/plain": [
       "<Figure size 640x480 with 1 Axes>"
      ]
     },
     "metadata": {},
     "output_type": "display_data"
    }
   ],
   "source": [
    "RocCurveDisplay.from_predictions(y,svcpredict)"
   ]
  },
  {
   "cell_type": "markdown",
   "id": "a517c096",
   "metadata": {},
   "source": [
    "## SVC with smote"
   ]
  },
  {
   "cell_type": "code",
   "execution_count": 167,
   "id": "bf4c35fa",
   "metadata": {},
   "outputs": [],
   "source": [
    "svc_smote_model=svc.fit(x_smote,y_smote)"
   ]
  },
  {
   "cell_type": "code",
   "execution_count": 168,
   "id": "943cf263",
   "metadata": {},
   "outputs": [
    {
     "data": {
      "text/plain": [
       "0.8341178148623591"
      ]
     },
     "execution_count": 168,
     "metadata": {},
     "output_type": "execute_result"
    }
   ],
   "source": [
    "svc_smote_model.score(x_smote,y_smote)"
   ]
  },
  {
   "cell_type": "code",
   "execution_count": 169,
   "id": "4d871af6",
   "metadata": {},
   "outputs": [
    {
     "data": {
      "text/plain": [
       "array([0.67649156, 0.81017473, 0.85629383, 0.86378224, 0.86651611])"
      ]
     },
     "execution_count": 169,
     "metadata": {},
     "output_type": "execute_result"
    }
   ],
   "source": [
    "cross_val_score(svc_smote_model,x_smote,y_smote)"
   ]
  },
  {
   "cell_type": "code",
   "execution_count": 170,
   "id": "d77f1a3b",
   "metadata": {},
   "outputs": [
    {
     "data": {
      "text/plain": [
       "0.8146516939999999"
      ]
     },
     "execution_count": 170,
     "metadata": {},
     "output_type": "execute_result"
    }
   ],
   "source": [
    "np.mean([0.67649156, 0.81017473, 0.85629383, 0.86378224, 0.86651611])"
   ]
  },
  {
   "cell_type": "code",
   "execution_count": 171,
   "id": "217b9054",
   "metadata": {},
   "outputs": [],
   "source": [
    "svc_smote_predict=svc_smote_model.predict(x_smote)"
   ]
  },
  {
   "cell_type": "code",
   "execution_count": 172,
   "id": "516ba424",
   "metadata": {},
   "outputs": [
    {
     "data": {
      "text/html": [
       "<div>\n",
       "<style scoped>\n",
       "    .dataframe tbody tr th:only-of-type {\n",
       "        vertical-align: middle;\n",
       "    }\n",
       "\n",
       "    .dataframe tbody tr th {\n",
       "        vertical-align: top;\n",
       "    }\n",
       "\n",
       "    .dataframe thead th {\n",
       "        text-align: right;\n",
       "    }\n",
       "</style>\n",
       "<table border=\"1\" class=\"dataframe\">\n",
       "  <thead>\n",
       "    <tr style=\"text-align: right;\">\n",
       "      <th>col_0</th>\n",
       "      <th>0</th>\n",
       "      <th>1</th>\n",
       "    </tr>\n",
       "    <tr>\n",
       "      <th>row_0</th>\n",
       "      <th></th>\n",
       "      <th></th>\n",
       "    </tr>\n",
       "  </thead>\n",
       "  <tbody>\n",
       "    <tr>\n",
       "      <th>0</th>\n",
       "      <td>17871</td>\n",
       "      <td>3162</td>\n",
       "    </tr>\n",
       "    <tr>\n",
       "      <th>1</th>\n",
       "      <td>3816</td>\n",
       "      <td>17217</td>\n",
       "    </tr>\n",
       "  </tbody>\n",
       "</table>\n",
       "</div>"
      ],
      "text/plain": [
       "col_0      0      1\n",
       "row_0              \n",
       "0      17871   3162\n",
       "1       3816  17217"
      ]
     },
     "execution_count": 172,
     "metadata": {},
     "output_type": "execute_result"
    }
   ],
   "source": [
    "pd.crosstab(y_smote,svc_smote_predict)"
   ]
  },
  {
   "cell_type": "code",
   "execution_count": 173,
   "id": "4d256a26",
   "metadata": {},
   "outputs": [
    {
     "name": "stdout",
     "output_type": "stream",
     "text": [
      "              precision    recall  f1-score   support\n",
      "\n",
      "           0       0.82      0.85      0.84     21033\n",
      "           1       0.84      0.82      0.83     21033\n",
      "\n",
      "    accuracy                           0.83     42066\n",
      "   macro avg       0.83      0.83      0.83     42066\n",
      "weighted avg       0.83      0.83      0.83     42066\n",
      "\n"
     ]
    }
   ],
   "source": [
    "print(classification_report(y_smote,svc_smote_predict))"
   ]
  },
  {
   "cell_type": "code",
   "execution_count": 174,
   "id": "7169a70a",
   "metadata": {
    "scrolled": true
   },
   "outputs": [
    {
     "data": {
      "text/plain": [
       "<sklearn.metrics._plot.roc_curve.RocCurveDisplay at 0x1ef907c1210>"
      ]
     },
     "execution_count": 174,
     "metadata": {},
     "output_type": "execute_result"
    },
    {
     "data": {
      "image/png": "[encoded data removed]",
      "text/plain": [
       "<Figure size 640x480 with 1 Axes>"
      ]
     },
     "metadata": {},
     "output_type": "display_data"
    }
   ],
   "source": [
    "RocCurveDisplay.from_predictions(y_smote,gb_smote_predict)"
   ]
  },
  {
   "cell_type": "markdown",
   "id": "5d68a626",
   "metadata": {},
   "source": [
    "## KNN without smote"
   ]
  },
  {
   "cell_type": "code",
   "execution_count": 175,
   "id": "b292b6af",
   "metadata": {},
   "outputs": [],
   "source": [
    "from sklearn.neighbors import KNeighborsClassifier"
   ]
  },
  {
   "cell_type": "code",
   "execution_count": 176,
   "id": "60639880",
   "metadata": {},
   "outputs": [],
   "source": [
    "knc=KNeighborsClassifier(n_neighbors=3)"
   ]
  },
  {
   "cell_type": "code",
   "execution_count": 177,
   "id": "bf614e85",
   "metadata": {},
   "outputs": [],
   "source": [
    "kncmodel=knc.fit(x,y)"
   ]
  },
  {
   "cell_type": "code",
   "execution_count": 178,
   "id": "29a73716",
   "metadata": {},
   "outputs": [
    {
     "data": {
      "text/plain": [
       "0.8680121316508781"
      ]
     },
     "execution_count": 178,
     "metadata": {},
     "output_type": "execute_result"
    }
   ],
   "source": [
    "kncmodel.score(x,y)"
   ]
  },
  {
   "cell_type": "code",
   "execution_count": 179,
   "id": "6fa25ef9",
   "metadata": {},
   "outputs": [
    {
     "data": {
      "text/plain": [
       "array([0.77761138, 0.77012355, 0.78262498, 0.78468452, 0.77588467])"
      ]
     },
     "execution_count": 179,
     "metadata": {},
     "output_type": "execute_result"
    }
   ],
   "source": [
    "cross_val_score(knc,x,y)"
   ]
  },
  {
   "cell_type": "code",
   "execution_count": 180,
   "id": "67f4797c",
   "metadata": {},
   "outputs": [
    {
     "data": {
      "text/plain": [
       "0.7781858199999999"
      ]
     },
     "execution_count": 180,
     "metadata": {},
     "output_type": "execute_result"
    }
   ],
   "source": [
    "np.mean([0.77761138, 0.77012355, 0.78262498, 0.78468452, 0.77588467])"
   ]
  },
  {
   "cell_type": "code",
   "execution_count": 181,
   "id": "1a8db669",
   "metadata": {},
   "outputs": [],
   "source": [
    "kncpredict=kncmodel.predict(x)"
   ]
  },
  {
   "cell_type": "code",
   "execution_count": 182,
   "id": "50192bca",
   "metadata": {},
   "outputs": [
    {
     "data": {
      "text/html": [
       "<div>\n",
       "<style scoped>\n",
       "    .dataframe tbody tr th:only-of-type {\n",
       "        vertical-align: middle;\n",
       "    }\n",
       "\n",
       "    .dataframe tbody tr th {\n",
       "        vertical-align: top;\n",
       "    }\n",
       "\n",
       "    .dataframe thead th {\n",
       "        text-align: right;\n",
       "    }\n",
       "</style>\n",
       "<table border=\"1\" class=\"dataframe\">\n",
       "  <thead>\n",
       "    <tr style=\"text-align: right;\">\n",
       "      <th>col_0</th>\n",
       "      <th>0</th>\n",
       "      <th>1</th>\n",
       "    </tr>\n",
       "    <tr>\n",
       "      <th>row_0</th>\n",
       "      <th></th>\n",
       "      <th></th>\n",
       "    </tr>\n",
       "  </thead>\n",
       "  <tbody>\n",
       "    <tr>\n",
       "      <th>0</th>\n",
       "      <td>20126</td>\n",
       "      <td>907</td>\n",
       "    </tr>\n",
       "    <tr>\n",
       "      <th>1</th>\n",
       "      <td>2618</td>\n",
       "      <td>3056</td>\n",
       "    </tr>\n",
       "  </tbody>\n",
       "</table>\n",
       "</div>"
      ],
      "text/plain": [
       "col_0      0     1\n",
       "row_0             \n",
       "0      20126   907\n",
       "1       2618  3056"
      ]
     },
     "execution_count": 182,
     "metadata": {},
     "output_type": "execute_result"
    }
   ],
   "source": [
    "pd.crosstab(y,kncpredict)"
   ]
  },
  {
   "cell_type": "code",
   "execution_count": 183,
   "id": "1ad5ede9",
   "metadata": {},
   "outputs": [
    {
     "name": "stdout",
     "output_type": "stream",
     "text": [
      "              precision    recall  f1-score   support\n",
      "\n",
      "           0       0.88      0.96      0.92     21033\n",
      "           1       0.77      0.54      0.63      5674\n",
      "\n",
      "    accuracy                           0.87     26707\n",
      "   macro avg       0.83      0.75      0.78     26707\n",
      "weighted avg       0.86      0.87      0.86     26707\n",
      "\n"
     ]
    }
   ],
   "source": [
    "print(classification_report(y,kncpredict))"
   ]
  },
  {
   "cell_type": "code",
   "execution_count": 184,
   "id": "c5c8d0f4",
   "metadata": {},
   "outputs": [
    {
     "data": {
      "text/plain": [
       "<sklearn.metrics._plot.roc_curve.RocCurveDisplay at 0x1ef90720050>"
      ]
     },
     "execution_count": 184,
     "metadata": {},
     "output_type": "execute_result"
    },
    {
     "data": {
      "image/png": "[encoded data removed]",
      "text/plain": [
       "<Figure size 640x480 with 1 Axes>"
      ]
     },
     "metadata": {},
     "output_type": "display_data"
    }
   ],
   "source": [
    "RocCurveDisplay.from_predictions(y,kncpredict)"
   ]
  },
  {
   "cell_type": "markdown",
   "id": "707ed443",
   "metadata": {},
   "source": [
    "## KNN with smote"
   ]
  },
  {
   "cell_type": "code",
   "execution_count": 186,
   "id": "c66f903b",
   "metadata": {},
   "outputs": [],
   "source": [
    "knc_smote_model=knc.fit(x_smote,y_smote)"
   ]
  },
  {
   "cell_type": "code",
   "execution_count": 187,
   "id": "58335ce6",
   "metadata": {},
   "outputs": [
    {
     "data": {
      "text/plain": [
       "0.8931916512147577"
      ]
     },
     "execution_count": 187,
     "metadata": {},
     "output_type": "execute_result"
    }
   ],
   "source": [
    "knc_smote_model.score(x_smote,y_smote)"
   ]
  },
  {
   "cell_type": "code",
   "execution_count": 188,
   "id": "9024aedc",
   "metadata": {},
   "outputs": [
    {
     "data": {
      "text/plain": [
       "array([0.65771333, 0.78390586, 0.85094497, 0.85189588, 0.85070724])"
      ]
     },
     "execution_count": 188,
     "metadata": {},
     "output_type": "execute_result"
    }
   ],
   "source": [
    "cross_val_score(knc_smote_model,x_smote,y_smote)"
   ]
  },
  {
   "cell_type": "code",
   "execution_count": 189,
   "id": "3e2d5617",
   "metadata": {},
   "outputs": [
    {
     "data": {
      "text/plain": [
       "0.7990334560000001"
      ]
     },
     "execution_count": 189,
     "metadata": {},
     "output_type": "execute_result"
    }
   ],
   "source": [
    "np.mean([0.65771333, 0.78390586, 0.85094497, 0.85189588, 0.85070724])"
   ]
  },
  {
   "cell_type": "code",
   "execution_count": 190,
   "id": "44e99485",
   "metadata": {},
   "outputs": [],
   "source": [
    "knc_smote_predict=knc_smote_model.predict(x_smote)"
   ]
  },
  {
   "cell_type": "code",
   "execution_count": 191,
   "id": "e1194f70",
   "metadata": {},
   "outputs": [
    {
     "data": {
      "text/html": [
       "<div>\n",
       "<style scoped>\n",
       "    .dataframe tbody tr th:only-of-type {\n",
       "        vertical-align: middle;\n",
       "    }\n",
       "\n",
       "    .dataframe tbody tr th {\n",
       "        vertical-align: top;\n",
       "    }\n",
       "\n",
       "    .dataframe thead th {\n",
       "        text-align: right;\n",
       "    }\n",
       "</style>\n",
       "<table border=\"1\" class=\"dataframe\">\n",
       "  <thead>\n",
       "    <tr style=\"text-align: right;\">\n",
       "      <th>col_0</th>\n",
       "      <th>0</th>\n",
       "      <th>1</th>\n",
       "    </tr>\n",
       "    <tr>\n",
       "      <th>row_0</th>\n",
       "      <th></th>\n",
       "      <th></th>\n",
       "    </tr>\n",
       "  </thead>\n",
       "  <tbody>\n",
       "    <tr>\n",
       "      <th>0</th>\n",
       "      <td>18346</td>\n",
       "      <td>2687</td>\n",
       "    </tr>\n",
       "    <tr>\n",
       "      <th>1</th>\n",
       "      <td>1806</td>\n",
       "      <td>19227</td>\n",
       "    </tr>\n",
       "  </tbody>\n",
       "</table>\n",
       "</div>"
      ],
      "text/plain": [
       "col_0      0      1\n",
       "row_0              \n",
       "0      18346   2687\n",
       "1       1806  19227"
      ]
     },
     "execution_count": 191,
     "metadata": {},
     "output_type": "execute_result"
    }
   ],
   "source": [
    "pd.crosstab(y_smote,knc_smote_predict)"
   ]
  },
  {
   "cell_type": "code",
   "execution_count": 192,
   "id": "25c3b32f",
   "metadata": {},
   "outputs": [
    {
     "name": "stdout",
     "output_type": "stream",
     "text": [
      "              precision    recall  f1-score   support\n",
      "\n",
      "           0       0.91      0.87      0.89     21033\n",
      "           1       0.88      0.91      0.90     21033\n",
      "\n",
      "    accuracy                           0.89     42066\n",
      "   macro avg       0.89      0.89      0.89     42066\n",
      "weighted avg       0.89      0.89      0.89     42066\n",
      "\n"
     ]
    }
   ],
   "source": [
    "print(classification_report(y_smote,knc_smote_predict))"
   ]
  },
  {
   "cell_type": "code",
   "execution_count": 193,
   "id": "1eaaf191",
   "metadata": {
    "scrolled": true
   },
   "outputs": [
    {
     "data": {
      "text/plain": [
       "<sklearn.metrics._plot.roc_curve.RocCurveDisplay at 0x1ef906d83d0>"
      ]
     },
     "execution_count": 193,
     "metadata": {},
     "output_type": "execute_result"
    },
    {
     "data": {
      "image/png": "[encoded data removed]",
      "text/plain": [
       "<Figure size 640x480 with 1 Axes>"
      ]
     },
     "metadata": {},
     "output_type": "display_data"
    }
   ],
   "source": [
    "RocCurveDisplay.from_predictions(y_smote,knc_smote_predict)"
   ]
  },
  {
   "cell_type": "markdown",
   "id": "0579f05c",
   "metadata": {},
   "source": [
    "## GaussionNB without smote"
   ]
  },
  {
   "cell_type": "code",
   "execution_count": 194,
   "id": "33605b47",
   "metadata": {},
   "outputs": [],
   "source": [
    "from sklearn.naive_bayes import GaussianNB"
   ]
  },
  {
   "cell_type": "code",
   "execution_count": 195,
   "id": "0033cedd",
   "metadata": {},
   "outputs": [],
   "source": [
    "gn=GaussianNB()"
   ]
  },
  {
   "cell_type": "code",
   "execution_count": 196,
   "id": "13c741ca",
   "metadata": {},
   "outputs": [],
   "source": [
    "gnmodel=gn.fit(x,y)"
   ]
  },
  {
   "cell_type": "code",
   "execution_count": 197,
   "id": "5da8c4c5",
   "metadata": {},
   "outputs": [
    {
     "data": {
      "text/plain": [
       "0.7654921930579998"
      ]
     },
     "execution_count": 197,
     "metadata": {},
     "output_type": "execute_result"
    }
   ],
   "source": [
    "gnmodel.score(x,y)"
   ]
  },
  {
   "cell_type": "code",
   "execution_count": 198,
   "id": "b4ffd597",
   "metadata": {},
   "outputs": [],
   "source": [
    "gnpredict=gnmodel.predict(x)"
   ]
  },
  {
   "cell_type": "code",
   "execution_count": 199,
   "id": "e840503c",
   "metadata": {},
   "outputs": [
    {
     "data": {
      "text/html": [
       "<div>\n",
       "<style scoped>\n",
       "    .dataframe tbody tr th:only-of-type {\n",
       "        vertical-align: middle;\n",
       "    }\n",
       "\n",
       "    .dataframe tbody tr th {\n",
       "        vertical-align: top;\n",
       "    }\n",
       "\n",
       "    .dataframe thead th {\n",
       "        text-align: right;\n",
       "    }\n",
       "</style>\n",
       "<table border=\"1\" class=\"dataframe\">\n",
       "  <thead>\n",
       "    <tr style=\"text-align: right;\">\n",
       "      <th>col_0</th>\n",
       "      <th>0</th>\n",
       "      <th>1</th>\n",
       "    </tr>\n",
       "    <tr>\n",
       "      <th>row_0</th>\n",
       "      <th></th>\n",
       "      <th></th>\n",
       "    </tr>\n",
       "  </thead>\n",
       "  <tbody>\n",
       "    <tr>\n",
       "      <th>0</th>\n",
       "      <td>16928</td>\n",
       "      <td>4105</td>\n",
       "    </tr>\n",
       "    <tr>\n",
       "      <th>1</th>\n",
       "      <td>2158</td>\n",
       "      <td>3516</td>\n",
       "    </tr>\n",
       "  </tbody>\n",
       "</table>\n",
       "</div>"
      ],
      "text/plain": [
       "col_0      0     1\n",
       "row_0             \n",
       "0      16928  4105\n",
       "1       2158  3516"
      ]
     },
     "execution_count": 199,
     "metadata": {},
     "output_type": "execute_result"
    }
   ],
   "source": [
    "pd.crosstab(y,gnpredict)"
   ]
  },
  {
   "cell_type": "code",
   "execution_count": 200,
   "id": "b66075ef",
   "metadata": {},
   "outputs": [
    {
     "data": {
      "text/plain": [
       "array([0.76731561, 0.76113815, 0.77101666, 0.76146789, 0.76502528])"
      ]
     },
     "execution_count": 200,
     "metadata": {},
     "output_type": "execute_result"
    }
   ],
   "source": [
    "cross_val_score(gn,x,y)"
   ]
  },
  {
   "cell_type": "code",
   "execution_count": 201,
   "id": "58e0248c",
   "metadata": {},
   "outputs": [
    {
     "data": {
      "text/plain": [
       "0.765192718"
      ]
     },
     "execution_count": 201,
     "metadata": {},
     "output_type": "execute_result"
    }
   ],
   "source": [
    "np.mean([0.76731561, 0.76113815, 0.77101666, 0.76146789, 0.76502528])"
   ]
  },
  {
   "cell_type": "code",
   "execution_count": 202,
   "id": "57785243",
   "metadata": {},
   "outputs": [
    {
     "name": "stdout",
     "output_type": "stream",
     "text": [
      "              precision    recall  f1-score   support\n",
      "\n",
      "           0       0.89      0.80      0.84     21033\n",
      "           1       0.46      0.62      0.53      5674\n",
      "\n",
      "    accuracy                           0.77     26707\n",
      "   macro avg       0.67      0.71      0.69     26707\n",
      "weighted avg       0.80      0.77      0.78     26707\n",
      "\n"
     ]
    }
   ],
   "source": [
    "print(classification_report(y,gnpredict))"
   ]
  },
  {
   "cell_type": "code",
   "execution_count": 203,
   "id": "a2abff4e",
   "metadata": {},
   "outputs": [
    {
     "data": {
      "text/plain": [
       "<sklearn.metrics._plot.roc_curve.RocCurveDisplay at 0x1ef906b31d0>"
      ]
     },
     "execution_count": 203,
     "metadata": {},
     "output_type": "execute_result"
    },
    {
     "data": {
      "image/png": "[encoded data removed]",
      "text/plain": [
       "<Figure size 640x480 with 1 Axes>"
      ]
     },
     "metadata": {},
     "output_type": "display_data"
    }
   ],
   "source": [
    "RocCurveDisplay.from_predictions(y,gnpredict)"
   ]
  },
  {
   "cell_type": "markdown",
   "id": "779a23c9",
   "metadata": {},
   "source": [
    "## GaussionNB with smote"
   ]
  },
  {
   "cell_type": "code",
   "execution_count": 204,
   "id": "78a191c4",
   "metadata": {},
   "outputs": [],
   "source": [
    "gn_smote_model=gn.fit(x_smote,y_smote)"
   ]
  },
  {
   "cell_type": "code",
   "execution_count": 205,
   "id": "26b01030",
   "metadata": {},
   "outputs": [
    {
     "data": {
      "text/plain": [
       "0.7577616127038463"
      ]
     },
     "execution_count": 205,
     "metadata": {},
     "output_type": "execute_result"
    }
   ],
   "source": [
    "gn_smote_model.score(x_smote,y_smote)"
   ]
  },
  {
   "cell_type": "code",
   "execution_count": 206,
   "id": "4b8f96ac",
   "metadata": {},
   "outputs": [
    {
     "data": {
      "text/plain": [
       "array([0.62039458, 0.7412338 , 0.79721859, 0.79709973, 0.79698086])"
      ]
     },
     "execution_count": 206,
     "metadata": {},
     "output_type": "execute_result"
    }
   ],
   "source": [
    "cross_val_score(gn_smote_model,x_smote,y_smote)"
   ]
  },
  {
   "cell_type": "code",
   "execution_count": 207,
   "id": "d606a9ae",
   "metadata": {},
   "outputs": [
    {
     "data": {
      "text/plain": [
       "0.750585512"
      ]
     },
     "execution_count": 207,
     "metadata": {},
     "output_type": "execute_result"
    }
   ],
   "source": [
    "np.mean([0.62039458, 0.7412338 , 0.79721859, 0.79709973, 0.79698086])"
   ]
  },
  {
   "cell_type": "code",
   "execution_count": 208,
   "id": "61b2f96a",
   "metadata": {},
   "outputs": [],
   "source": [
    "gn_smote_predict=gn_smote_model.predict(x_smote)"
   ]
  },
  {
   "cell_type": "code",
   "execution_count": 209,
   "id": "ffe30a1f",
   "metadata": {},
   "outputs": [
    {
     "data": {
      "text/html": [
       "<div>\n",
       "<style scoped>\n",
       "    .dataframe tbody tr th:only-of-type {\n",
       "        vertical-align: middle;\n",
       "    }\n",
       "\n",
       "    .dataframe tbody tr th {\n",
       "        vertical-align: top;\n",
       "    }\n",
       "\n",
       "    .dataframe thead th {\n",
       "        text-align: right;\n",
       "    }\n",
       "</style>\n",
       "<table border=\"1\" class=\"dataframe\">\n",
       "  <thead>\n",
       "    <tr style=\"text-align: right;\">\n",
       "      <th>col_0</th>\n",
       "      <th>0</th>\n",
       "      <th>1</th>\n",
       "    </tr>\n",
       "    <tr>\n",
       "      <th>row_0</th>\n",
       "      <th></th>\n",
       "      <th></th>\n",
       "    </tr>\n",
       "  </thead>\n",
       "  <tbody>\n",
       "    <tr>\n",
       "      <th>0</th>\n",
       "      <td>14708</td>\n",
       "      <td>6325</td>\n",
       "    </tr>\n",
       "    <tr>\n",
       "      <th>1</th>\n",
       "      <td>3865</td>\n",
       "      <td>17168</td>\n",
       "    </tr>\n",
       "  </tbody>\n",
       "</table>\n",
       "</div>"
      ],
      "text/plain": [
       "col_0      0      1\n",
       "row_0              \n",
       "0      14708   6325\n",
       "1       3865  17168"
      ]
     },
     "execution_count": 209,
     "metadata": {},
     "output_type": "execute_result"
    }
   ],
   "source": [
    "pd.crosstab(y_smote,gn_smote_predict)"
   ]
  },
  {
   "cell_type": "code",
   "execution_count": 210,
   "id": "be9ad684",
   "metadata": {},
   "outputs": [
    {
     "name": "stdout",
     "output_type": "stream",
     "text": [
      "              precision    recall  f1-score   support\n",
      "\n",
      "           0       0.79      0.70      0.74     21033\n",
      "           1       0.73      0.82      0.77     21033\n",
      "\n",
      "    accuracy                           0.76     42066\n",
      "   macro avg       0.76      0.76      0.76     42066\n",
      "weighted avg       0.76      0.76      0.76     42066\n",
      "\n"
     ]
    }
   ],
   "source": [
    "print(classification_report(y_smote,gn_smote_predict))"
   ]
  },
  {
   "cell_type": "code",
   "execution_count": 211,
   "id": "f70de6b5",
   "metadata": {},
   "outputs": [
    {
     "data": {
      "text/plain": [
       "<sklearn.metrics._plot.roc_curve.RocCurveDisplay at 0x1efb7af3a50>"
      ]
     },
     "execution_count": 211,
     "metadata": {},
     "output_type": "execute_result"
    },
    {
     "data": {
      "image/png": "[encoded data removed]",
      "text/plain": [
       "<Figure size 640x480 with 1 Axes>"
      ]
     },
     "metadata": {},
     "output_type": "display_data"
    }
   ],
   "source": [
    "RocCurveDisplay.from_predictions(y_smote,gn_smote_predict)"
   ]
  },
  {
   "cell_type": "markdown",
   "id": "bce58965",
   "metadata": {},
   "source": [
    "## Summary\n",
    "\n",
    "### According to the Score,Confusionmatix,Classification report and ROCcurve of the all build models comparitively RandomForest smote and GradientBoosting smote classification algorithms are the best fit models for this data"
   ]
  },
  {
   "cell_type": "code",
   "execution_count": null,
   "id": "b6f85e14",
   "metadata": {},
   "outputs": [],
   "source": []
  }
 ],
 "metadata": {
  "kernelspec": {
   "display_name": "Python 3 (ipykernel)",
   "language": "python",
   "name": "python3"
  },
  "language_info": {
   "codemirror_mode": {
    "name": "ipython",
    "version": 3
   },
   "file_extension": ".py",
   "mimetype": "text/x-python",
   "name": "python",
   "nbconvert_exporter": "python",
   "pygments_lexer": "ipython3",
   "version": "3.11.5"
  }
 },
 "nbformat": 4,
 "nbformat_minor": 5
}
